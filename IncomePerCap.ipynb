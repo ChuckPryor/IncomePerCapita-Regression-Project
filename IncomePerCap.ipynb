{
 "cells": [
  {
   "cell_type": "markdown",
   "metadata": {},
   "source": [
    "## Predicting Income Per Capita\n",
    "\n",
    "### A Multilinear Regression Model\n",
    "\n",
    "*by Charles Pryor & Akshay Indusekar*"
   ]
  },
  {
   "cell_type": "markdown",
   "metadata": {},
   "source": [
    "We started by importing all of the necessary packages that we knew we would need.  I keep these in a separate file and import all of them at the same time whenever there is a project."
   ]
  },
  {
   "cell_type": "code",
   "execution_count": 2,
   "metadata": {},
   "outputs": [],
   "source": [
    "from libimport import *\n",
    "%matplotlib inline"
   ]
  },
  {
   "cell_type": "markdown",
   "metadata": {},
   "source": [
    "We found our data set on Kaggle.  This reflects the variables in which we want to produce a model that will predict income by state and several variables in which we ultimately decided upon as we perform metrics which tell us which is relevant.  We imported our data into pandas DataFrame.  Since this is such a large dataset, we wish to have the option to view more rows when necessary."
   ]
  },
  {
   "cell_type": "code",
   "execution_count": 3,
   "metadata": {},
   "outputs": [
    {
     "data": {
      "text/html": [
       "<div>\n",
       "<style scoped>\n",
       "    .dataframe tbody tr th:only-of-type {\n",
       "        vertical-align: middle;\n",
       "    }\n",
       "\n",
       "    .dataframe tbody tr th {\n",
       "        vertical-align: top;\n",
       "    }\n",
       "\n",
       "    .dataframe thead th {\n",
       "        text-align: right;\n",
       "    }\n",
       "</style>\n",
       "<table border=\"1\" class=\"dataframe\">\n",
       "  <thead>\n",
       "    <tr style=\"text-align: right;\">\n",
       "      <th></th>\n",
       "      <th>TractId</th>\n",
       "      <th>State</th>\n",
       "      <th>County</th>\n",
       "      <th>TotalPop</th>\n",
       "      <th>Men</th>\n",
       "      <th>Women</th>\n",
       "      <th>Hispanic</th>\n",
       "      <th>White</th>\n",
       "      <th>Black</th>\n",
       "      <th>Native</th>\n",
       "      <th>Asian</th>\n",
       "      <th>Pacific</th>\n",
       "      <th>VotingAgeCitizen</th>\n",
       "      <th>Income</th>\n",
       "      <th>IncomeErr</th>\n",
       "      <th>IncomePerCap</th>\n",
       "      <th>IncomePerCapErr</th>\n",
       "      <th>Poverty</th>\n",
       "      <th>ChildPoverty</th>\n",
       "      <th>Professional</th>\n",
       "      <th>Service</th>\n",
       "      <th>Office</th>\n",
       "      <th>Construction</th>\n",
       "      <th>Production</th>\n",
       "      <th>Drive</th>\n",
       "      <th>Carpool</th>\n",
       "      <th>Transit</th>\n",
       "      <th>Walk</th>\n",
       "      <th>OtherTransp</th>\n",
       "      <th>WorkAtHome</th>\n",
       "      <th>MeanCommute</th>\n",
       "      <th>Employed</th>\n",
       "      <th>PrivateWork</th>\n",
       "      <th>PublicWork</th>\n",
       "      <th>SelfEmployed</th>\n",
       "      <th>FamilyWork</th>\n",
       "      <th>Unemployment</th>\n",
       "    </tr>\n",
       "  </thead>\n",
       "  <tbody>\n",
       "    <tr>\n",
       "      <td>0</td>\n",
       "      <td>1001020100</td>\n",
       "      <td>Alabama</td>\n",
       "      <td>Autauga County</td>\n",
       "      <td>1845</td>\n",
       "      <td>899</td>\n",
       "      <td>946</td>\n",
       "      <td>2.4</td>\n",
       "      <td>86.3</td>\n",
       "      <td>5.2</td>\n",
       "      <td>0.0</td>\n",
       "      <td>1.2</td>\n",
       "      <td>0.0</td>\n",
       "      <td>1407</td>\n",
       "      <td>67826.0</td>\n",
       "      <td>14560.0</td>\n",
       "      <td>33018.0</td>\n",
       "      <td>6294.0</td>\n",
       "      <td>10.7</td>\n",
       "      <td>20.8</td>\n",
       "      <td>38.5</td>\n",
       "      <td>15.6</td>\n",
       "      <td>22.8</td>\n",
       "      <td>10.8</td>\n",
       "      <td>12.4</td>\n",
       "      <td>94.2</td>\n",
       "      <td>3.3</td>\n",
       "      <td>0.0</td>\n",
       "      <td>0.5</td>\n",
       "      <td>0.0</td>\n",
       "      <td>2.1</td>\n",
       "      <td>24.5</td>\n",
       "      <td>881</td>\n",
       "      <td>74.2</td>\n",
       "      <td>21.2</td>\n",
       "      <td>4.5</td>\n",
       "      <td>0.0</td>\n",
       "      <td>4.6</td>\n",
       "    </tr>\n",
       "    <tr>\n",
       "      <td>1</td>\n",
       "      <td>1001020200</td>\n",
       "      <td>Alabama</td>\n",
       "      <td>Autauga County</td>\n",
       "      <td>2172</td>\n",
       "      <td>1167</td>\n",
       "      <td>1005</td>\n",
       "      <td>1.1</td>\n",
       "      <td>41.6</td>\n",
       "      <td>54.5</td>\n",
       "      <td>0.0</td>\n",
       "      <td>1.0</td>\n",
       "      <td>0.0</td>\n",
       "      <td>1652</td>\n",
       "      <td>41287.0</td>\n",
       "      <td>3819.0</td>\n",
       "      <td>18996.0</td>\n",
       "      <td>2453.0</td>\n",
       "      <td>22.4</td>\n",
       "      <td>35.8</td>\n",
       "      <td>30.5</td>\n",
       "      <td>24.9</td>\n",
       "      <td>22.9</td>\n",
       "      <td>6.3</td>\n",
       "      <td>15.4</td>\n",
       "      <td>90.5</td>\n",
       "      <td>9.1</td>\n",
       "      <td>0.0</td>\n",
       "      <td>0.0</td>\n",
       "      <td>0.5</td>\n",
       "      <td>0.0</td>\n",
       "      <td>22.2</td>\n",
       "      <td>852</td>\n",
       "      <td>75.9</td>\n",
       "      <td>15.0</td>\n",
       "      <td>9.0</td>\n",
       "      <td>0.0</td>\n",
       "      <td>3.4</td>\n",
       "    </tr>\n",
       "    <tr>\n",
       "      <td>2</td>\n",
       "      <td>1001020300</td>\n",
       "      <td>Alabama</td>\n",
       "      <td>Autauga County</td>\n",
       "      <td>3385</td>\n",
       "      <td>1533</td>\n",
       "      <td>1852</td>\n",
       "      <td>8.0</td>\n",
       "      <td>61.4</td>\n",
       "      <td>26.5</td>\n",
       "      <td>0.6</td>\n",
       "      <td>0.7</td>\n",
       "      <td>0.4</td>\n",
       "      <td>2480</td>\n",
       "      <td>46806.0</td>\n",
       "      <td>9496.0</td>\n",
       "      <td>21236.0</td>\n",
       "      <td>2562.0</td>\n",
       "      <td>14.7</td>\n",
       "      <td>21.1</td>\n",
       "      <td>27.9</td>\n",
       "      <td>19.4</td>\n",
       "      <td>33.3</td>\n",
       "      <td>9.9</td>\n",
       "      <td>9.6</td>\n",
       "      <td>88.3</td>\n",
       "      <td>8.4</td>\n",
       "      <td>0.0</td>\n",
       "      <td>1.0</td>\n",
       "      <td>0.8</td>\n",
       "      <td>1.5</td>\n",
       "      <td>23.1</td>\n",
       "      <td>1482</td>\n",
       "      <td>73.3</td>\n",
       "      <td>21.1</td>\n",
       "      <td>4.8</td>\n",
       "      <td>0.7</td>\n",
       "      <td>4.7</td>\n",
       "    </tr>\n",
       "    <tr>\n",
       "      <td>3</td>\n",
       "      <td>1001020400</td>\n",
       "      <td>Alabama</td>\n",
       "      <td>Autauga County</td>\n",
       "      <td>4267</td>\n",
       "      <td>2001</td>\n",
       "      <td>2266</td>\n",
       "      <td>9.6</td>\n",
       "      <td>80.3</td>\n",
       "      <td>7.1</td>\n",
       "      <td>0.5</td>\n",
       "      <td>0.2</td>\n",
       "      <td>0.0</td>\n",
       "      <td>3257</td>\n",
       "      <td>55895.0</td>\n",
       "      <td>4369.0</td>\n",
       "      <td>28068.0</td>\n",
       "      <td>3190.0</td>\n",
       "      <td>2.3</td>\n",
       "      <td>1.7</td>\n",
       "      <td>29.0</td>\n",
       "      <td>16.6</td>\n",
       "      <td>25.8</td>\n",
       "      <td>9.1</td>\n",
       "      <td>19.5</td>\n",
       "      <td>82.3</td>\n",
       "      <td>11.2</td>\n",
       "      <td>0.0</td>\n",
       "      <td>1.5</td>\n",
       "      <td>2.9</td>\n",
       "      <td>2.1</td>\n",
       "      <td>25.9</td>\n",
       "      <td>1849</td>\n",
       "      <td>75.8</td>\n",
       "      <td>19.7</td>\n",
       "      <td>4.5</td>\n",
       "      <td>0.0</td>\n",
       "      <td>6.1</td>\n",
       "    </tr>\n",
       "    <tr>\n",
       "      <td>4</td>\n",
       "      <td>1001020500</td>\n",
       "      <td>Alabama</td>\n",
       "      <td>Autauga County</td>\n",
       "      <td>9965</td>\n",
       "      <td>5054</td>\n",
       "      <td>4911</td>\n",
       "      <td>0.9</td>\n",
       "      <td>77.5</td>\n",
       "      <td>16.4</td>\n",
       "      <td>0.0</td>\n",
       "      <td>3.1</td>\n",
       "      <td>0.0</td>\n",
       "      <td>7229</td>\n",
       "      <td>68143.0</td>\n",
       "      <td>14424.0</td>\n",
       "      <td>36905.0</td>\n",
       "      <td>10706.0</td>\n",
       "      <td>12.2</td>\n",
       "      <td>17.9</td>\n",
       "      <td>48.8</td>\n",
       "      <td>13.8</td>\n",
       "      <td>20.5</td>\n",
       "      <td>3.5</td>\n",
       "      <td>13.4</td>\n",
       "      <td>86.9</td>\n",
       "      <td>11.2</td>\n",
       "      <td>0.0</td>\n",
       "      <td>0.8</td>\n",
       "      <td>0.3</td>\n",
       "      <td>0.7</td>\n",
       "      <td>21.0</td>\n",
       "      <td>4787</td>\n",
       "      <td>71.4</td>\n",
       "      <td>24.1</td>\n",
       "      <td>4.5</td>\n",
       "      <td>0.0</td>\n",
       "      <td>2.3</td>\n",
       "    </tr>\n",
       "    <tr>\n",
       "      <td>...</td>\n",
       "      <td>...</td>\n",
       "      <td>...</td>\n",
       "      <td>...</td>\n",
       "      <td>...</td>\n",
       "      <td>...</td>\n",
       "      <td>...</td>\n",
       "      <td>...</td>\n",
       "      <td>...</td>\n",
       "      <td>...</td>\n",
       "      <td>...</td>\n",
       "      <td>...</td>\n",
       "      <td>...</td>\n",
       "      <td>...</td>\n",
       "      <td>...</td>\n",
       "      <td>...</td>\n",
       "      <td>...</td>\n",
       "      <td>...</td>\n",
       "      <td>...</td>\n",
       "      <td>...</td>\n",
       "      <td>...</td>\n",
       "      <td>...</td>\n",
       "      <td>...</td>\n",
       "      <td>...</td>\n",
       "      <td>...</td>\n",
       "      <td>...</td>\n",
       "      <td>...</td>\n",
       "      <td>...</td>\n",
       "      <td>...</td>\n",
       "      <td>...</td>\n",
       "      <td>...</td>\n",
       "      <td>...</td>\n",
       "      <td>...</td>\n",
       "      <td>...</td>\n",
       "      <td>...</td>\n",
       "      <td>...</td>\n",
       "      <td>...</td>\n",
       "      <td>...</td>\n",
       "    </tr>\n",
       "    <tr>\n",
       "      <td>73996</td>\n",
       "      <td>72153750501</td>\n",
       "      <td>Puerto Rico</td>\n",
       "      <td>Yauco Municipio</td>\n",
       "      <td>6011</td>\n",
       "      <td>3035</td>\n",
       "      <td>2976</td>\n",
       "      <td>99.7</td>\n",
       "      <td>0.3</td>\n",
       "      <td>0.0</td>\n",
       "      <td>0.0</td>\n",
       "      <td>0.0</td>\n",
       "      <td>0.0</td>\n",
       "      <td>4329</td>\n",
       "      <td>20522.0</td>\n",
       "      <td>2879.0</td>\n",
       "      <td>8643.0</td>\n",
       "      <td>1218.0</td>\n",
       "      <td>39.4</td>\n",
       "      <td>61.8</td>\n",
       "      <td>42.2</td>\n",
       "      <td>25.3</td>\n",
       "      <td>18.0</td>\n",
       "      <td>7.7</td>\n",
       "      <td>6.9</td>\n",
       "      <td>76.1</td>\n",
       "      <td>13.5</td>\n",
       "      <td>6.2</td>\n",
       "      <td>0.5</td>\n",
       "      <td>0.0</td>\n",
       "      <td>3.6</td>\n",
       "      <td>26.9</td>\n",
       "      <td>1576</td>\n",
       "      <td>59.2</td>\n",
       "      <td>33.8</td>\n",
       "      <td>7.0</td>\n",
       "      <td>0.0</td>\n",
       "      <td>20.8</td>\n",
       "    </tr>\n",
       "    <tr>\n",
       "      <td>73997</td>\n",
       "      <td>72153750502</td>\n",
       "      <td>Puerto Rico</td>\n",
       "      <td>Yauco Municipio</td>\n",
       "      <td>2342</td>\n",
       "      <td>959</td>\n",
       "      <td>1383</td>\n",
       "      <td>99.1</td>\n",
       "      <td>0.9</td>\n",
       "      <td>0.0</td>\n",
       "      <td>0.0</td>\n",
       "      <td>0.0</td>\n",
       "      <td>0.0</td>\n",
       "      <td>1716</td>\n",
       "      <td>24605.0</td>\n",
       "      <td>6027.0</td>\n",
       "      <td>11109.0</td>\n",
       "      <td>1829.0</td>\n",
       "      <td>35.5</td>\n",
       "      <td>39.9</td>\n",
       "      <td>34.4</td>\n",
       "      <td>13.4</td>\n",
       "      <td>23.1</td>\n",
       "      <td>12.3</td>\n",
       "      <td>16.8</td>\n",
       "      <td>82.0</td>\n",
       "      <td>7.5</td>\n",
       "      <td>9.2</td>\n",
       "      <td>0.0</td>\n",
       "      <td>0.0</td>\n",
       "      <td>1.3</td>\n",
       "      <td>25.3</td>\n",
       "      <td>666</td>\n",
       "      <td>58.4</td>\n",
       "      <td>35.4</td>\n",
       "      <td>6.2</td>\n",
       "      <td>0.0</td>\n",
       "      <td>26.3</td>\n",
       "    </tr>\n",
       "    <tr>\n",
       "      <td>73998</td>\n",
       "      <td>72153750503</td>\n",
       "      <td>Puerto Rico</td>\n",
       "      <td>Yauco Municipio</td>\n",
       "      <td>2218</td>\n",
       "      <td>1001</td>\n",
       "      <td>1217</td>\n",
       "      <td>99.5</td>\n",
       "      <td>0.2</td>\n",
       "      <td>0.0</td>\n",
       "      <td>0.0</td>\n",
       "      <td>0.2</td>\n",
       "      <td>0.0</td>\n",
       "      <td>1616</td>\n",
       "      <td>18225.0</td>\n",
       "      <td>4913.0</td>\n",
       "      <td>9603.0</td>\n",
       "      <td>2162.0</td>\n",
       "      <td>52.8</td>\n",
       "      <td>77.2</td>\n",
       "      <td>29.3</td>\n",
       "      <td>23.6</td>\n",
       "      <td>32.9</td>\n",
       "      <td>4.6</td>\n",
       "      <td>9.6</td>\n",
       "      <td>85.3</td>\n",
       "      <td>7.8</td>\n",
       "      <td>0.0</td>\n",
       "      <td>3.4</td>\n",
       "      <td>0.0</td>\n",
       "      <td>3.4</td>\n",
       "      <td>23.5</td>\n",
       "      <td>560</td>\n",
       "      <td>57.5</td>\n",
       "      <td>34.5</td>\n",
       "      <td>8.0</td>\n",
       "      <td>0.0</td>\n",
       "      <td>23.0</td>\n",
       "    </tr>\n",
       "    <tr>\n",
       "      <td>73999</td>\n",
       "      <td>72153750601</td>\n",
       "      <td>Puerto Rico</td>\n",
       "      <td>Yauco Municipio</td>\n",
       "      <td>4380</td>\n",
       "      <td>1964</td>\n",
       "      <td>2416</td>\n",
       "      <td>100.0</td>\n",
       "      <td>0.0</td>\n",
       "      <td>0.0</td>\n",
       "      <td>0.0</td>\n",
       "      <td>0.0</td>\n",
       "      <td>0.0</td>\n",
       "      <td>3346</td>\n",
       "      <td>18688.0</td>\n",
       "      <td>4501.0</td>\n",
       "      <td>8331.0</td>\n",
       "      <td>1280.0</td>\n",
       "      <td>50.1</td>\n",
       "      <td>58.0</td>\n",
       "      <td>29.8</td>\n",
       "      <td>20.6</td>\n",
       "      <td>28.8</td>\n",
       "      <td>13.9</td>\n",
       "      <td>6.9</td>\n",
       "      <td>97.1</td>\n",
       "      <td>1.8</td>\n",
       "      <td>1.1</td>\n",
       "      <td>0.0</td>\n",
       "      <td>0.0</td>\n",
       "      <td>0.0</td>\n",
       "      <td>24.1</td>\n",
       "      <td>1062</td>\n",
       "      <td>67.7</td>\n",
       "      <td>30.4</td>\n",
       "      <td>1.9</td>\n",
       "      <td>0.0</td>\n",
       "      <td>29.5</td>\n",
       "    </tr>\n",
       "    <tr>\n",
       "      <td>74000</td>\n",
       "      <td>72153750602</td>\n",
       "      <td>Puerto Rico</td>\n",
       "      <td>Yauco Municipio</td>\n",
       "      <td>3001</td>\n",
       "      <td>1343</td>\n",
       "      <td>1658</td>\n",
       "      <td>99.2</td>\n",
       "      <td>0.8</td>\n",
       "      <td>0.0</td>\n",
       "      <td>0.0</td>\n",
       "      <td>0.0</td>\n",
       "      <td>0.0</td>\n",
       "      <td>2641</td>\n",
       "      <td>9458.0</td>\n",
       "      <td>3332.0</td>\n",
       "      <td>6251.0</td>\n",
       "      <td>1683.0</td>\n",
       "      <td>69.4</td>\n",
       "      <td>72.2</td>\n",
       "      <td>12.4</td>\n",
       "      <td>23.8</td>\n",
       "      <td>19.1</td>\n",
       "      <td>17.8</td>\n",
       "      <td>26.9</td>\n",
       "      <td>79.6</td>\n",
       "      <td>5.6</td>\n",
       "      <td>1.0</td>\n",
       "      <td>4.9</td>\n",
       "      <td>0.0</td>\n",
       "      <td>8.9</td>\n",
       "      <td>21.6</td>\n",
       "      <td>759</td>\n",
       "      <td>75.9</td>\n",
       "      <td>19.1</td>\n",
       "      <td>5.0</td>\n",
       "      <td>0.0</td>\n",
       "      <td>17.9</td>\n",
       "    </tr>\n",
       "  </tbody>\n",
       "</table>\n",
       "<p>74001 rows × 37 columns</p>\n",
       "</div>"
      ],
      "text/plain": [
       "           TractId        State           County  TotalPop   Men  Women  Hispanic  White  Black  \\\n",
       "0       1001020100      Alabama   Autauga County      1845   899    946       2.4   86.3    5.2   \n",
       "1       1001020200      Alabama   Autauga County      2172  1167   1005       1.1   41.6   54.5   \n",
       "2       1001020300      Alabama   Autauga County      3385  1533   1852       8.0   61.4   26.5   \n",
       "3       1001020400      Alabama   Autauga County      4267  2001   2266       9.6   80.3    7.1   \n",
       "4       1001020500      Alabama   Autauga County      9965  5054   4911       0.9   77.5   16.4   \n",
       "...            ...          ...              ...       ...   ...    ...       ...    ...    ...   \n",
       "73996  72153750501  Puerto Rico  Yauco Municipio      6011  3035   2976      99.7    0.3    0.0   \n",
       "73997  72153750502  Puerto Rico  Yauco Municipio      2342   959   1383      99.1    0.9    0.0   \n",
       "73998  72153750503  Puerto Rico  Yauco Municipio      2218  1001   1217      99.5    0.2    0.0   \n",
       "73999  72153750601  Puerto Rico  Yauco Municipio      4380  1964   2416     100.0    0.0    0.0   \n",
       "74000  72153750602  Puerto Rico  Yauco Municipio      3001  1343   1658      99.2    0.8    0.0   \n",
       "\n",
       "       Native  Asian  Pacific  VotingAgeCitizen   Income  IncomeErr  IncomePerCap  \\\n",
       "0         0.0    1.2      0.0              1407  67826.0    14560.0       33018.0   \n",
       "1         0.0    1.0      0.0              1652  41287.0     3819.0       18996.0   \n",
       "2         0.6    0.7      0.4              2480  46806.0     9496.0       21236.0   \n",
       "3         0.5    0.2      0.0              3257  55895.0     4369.0       28068.0   \n",
       "4         0.0    3.1      0.0              7229  68143.0    14424.0       36905.0   \n",
       "...       ...    ...      ...               ...      ...        ...           ...   \n",
       "73996     0.0    0.0      0.0              4329  20522.0     2879.0        8643.0   \n",
       "73997     0.0    0.0      0.0              1716  24605.0     6027.0       11109.0   \n",
       "73998     0.0    0.2      0.0              1616  18225.0     4913.0        9603.0   \n",
       "73999     0.0    0.0      0.0              3346  18688.0     4501.0        8331.0   \n",
       "74000     0.0    0.0      0.0              2641   9458.0     3332.0        6251.0   \n",
       "\n",
       "       IncomePerCapErr  Poverty  ChildPoverty  Professional  Service  Office  Construction  \\\n",
       "0               6294.0     10.7          20.8          38.5     15.6    22.8          10.8   \n",
       "1               2453.0     22.4          35.8          30.5     24.9    22.9           6.3   \n",
       "2               2562.0     14.7          21.1          27.9     19.4    33.3           9.9   \n",
       "3               3190.0      2.3           1.7          29.0     16.6    25.8           9.1   \n",
       "4              10706.0     12.2          17.9          48.8     13.8    20.5           3.5   \n",
       "...                ...      ...           ...           ...      ...     ...           ...   \n",
       "73996           1218.0     39.4          61.8          42.2     25.3    18.0           7.7   \n",
       "73997           1829.0     35.5          39.9          34.4     13.4    23.1          12.3   \n",
       "73998           2162.0     52.8          77.2          29.3     23.6    32.9           4.6   \n",
       "73999           1280.0     50.1          58.0          29.8     20.6    28.8          13.9   \n",
       "74000           1683.0     69.4          72.2          12.4     23.8    19.1          17.8   \n",
       "\n",
       "       Production  Drive  Carpool  Transit  Walk  OtherTransp  WorkAtHome  MeanCommute  Employed  \\\n",
       "0            12.4   94.2      3.3      0.0   0.5          0.0         2.1         24.5       881   \n",
       "1            15.4   90.5      9.1      0.0   0.0          0.5         0.0         22.2       852   \n",
       "2             9.6   88.3      8.4      0.0   1.0          0.8         1.5         23.1      1482   \n",
       "3            19.5   82.3     11.2      0.0   1.5          2.9         2.1         25.9      1849   \n",
       "4            13.4   86.9     11.2      0.0   0.8          0.3         0.7         21.0      4787   \n",
       "...           ...    ...      ...      ...   ...          ...         ...          ...       ...   \n",
       "73996         6.9   76.1     13.5      6.2   0.5          0.0         3.6         26.9      1576   \n",
       "73997        16.8   82.0      7.5      9.2   0.0          0.0         1.3         25.3       666   \n",
       "73998         9.6   85.3      7.8      0.0   3.4          0.0         3.4         23.5       560   \n",
       "73999         6.9   97.1      1.8      1.1   0.0          0.0         0.0         24.1      1062   \n",
       "74000        26.9   79.6      5.6      1.0   4.9          0.0         8.9         21.6       759   \n",
       "\n",
       "       PrivateWork  PublicWork  SelfEmployed  FamilyWork  Unemployment  \n",
       "0             74.2        21.2           4.5         0.0           4.6  \n",
       "1             75.9        15.0           9.0         0.0           3.4  \n",
       "2             73.3        21.1           4.8         0.7           4.7  \n",
       "3             75.8        19.7           4.5         0.0           6.1  \n",
       "4             71.4        24.1           4.5         0.0           2.3  \n",
       "...            ...         ...           ...         ...           ...  \n",
       "73996         59.2        33.8           7.0         0.0          20.8  \n",
       "73997         58.4        35.4           6.2         0.0          26.3  \n",
       "73998         57.5        34.5           8.0         0.0          23.0  \n",
       "73999         67.7        30.4           1.9         0.0          29.5  \n",
       "74000         75.9        19.1           5.0         0.0          17.9  \n",
       "\n",
       "[74001 rows x 37 columns]"
      ]
     },
     "execution_count": 3,
     "metadata": {},
     "output_type": "execute_result"
    }
   ],
   "source": [
    "pd.set_option('display.max_rows', 100)\n",
    "pd.set_option('display.max_columns', 50)\n",
    "pd.set_option('display.width', 100)\n",
    "\n",
    "df = pd.read_csv('acs2017_census_tract_data.csv')\n",
    "df"
   ]
  },
  {
   "cell_type": "markdown",
   "metadata": {},
   "source": [
    "We start to analyze our data set.  Here we wish to see if our set includes all of the states.  The original data set has 74,001 rows and 37 columns.  It is here that we can also see the spread of the columns."
   ]
  },
  {
   "cell_type": "code",
   "execution_count": 4,
   "metadata": {},
   "outputs": [
    {
     "name": "stdout",
     "output_type": "stream",
     "text": [
      "<class 'pandas.core.frame.DataFrame'>\n",
      "RangeIndex: 74001 entries, 0 to 74000\n",
      "Data columns (total 37 columns):\n",
      "TractId             74001 non-null int64\n",
      "State               74001 non-null object\n",
      "County              74001 non-null object\n",
      "TotalPop            74001 non-null int64\n",
      "Men                 74001 non-null int64\n",
      "Women               74001 non-null int64\n",
      "Hispanic            73305 non-null float64\n",
      "White               73305 non-null float64\n",
      "Black               73305 non-null float64\n",
      "Native              73305 non-null float64\n",
      "Asian               73305 non-null float64\n",
      "Pacific             73305 non-null float64\n",
      "VotingAgeCitizen    74001 non-null int64\n",
      "Income              72885 non-null float64\n",
      "IncomeErr           72885 non-null float64\n",
      "IncomePerCap        73256 non-null float64\n",
      "IncomePerCapErr     73256 non-null float64\n",
      "Poverty             73159 non-null float64\n",
      "ChildPoverty        72891 non-null float64\n",
      "Professional        73190 non-null float64\n",
      "Service             73190 non-null float64\n",
      "Office              73190 non-null float64\n",
      "Construction        73190 non-null float64\n",
      "Production          73190 non-null float64\n",
      "Drive               73200 non-null float64\n",
      "Carpool             73200 non-null float64\n",
      "Transit             73200 non-null float64\n",
      "Walk                73200 non-null float64\n",
      "OtherTransp         73200 non-null float64\n",
      "WorkAtHome          73200 non-null float64\n",
      "MeanCommute         73055 non-null float64\n",
      "Employed            74001 non-null int64\n",
      "PrivateWork         73190 non-null float64\n",
      "PublicWork          73190 non-null float64\n",
      "SelfEmployed        73190 non-null float64\n",
      "FamilyWork          73190 non-null float64\n",
      "Unemployment        73191 non-null float64\n",
      "dtypes: float64(29), int64(6), object(2)\n",
      "memory usage: 20.9+ MB\n"
     ]
    }
   ],
   "source": [
    "df.info()"
   ]
  },
  {
   "cell_type": "markdown",
   "metadata": {},
   "source": [
    "It is imperative that we see a true representation of all states in the Union since we are predicting salary by each state."
   ]
  },
  {
   "cell_type": "code",
   "execution_count": 5,
   "metadata": {},
   "outputs": [
    {
     "data": {
      "text/plain": [
       "array(['Alabama', 'Alaska', 'Arizona', 'Arkansas', 'California',\n",
       "       'Colorado', 'Connecticut', 'Delaware', 'District of Columbia',\n",
       "       'Florida', 'Georgia', 'Hawaii', 'Idaho', 'Illinois', 'Indiana',\n",
       "       'Iowa', 'Kansas', 'Kentucky', 'Louisiana', 'Maine', 'Maryland',\n",
       "       'Massachusetts', 'Michigan', 'Minnesota', 'Mississippi',\n",
       "       'Missouri', 'Montana', 'Nebraska', 'Nevada', 'New Hampshire',\n",
       "       'New Jersey', 'New Mexico', 'New York', 'North Carolina',\n",
       "       'North Dakota', 'Ohio', 'Oklahoma', 'Oregon', 'Pennsylvania',\n",
       "       'Rhode Island', 'South Carolina', 'South Dakota', 'Tennessee',\n",
       "       'Texas', 'Utah', 'Vermont', 'Virginia', 'Washington',\n",
       "       'West Virginia', 'Wisconsin', 'Wyoming', 'Puerto Rico'],\n",
       "      dtype=object)"
      ]
     },
     "execution_count": 5,
     "metadata": {},
     "output_type": "execute_result"
    }
   ],
   "source": [
    "df.State.unique()"
   ]
  },
  {
   "cell_type": "markdown",
   "metadata": {},
   "source": [
    "We now check for null values in our data set."
   ]
  },
  {
   "cell_type": "code",
   "execution_count": 6,
   "metadata": {},
   "outputs": [
    {
     "data": {
      "text/plain": [
       "TractId                0\n",
       "State                  0\n",
       "County                 0\n",
       "TotalPop               0\n",
       "Men                    0\n",
       "Women                  0\n",
       "Hispanic             696\n",
       "White                696\n",
       "Black                696\n",
       "Native               696\n",
       "Asian                696\n",
       "Pacific              696\n",
       "VotingAgeCitizen       0\n",
       "Income              1116\n",
       "IncomeErr           1116\n",
       "IncomePerCap         745\n",
       "IncomePerCapErr      745\n",
       "Poverty              842\n",
       "ChildPoverty        1110\n",
       "Professional         811\n",
       "Service              811\n",
       "Office               811\n",
       "Construction         811\n",
       "Production           811\n",
       "Drive                801\n",
       "Carpool              801\n",
       "Transit              801\n",
       "Walk                 801\n",
       "OtherTransp          801\n",
       "WorkAtHome           801\n",
       "MeanCommute          946\n",
       "Employed               0\n",
       "PrivateWork          811\n",
       "PublicWork           811\n",
       "SelfEmployed         811\n",
       "FamilyWork           811\n",
       "Unemployment         810\n",
       "dtype: int64"
      ]
     },
     "execution_count": 6,
     "metadata": {},
     "output_type": "execute_result"
    }
   ],
   "source": [
    "df.isnull().sum()"
   ]
  },
  {
   "cell_type": "markdown",
   "metadata": {},
   "source": [
    "We see that we have many columns with null values.  Being that we have a data set with over 74,000 rows, we decided to drop all of the rows containing null values."
   ]
  },
  {
   "cell_type": "code",
   "execution_count": 7,
   "metadata": {},
   "outputs": [],
   "source": [
    "df = df[df['Income'].notna()]\n",
    "df = df[df['ChildPoverty'].notna()]\n",
    "df = df[df['MeanCommute'].notna()]"
   ]
  },
  {
   "cell_type": "markdown",
   "metadata": {},
   "source": [
    "We then check to see if our data cleaned properly."
   ]
  },
  {
   "cell_type": "code",
   "execution_count": 8,
   "metadata": {},
   "outputs": [
    {
     "data": {
      "text/plain": [
       "TractId             0\n",
       "State               0\n",
       "County              0\n",
       "TotalPop            0\n",
       "Men                 0\n",
       "Women               0\n",
       "Hispanic            0\n",
       "White               0\n",
       "Black               0\n",
       "Native              0\n",
       "Asian               0\n",
       "Pacific             0\n",
       "VotingAgeCitizen    0\n",
       "Income              0\n",
       "IncomeErr           0\n",
       "IncomePerCap        0\n",
       "IncomePerCapErr     0\n",
       "Poverty             0\n",
       "ChildPoverty        0\n",
       "Professional        0\n",
       "Service             0\n",
       "Office              0\n",
       "Construction        0\n",
       "Production          0\n",
       "Drive               0\n",
       "Carpool             0\n",
       "Transit             0\n",
       "Walk                0\n",
       "OtherTransp         0\n",
       "WorkAtHome          0\n",
       "MeanCommute         0\n",
       "Employed            0\n",
       "PrivateWork         0\n",
       "PublicWork          0\n",
       "SelfEmployed        0\n",
       "FamilyWork          0\n",
       "Unemployment        0\n",
       "dtype: int64"
      ]
     },
     "execution_count": 8,
     "metadata": {},
     "output_type": "execute_result"
    }
   ],
   "source": [
    "df.isnull().sum()"
   ]
  },
  {
   "cell_type": "markdown",
   "metadata": {},
   "source": [
    "As a crucial part of data cleaning, especially for a set this size, we must check for duplicates.  Fortunately, there are none.  We suspect that it is because the data set came from the census bureau."
   ]
  },
  {
   "cell_type": "code",
   "execution_count": 9,
   "metadata": {},
   "outputs": [
    {
     "data": {
      "text/plain": [
       "0"
      ]
     },
     "execution_count": 9,
     "metadata": {},
     "output_type": "execute_result"
    }
   ],
   "source": [
    "df.duplicated().sum()"
   ]
  },
  {
   "cell_type": "markdown",
   "metadata": {},
   "source": [
    "We now must decide which variables that we will use in our model.  We evaluated each feature and determined the ones that directly affect Income Per Capita. Below is the code and output of our decision making."
   ]
  },
  {
   "cell_type": "code",
   "execution_count": 10,
   "metadata": {},
   "outputs": [
    {
     "data": {
      "text/html": [
       "<div>\n",
       "<style scoped>\n",
       "    .dataframe tbody tr th:only-of-type {\n",
       "        vertical-align: middle;\n",
       "    }\n",
       "\n",
       "    .dataframe tbody tr th {\n",
       "        vertical-align: top;\n",
       "    }\n",
       "\n",
       "    .dataframe thead th {\n",
       "        text-align: right;\n",
       "    }\n",
       "</style>\n",
       "<table border=\"1\" class=\"dataframe\">\n",
       "  <thead>\n",
       "    <tr style=\"text-align: right;\">\n",
       "      <th></th>\n",
       "      <th>IncomePerCap</th>\n",
       "      <th>Poverty</th>\n",
       "      <th>ChildPoverty</th>\n",
       "      <th>Professional</th>\n",
       "      <th>Service</th>\n",
       "      <th>Construction</th>\n",
       "      <th>Office</th>\n",
       "      <th>Production</th>\n",
       "    </tr>\n",
       "  </thead>\n",
       "  <tbody>\n",
       "    <tr>\n",
       "      <td>0</td>\n",
       "      <td>33018.0</td>\n",
       "      <td>10.7</td>\n",
       "      <td>20.8</td>\n",
       "      <td>38.5</td>\n",
       "      <td>15.6</td>\n",
       "      <td>10.8</td>\n",
       "      <td>22.8</td>\n",
       "      <td>12.4</td>\n",
       "    </tr>\n",
       "    <tr>\n",
       "      <td>1</td>\n",
       "      <td>18996.0</td>\n",
       "      <td>22.4</td>\n",
       "      <td>35.8</td>\n",
       "      <td>30.5</td>\n",
       "      <td>24.9</td>\n",
       "      <td>6.3</td>\n",
       "      <td>22.9</td>\n",
       "      <td>15.4</td>\n",
       "    </tr>\n",
       "    <tr>\n",
       "      <td>2</td>\n",
       "      <td>21236.0</td>\n",
       "      <td>14.7</td>\n",
       "      <td>21.1</td>\n",
       "      <td>27.9</td>\n",
       "      <td>19.4</td>\n",
       "      <td>9.9</td>\n",
       "      <td>33.3</td>\n",
       "      <td>9.6</td>\n",
       "    </tr>\n",
       "    <tr>\n",
       "      <td>3</td>\n",
       "      <td>28068.0</td>\n",
       "      <td>2.3</td>\n",
       "      <td>1.7</td>\n",
       "      <td>29.0</td>\n",
       "      <td>16.6</td>\n",
       "      <td>9.1</td>\n",
       "      <td>25.8</td>\n",
       "      <td>19.5</td>\n",
       "    </tr>\n",
       "    <tr>\n",
       "      <td>4</td>\n",
       "      <td>36905.0</td>\n",
       "      <td>12.2</td>\n",
       "      <td>17.9</td>\n",
       "      <td>48.8</td>\n",
       "      <td>13.8</td>\n",
       "      <td>3.5</td>\n",
       "      <td>20.5</td>\n",
       "      <td>13.4</td>\n",
       "    </tr>\n",
       "    <tr>\n",
       "      <td>...</td>\n",
       "      <td>...</td>\n",
       "      <td>...</td>\n",
       "      <td>...</td>\n",
       "      <td>...</td>\n",
       "      <td>...</td>\n",
       "      <td>...</td>\n",
       "      <td>...</td>\n",
       "      <td>...</td>\n",
       "    </tr>\n",
       "    <tr>\n",
       "      <td>73996</td>\n",
       "      <td>8643.0</td>\n",
       "      <td>39.4</td>\n",
       "      <td>61.8</td>\n",
       "      <td>42.2</td>\n",
       "      <td>25.3</td>\n",
       "      <td>7.7</td>\n",
       "      <td>18.0</td>\n",
       "      <td>6.9</td>\n",
       "    </tr>\n",
       "    <tr>\n",
       "      <td>73997</td>\n",
       "      <td>11109.0</td>\n",
       "      <td>35.5</td>\n",
       "      <td>39.9</td>\n",
       "      <td>34.4</td>\n",
       "      <td>13.4</td>\n",
       "      <td>12.3</td>\n",
       "      <td>23.1</td>\n",
       "      <td>16.8</td>\n",
       "    </tr>\n",
       "    <tr>\n",
       "      <td>73998</td>\n",
       "      <td>9603.0</td>\n",
       "      <td>52.8</td>\n",
       "      <td>77.2</td>\n",
       "      <td>29.3</td>\n",
       "      <td>23.6</td>\n",
       "      <td>4.6</td>\n",
       "      <td>32.9</td>\n",
       "      <td>9.6</td>\n",
       "    </tr>\n",
       "    <tr>\n",
       "      <td>73999</td>\n",
       "      <td>8331.0</td>\n",
       "      <td>50.1</td>\n",
       "      <td>58.0</td>\n",
       "      <td>29.8</td>\n",
       "      <td>20.6</td>\n",
       "      <td>13.9</td>\n",
       "      <td>28.8</td>\n",
       "      <td>6.9</td>\n",
       "    </tr>\n",
       "    <tr>\n",
       "      <td>74000</td>\n",
       "      <td>6251.0</td>\n",
       "      <td>69.4</td>\n",
       "      <td>72.2</td>\n",
       "      <td>12.4</td>\n",
       "      <td>23.8</td>\n",
       "      <td>17.8</td>\n",
       "      <td>19.1</td>\n",
       "      <td>26.9</td>\n",
       "    </tr>\n",
       "  </tbody>\n",
       "</table>\n",
       "<p>72718 rows × 8 columns</p>\n",
       "</div>"
      ],
      "text/plain": [
       "       IncomePerCap  Poverty  ChildPoverty  Professional  Service  Construction  Office  \\\n",
       "0           33018.0     10.7          20.8          38.5     15.6          10.8    22.8   \n",
       "1           18996.0     22.4          35.8          30.5     24.9           6.3    22.9   \n",
       "2           21236.0     14.7          21.1          27.9     19.4           9.9    33.3   \n",
       "3           28068.0      2.3           1.7          29.0     16.6           9.1    25.8   \n",
       "4           36905.0     12.2          17.9          48.8     13.8           3.5    20.5   \n",
       "...             ...      ...           ...           ...      ...           ...     ...   \n",
       "73996        8643.0     39.4          61.8          42.2     25.3           7.7    18.0   \n",
       "73997       11109.0     35.5          39.9          34.4     13.4          12.3    23.1   \n",
       "73998        9603.0     52.8          77.2          29.3     23.6           4.6    32.9   \n",
       "73999        8331.0     50.1          58.0          29.8     20.6          13.9    28.8   \n",
       "74000        6251.0     69.4          72.2          12.4     23.8          17.8    19.1   \n",
       "\n",
       "       Production  \n",
       "0            12.4  \n",
       "1            15.4  \n",
       "2             9.6  \n",
       "3            19.5  \n",
       "4            13.4  \n",
       "...           ...  \n",
       "73996         6.9  \n",
       "73997        16.8  \n",
       "73998         9.6  \n",
       "73999         6.9  \n",
       "74000        26.9  \n",
       "\n",
       "[72718 rows x 8 columns]"
      ]
     },
     "execution_count": 10,
     "metadata": {},
     "output_type": "execute_result"
    }
   ],
   "source": [
    "df1 = df[['IncomePerCap', 'Poverty', 'ChildPoverty', 'Professional', 'Service',\n",
    "          'Construction', 'Office', 'Production']]\n",
    "df1"
   ]
  },
  {
   "cell_type": "markdown",
   "metadata": {},
   "source": [
    "From our data, we then constructed a heatmap so we can see how each of the variables we selected correlate to each other using Pearson's R."
   ]
  },
  {
   "cell_type": "code",
   "execution_count": 11,
   "metadata": {},
   "outputs": [
    {
     "data": {
      "image/png": "[encoded data removed]",
      "text/plain": [
       "<Figure size 1440x720 with 2 Axes>"
      ]
     },
     "metadata": {
      "needs_background": "light"
     },
     "output_type": "display_data"
    }
   ],
   "source": [
    "corr = df1.corr()\n",
    "plt.figure(figsize = (20,10))\n",
    "sns.heatmap(corr,\n",
    "            xticklabels=corr.columns,\n",
    "            yticklabels=corr.columns)\n",
    "plt.show()"
   ]
  },
  {
   "cell_type": "markdown",
   "metadata": {},
   "source": [
    "We then calculated the variance inflation factor which is used to explore multicolinearity between the independent variables. Although the Office variable had a variance inflation factor greater than 10 which makes it a candidate for multicolinearity, we decided to keep it in our model because without it sum percentage of all occupation types would not equal 100%.  We also decided to remove Child Poverty because it had a high VIF value and the existing Poverty feature already explains that variable."
   ]
  },
  {
   "cell_type": "code",
   "execution_count": 12,
   "metadata": {},
   "outputs": [
    {
     "data": {
      "text/plain": [
       "[('Poverty', 4.374656628571393),\n",
       " ('Office', 11.118577758022248),\n",
       " ('Professional', 4.728411696864023),\n",
       " ('Service', 8.422823531174561),\n",
       " ('Construction', 3.572582554041673),\n",
       " ('Production', 4.577552759536368)]"
      ]
     },
     "execution_count": 12,
     "metadata": {},
     "output_type": "execute_result"
    }
   ],
   "source": [
    "refined_cols = ['Poverty', 'Office', 'Professional', 'Service', \n",
    "                'Construction', 'Production']\n",
    "X = df1[refined_cols]\n",
    "vif = [variance_inflation_factor(X.values, i) for i in range(X.shape[1])]\n",
    "list(zip(refined_cols, vif))"
   ]
  },
  {
   "cell_type": "markdown",
   "metadata": {},
   "source": [
    "We now must decide what to do with our outliers.  We must do this so that when we design our model, it will show positive linear relationships.  We decided to cleanse all of our data of any outliers. We wanted to see as close to a normal distribution as possible for each feature.  This is a tedious process and one that makes for several adjustments to the code.  For efficiency, we will display the final visualizations with the outliers deleted.  The visualizations and code are presented below."
   ]
  },
  {
   "cell_type": "markdown",
   "metadata": {},
   "source": [
    "This is the code in which we did our filtering.  Notice that the dataframe name has changed to the variable, df_filtered."
   ]
  },
  {
   "cell_type": "code",
   "execution_count": 13,
   "metadata": {},
   "outputs": [
    {
     "data": {
      "text/html": [
       "<div>\n",
       "<style scoped>\n",
       "    .dataframe tbody tr th:only-of-type {\n",
       "        vertical-align: middle;\n",
       "    }\n",
       "\n",
       "    .dataframe tbody tr th {\n",
       "        vertical-align: top;\n",
       "    }\n",
       "\n",
       "    .dataframe thead th {\n",
       "        text-align: right;\n",
       "    }\n",
       "</style>\n",
       "<table border=\"1\" class=\"dataframe\">\n",
       "  <thead>\n",
       "    <tr style=\"text-align: right;\">\n",
       "      <th></th>\n",
       "      <th>IncomePerCap</th>\n",
       "      <th>Poverty</th>\n",
       "      <th>ChildPoverty</th>\n",
       "      <th>Professional</th>\n",
       "      <th>Service</th>\n",
       "      <th>Construction</th>\n",
       "      <th>Office</th>\n",
       "      <th>Production</th>\n",
       "    </tr>\n",
       "  </thead>\n",
       "  <tbody>\n",
       "    <tr>\n",
       "      <td>0</td>\n",
       "      <td>33018.0</td>\n",
       "      <td>10.7</td>\n",
       "      <td>20.8</td>\n",
       "      <td>38.5</td>\n",
       "      <td>15.6</td>\n",
       "      <td>10.8</td>\n",
       "      <td>22.8</td>\n",
       "      <td>12.4</td>\n",
       "    </tr>\n",
       "    <tr>\n",
       "      <td>1</td>\n",
       "      <td>18996.0</td>\n",
       "      <td>22.4</td>\n",
       "      <td>35.8</td>\n",
       "      <td>30.5</td>\n",
       "      <td>24.9</td>\n",
       "      <td>6.3</td>\n",
       "      <td>22.9</td>\n",
       "      <td>15.4</td>\n",
       "    </tr>\n",
       "    <tr>\n",
       "      <td>2</td>\n",
       "      <td>21236.0</td>\n",
       "      <td>14.7</td>\n",
       "      <td>21.1</td>\n",
       "      <td>27.9</td>\n",
       "      <td>19.4</td>\n",
       "      <td>9.9</td>\n",
       "      <td>33.3</td>\n",
       "      <td>9.6</td>\n",
       "    </tr>\n",
       "    <tr>\n",
       "      <td>3</td>\n",
       "      <td>28068.0</td>\n",
       "      <td>2.3</td>\n",
       "      <td>1.7</td>\n",
       "      <td>29.0</td>\n",
       "      <td>16.6</td>\n",
       "      <td>9.1</td>\n",
       "      <td>25.8</td>\n",
       "      <td>19.5</td>\n",
       "    </tr>\n",
       "    <tr>\n",
       "      <td>4</td>\n",
       "      <td>36905.0</td>\n",
       "      <td>12.2</td>\n",
       "      <td>17.9</td>\n",
       "      <td>48.8</td>\n",
       "      <td>13.8</td>\n",
       "      <td>3.5</td>\n",
       "      <td>20.5</td>\n",
       "      <td>13.4</td>\n",
       "    </tr>\n",
       "    <tr>\n",
       "      <td>...</td>\n",
       "      <td>...</td>\n",
       "      <td>...</td>\n",
       "      <td>...</td>\n",
       "      <td>...</td>\n",
       "      <td>...</td>\n",
       "      <td>...</td>\n",
       "      <td>...</td>\n",
       "      <td>...</td>\n",
       "    </tr>\n",
       "    <tr>\n",
       "      <td>73983</td>\n",
       "      <td>8133.0</td>\n",
       "      <td>42.4</td>\n",
       "      <td>52.7</td>\n",
       "      <td>12.7</td>\n",
       "      <td>31.9</td>\n",
       "      <td>9.2</td>\n",
       "      <td>21.2</td>\n",
       "      <td>25.0</td>\n",
       "    </tr>\n",
       "    <tr>\n",
       "      <td>73988</td>\n",
       "      <td>10930.0</td>\n",
       "      <td>43.6</td>\n",
       "      <td>55.2</td>\n",
       "      <td>31.3</td>\n",
       "      <td>29.8</td>\n",
       "      <td>12.0</td>\n",
       "      <td>18.3</td>\n",
       "      <td>8.5</td>\n",
       "    </tr>\n",
       "    <tr>\n",
       "      <td>73994</td>\n",
       "      <td>10642.0</td>\n",
       "      <td>29.2</td>\n",
       "      <td>33.4</td>\n",
       "      <td>37.0</td>\n",
       "      <td>15.6</td>\n",
       "      <td>6.1</td>\n",
       "      <td>28.5</td>\n",
       "      <td>12.8</td>\n",
       "    </tr>\n",
       "    <tr>\n",
       "      <td>73996</td>\n",
       "      <td>8643.0</td>\n",
       "      <td>39.4</td>\n",
       "      <td>61.8</td>\n",
       "      <td>42.2</td>\n",
       "      <td>25.3</td>\n",
       "      <td>7.7</td>\n",
       "      <td>18.0</td>\n",
       "      <td>6.9</td>\n",
       "    </tr>\n",
       "    <tr>\n",
       "      <td>73997</td>\n",
       "      <td>11109.0</td>\n",
       "      <td>35.5</td>\n",
       "      <td>39.9</td>\n",
       "      <td>34.4</td>\n",
       "      <td>13.4</td>\n",
       "      <td>12.3</td>\n",
       "      <td>23.1</td>\n",
       "      <td>16.8</td>\n",
       "    </tr>\n",
       "  </tbody>\n",
       "</table>\n",
       "<p>65696 rows × 8 columns</p>\n",
       "</div>"
      ],
      "text/plain": [
       "       IncomePerCap  Poverty  ChildPoverty  Professional  Service  Construction  Office  \\\n",
       "0           33018.0     10.7          20.8          38.5     15.6          10.8    22.8   \n",
       "1           18996.0     22.4          35.8          30.5     24.9           6.3    22.9   \n",
       "2           21236.0     14.7          21.1          27.9     19.4           9.9    33.3   \n",
       "3           28068.0      2.3           1.7          29.0     16.6           9.1    25.8   \n",
       "4           36905.0     12.2          17.9          48.8     13.8           3.5    20.5   \n",
       "...             ...      ...           ...           ...      ...           ...     ...   \n",
       "73983        8133.0     42.4          52.7          12.7     31.9           9.2    21.2   \n",
       "73988       10930.0     43.6          55.2          31.3     29.8          12.0    18.3   \n",
       "73994       10642.0     29.2          33.4          37.0     15.6           6.1    28.5   \n",
       "73996        8643.0     39.4          61.8          42.2     25.3           7.7    18.0   \n",
       "73997       11109.0     35.5          39.9          34.4     13.4          12.3    23.1   \n",
       "\n",
       "       Production  \n",
       "0            12.4  \n",
       "1            15.4  \n",
       "2             9.6  \n",
       "3            19.5  \n",
       "4            13.4  \n",
       "...           ...  \n",
       "73983        25.0  \n",
       "73988         8.5  \n",
       "73994        12.8  \n",
       "73996         6.9  \n",
       "73997        16.8  \n",
       "\n",
       "[65696 rows x 8 columns]"
      ]
     },
     "execution_count": 13,
     "metadata": {},
     "output_type": "execute_result"
    }
   ],
   "source": [
    "df_filtered = df1[(df1['Office'] >= 10) & (df1['Office'] <= 45)& (df1['Service'] <= 50)\n",
    "                & (df1['Poverty'] <= 45) & (df1['Construction'] <= 22) \n",
    "                & (df1['IncomePerCap'] <= 70000)]\n",
    "df_filtered"
   ]
  },
  {
   "cell_type": "code",
   "execution_count": 14,
   "metadata": {},
   "outputs": [
    {
     "data": {
      "text/html": [
       "<div>\n",
       "<style scoped>\n",
       "    .dataframe tbody tr th:only-of-type {\n",
       "        vertical-align: middle;\n",
       "    }\n",
       "\n",
       "    .dataframe tbody tr th {\n",
       "        vertical-align: top;\n",
       "    }\n",
       "\n",
       "    .dataframe thead th {\n",
       "        text-align: right;\n",
       "    }\n",
       "</style>\n",
       "<table border=\"1\" class=\"dataframe\">\n",
       "  <thead>\n",
       "    <tr style=\"text-align: right;\">\n",
       "      <th></th>\n",
       "      <th>IncomePerCap</th>\n",
       "      <th>Poverty</th>\n",
       "      <th>ChildPoverty</th>\n",
       "      <th>Professional</th>\n",
       "      <th>Service</th>\n",
       "      <th>Construction</th>\n",
       "      <th>Office</th>\n",
       "      <th>Production</th>\n",
       "    </tr>\n",
       "  </thead>\n",
       "  <tbody>\n",
       "    <tr>\n",
       "      <td>count</td>\n",
       "      <td>65696.000000</td>\n",
       "      <td>65696.000000</td>\n",
       "      <td>65696.000000</td>\n",
       "      <td>65696.000000</td>\n",
       "      <td>65696.000000</td>\n",
       "      <td>65696.000000</td>\n",
       "      <td>65696.000000</td>\n",
       "      <td>65696.000000</td>\n",
       "    </tr>\n",
       "    <tr>\n",
       "      <td>mean</td>\n",
       "      <td>29929.306959</td>\n",
       "      <td>14.663590</td>\n",
       "      <td>19.622673</td>\n",
       "      <td>35.539870</td>\n",
       "      <td>18.717611</td>\n",
       "      <td>8.950382</td>\n",
       "      <td>23.699062</td>\n",
       "      <td>13.093258</td>\n",
       "    </tr>\n",
       "    <tr>\n",
       "      <td>std</td>\n",
       "      <td>11723.239158</td>\n",
       "      <td>9.992515</td>\n",
       "      <td>16.291147</td>\n",
       "      <td>13.694102</td>\n",
       "      <td>7.340579</td>\n",
       "      <td>4.824538</td>\n",
       "      <td>5.243215</td>\n",
       "      <td>7.420339</td>\n",
       "    </tr>\n",
       "    <tr>\n",
       "      <td>min</td>\n",
       "      <td>1631.000000</td>\n",
       "      <td>0.000000</td>\n",
       "      <td>0.000000</td>\n",
       "      <td>0.000000</td>\n",
       "      <td>0.000000</td>\n",
       "      <td>0.000000</td>\n",
       "      <td>10.000000</td>\n",
       "      <td>0.000000</td>\n",
       "    </tr>\n",
       "    <tr>\n",
       "      <td>25%</td>\n",
       "      <td>21470.750000</td>\n",
       "      <td>6.900000</td>\n",
       "      <td>6.300000</td>\n",
       "      <td>25.500000</td>\n",
       "      <td>13.500000</td>\n",
       "      <td>5.200000</td>\n",
       "      <td>20.100000</td>\n",
       "      <td>7.400000</td>\n",
       "    </tr>\n",
       "    <tr>\n",
       "      <td>50%</td>\n",
       "      <td>27650.000000</td>\n",
       "      <td>12.200000</td>\n",
       "      <td>15.700000</td>\n",
       "      <td>33.700000</td>\n",
       "      <td>17.700000</td>\n",
       "      <td>8.400000</td>\n",
       "      <td>23.500000</td>\n",
       "      <td>12.000000</td>\n",
       "    </tr>\n",
       "    <tr>\n",
       "      <td>75%</td>\n",
       "      <td>36106.000000</td>\n",
       "      <td>20.300000</td>\n",
       "      <td>29.600000</td>\n",
       "      <td>44.400000</td>\n",
       "      <td>22.900000</td>\n",
       "      <td>12.200000</td>\n",
       "      <td>27.000000</td>\n",
       "      <td>17.500000</td>\n",
       "    </tr>\n",
       "    <tr>\n",
       "      <td>max</td>\n",
       "      <td>69993.000000</td>\n",
       "      <td>45.000000</td>\n",
       "      <td>100.000000</td>\n",
       "      <td>85.500000</td>\n",
       "      <td>50.000000</td>\n",
       "      <td>22.000000</td>\n",
       "      <td>45.000000</td>\n",
       "      <td>60.500000</td>\n",
       "    </tr>\n",
       "  </tbody>\n",
       "</table>\n",
       "</div>"
      ],
      "text/plain": [
       "       IncomePerCap       Poverty  ChildPoverty  Professional       Service  Construction  \\\n",
       "count  65696.000000  65696.000000  65696.000000  65696.000000  65696.000000  65696.000000   \n",
       "mean   29929.306959     14.663590     19.622673     35.539870     18.717611      8.950382   \n",
       "std    11723.239158      9.992515     16.291147     13.694102      7.340579      4.824538   \n",
       "min     1631.000000      0.000000      0.000000      0.000000      0.000000      0.000000   \n",
       "25%    21470.750000      6.900000      6.300000     25.500000     13.500000      5.200000   \n",
       "50%    27650.000000     12.200000     15.700000     33.700000     17.700000      8.400000   \n",
       "75%    36106.000000     20.300000     29.600000     44.400000     22.900000     12.200000   \n",
       "max    69993.000000     45.000000    100.000000     85.500000     50.000000     22.000000   \n",
       "\n",
       "             Office    Production  \n",
       "count  65696.000000  65696.000000  \n",
       "mean      23.699062     13.093258  \n",
       "std        5.243215      7.420339  \n",
       "min       10.000000      0.000000  \n",
       "25%       20.100000      7.400000  \n",
       "50%       23.500000     12.000000  \n",
       "75%       27.000000     17.500000  \n",
       "max       45.000000     60.500000  "
      ]
     },
     "execution_count": 14,
     "metadata": {},
     "output_type": "execute_result"
    }
   ],
   "source": [
    "df_filtered.describe()"
   ]
  },
  {
   "cell_type": "markdown",
   "metadata": {},
   "source": [
    "After each outlier elimination session, we saw where our values now lie.  We looked at this chart along with the new distributions to determine of more outlier elimination was needed."
   ]
  },
  {
   "cell_type": "code",
   "execution_count": 15,
   "metadata": {},
   "outputs": [
    {
     "data": {
      "text/html": [
       "<div>\n",
       "<style scoped>\n",
       "    .dataframe tbody tr th:only-of-type {\n",
       "        vertical-align: middle;\n",
       "    }\n",
       "\n",
       "    .dataframe tbody tr th {\n",
       "        vertical-align: top;\n",
       "    }\n",
       "\n",
       "    .dataframe thead th {\n",
       "        text-align: right;\n",
       "    }\n",
       "</style>\n",
       "<table border=\"1\" class=\"dataframe\">\n",
       "  <thead>\n",
       "    <tr style=\"text-align: right;\">\n",
       "      <th></th>\n",
       "      <th>IncomePerCap</th>\n",
       "      <th>Poverty</th>\n",
       "      <th>ChildPoverty</th>\n",
       "      <th>Professional</th>\n",
       "      <th>Service</th>\n",
       "      <th>Construction</th>\n",
       "      <th>Office</th>\n",
       "      <th>Production</th>\n",
       "    </tr>\n",
       "  </thead>\n",
       "  <tbody>\n",
       "    <tr>\n",
       "      <td>count</td>\n",
       "      <td>65696.000000</td>\n",
       "      <td>65696.000000</td>\n",
       "      <td>65696.000000</td>\n",
       "      <td>65696.000000</td>\n",
       "      <td>65696.000000</td>\n",
       "      <td>65696.000000</td>\n",
       "      <td>65696.000000</td>\n",
       "      <td>65696.000000</td>\n",
       "    </tr>\n",
       "    <tr>\n",
       "      <td>mean</td>\n",
       "      <td>29929.306959</td>\n",
       "      <td>14.663590</td>\n",
       "      <td>19.622673</td>\n",
       "      <td>35.539870</td>\n",
       "      <td>18.717611</td>\n",
       "      <td>8.950382</td>\n",
       "      <td>23.699062</td>\n",
       "      <td>13.093258</td>\n",
       "    </tr>\n",
       "    <tr>\n",
       "      <td>std</td>\n",
       "      <td>11723.239158</td>\n",
       "      <td>9.992515</td>\n",
       "      <td>16.291147</td>\n",
       "      <td>13.694102</td>\n",
       "      <td>7.340579</td>\n",
       "      <td>4.824538</td>\n",
       "      <td>5.243215</td>\n",
       "      <td>7.420339</td>\n",
       "    </tr>\n",
       "    <tr>\n",
       "      <td>min</td>\n",
       "      <td>1631.000000</td>\n",
       "      <td>0.000000</td>\n",
       "      <td>0.000000</td>\n",
       "      <td>0.000000</td>\n",
       "      <td>0.000000</td>\n",
       "      <td>0.000000</td>\n",
       "      <td>10.000000</td>\n",
       "      <td>0.000000</td>\n",
       "    </tr>\n",
       "    <tr>\n",
       "      <td>25%</td>\n",
       "      <td>21470.750000</td>\n",
       "      <td>6.900000</td>\n",
       "      <td>6.300000</td>\n",
       "      <td>25.500000</td>\n",
       "      <td>13.500000</td>\n",
       "      <td>5.200000</td>\n",
       "      <td>20.100000</td>\n",
       "      <td>7.400000</td>\n",
       "    </tr>\n",
       "    <tr>\n",
       "      <td>50%</td>\n",
       "      <td>27650.000000</td>\n",
       "      <td>12.200000</td>\n",
       "      <td>15.700000</td>\n",
       "      <td>33.700000</td>\n",
       "      <td>17.700000</td>\n",
       "      <td>8.400000</td>\n",
       "      <td>23.500000</td>\n",
       "      <td>12.000000</td>\n",
       "    </tr>\n",
       "    <tr>\n",
       "      <td>75%</td>\n",
       "      <td>36106.000000</td>\n",
       "      <td>20.300000</td>\n",
       "      <td>29.600000</td>\n",
       "      <td>44.400000</td>\n",
       "      <td>22.900000</td>\n",
       "      <td>12.200000</td>\n",
       "      <td>27.000000</td>\n",
       "      <td>17.500000</td>\n",
       "    </tr>\n",
       "    <tr>\n",
       "      <td>max</td>\n",
       "      <td>69993.000000</td>\n",
       "      <td>45.000000</td>\n",
       "      <td>100.000000</td>\n",
       "      <td>85.500000</td>\n",
       "      <td>50.000000</td>\n",
       "      <td>22.000000</td>\n",
       "      <td>45.000000</td>\n",
       "      <td>60.500000</td>\n",
       "    </tr>\n",
       "  </tbody>\n",
       "</table>\n",
       "</div>"
      ],
      "text/plain": [
       "       IncomePerCap       Poverty  ChildPoverty  Professional       Service  Construction  \\\n",
       "count  65696.000000  65696.000000  65696.000000  65696.000000  65696.000000  65696.000000   \n",
       "mean   29929.306959     14.663590     19.622673     35.539870     18.717611      8.950382   \n",
       "std    11723.239158      9.992515     16.291147     13.694102      7.340579      4.824538   \n",
       "min     1631.000000      0.000000      0.000000      0.000000      0.000000      0.000000   \n",
       "25%    21470.750000      6.900000      6.300000     25.500000     13.500000      5.200000   \n",
       "50%    27650.000000     12.200000     15.700000     33.700000     17.700000      8.400000   \n",
       "75%    36106.000000     20.300000     29.600000     44.400000     22.900000     12.200000   \n",
       "max    69993.000000     45.000000    100.000000     85.500000     50.000000     22.000000   \n",
       "\n",
       "             Office    Production  \n",
       "count  65696.000000  65696.000000  \n",
       "mean      23.699062     13.093258  \n",
       "std        5.243215      7.420339  \n",
       "min       10.000000      0.000000  \n",
       "25%       20.100000      7.400000  \n",
       "50%       23.500000     12.000000  \n",
       "75%       27.000000     17.500000  \n",
       "max       45.000000     60.500000  "
      ]
     },
     "execution_count": 15,
     "metadata": {},
     "output_type": "execute_result"
    }
   ],
   "source": [
    "df_filtered.describe()"
   ]
  },
  {
   "cell_type": "markdown",
   "metadata": {},
   "source": [
    "Our Y variable is IncomePerCap.  We demonstrated the outliers with a box plot and a histogram."
   ]
  },
  {
   "cell_type": "code",
   "execution_count": 16,
   "metadata": {},
   "outputs": [
    {
     "data": {
      "text/plain": [
       "<matplotlib.axes._subplots.AxesSubplot at 0x1c17179cf8>"
      ]
     },
     "execution_count": 16,
     "metadata": {},
     "output_type": "execute_result"
    },
    {
     "data": {
      "image/png": "[encoded data removed]",
      "text/plain": [
       "<Figure size 432x288 with 1 Axes>"
      ]
     },
     "metadata": {
      "needs_background": "light"
     },
     "output_type": "display_data"
    }
   ],
   "source": [
    "sns.boxplot(df_filtered.IncomePerCap)"
   ]
  },
  {
   "cell_type": "code",
   "execution_count": 17,
   "metadata": {},
   "outputs": [
    {
     "data": {
      "text/plain": [
       "<matplotlib.axes._subplots.AxesSubplot at 0x1c172fc5c0>"
      ]
     },
     "execution_count": 17,
     "metadata": {},
     "output_type": "execute_result"
    },
    {
     "data": {
      "image/png": "[encoded data removed]",
      "text/plain": [
       "<Figure size 432x288 with 1 Axes>"
      ]
     },
     "metadata": {
      "needs_background": "light"
     },
     "output_type": "display_data"
    }
   ],
   "source": [
    "sns.distplot(df_filtered['IncomePerCap'])"
   ]
  },
  {
   "cell_type": "markdown",
   "metadata": {},
   "source": [
    "The Poverty distribution was extremely skewed right with a lot of data underneath the right tail.  If we got rid of more data in this category, it would negatively affect the quality of model.  This was by far the most difficult feature to edit."
   ]
  },
  {
   "cell_type": "code",
   "execution_count": 18,
   "metadata": {},
   "outputs": [
    {
     "data": {
      "text/plain": [
       "<matplotlib.axes._subplots.AxesSubplot at 0x1c1aa57588>"
      ]
     },
     "execution_count": 18,
     "metadata": {},
     "output_type": "execute_result"
    },
    {
     "data": {
      "image/png": "[encoded data removed]",
      "text/plain": [
       "<Figure size 432x288 with 1 Axes>"
      ]
     },
     "metadata": {
      "needs_background": "light"
     },
     "output_type": "display_data"
    }
   ],
   "source": [
    "sns.distplot(df_filtered['Poverty'])"
   ]
  },
  {
   "cell_type": "code",
   "execution_count": 19,
   "metadata": {},
   "outputs": [
    {
     "data": {
      "text/plain": [
       "<matplotlib.axes._subplots.AxesSubplot at 0x1c1ab3cf98>"
      ]
     },
     "execution_count": 19,
     "metadata": {},
     "output_type": "execute_result"
    },
    {
     "data": {
      "image/png": "[encoded data removed]",
      "text/plain": [
       "<Figure size 432x288 with 1 Axes>"
      ]
     },
     "metadata": {
      "needs_background": "light"
     },
     "output_type": "display_data"
    }
   ],
   "source": [
    "sns.distplot(df_filtered['Professional'])"
   ]
  },
  {
   "cell_type": "code",
   "execution_count": 20,
   "metadata": {},
   "outputs": [
    {
     "data": {
      "image/png": "[encoded data removed]",
      "text/plain": [
       "<Figure size 432x288 with 1 Axes>"
      ]
     },
     "metadata": {
      "needs_background": "light"
     },
     "output_type": "display_data"
    }
   ],
   "source": [
    "sns.distplot(df_filtered['Service'])\n",
    "plt.show()"
   ]
  },
  {
   "cell_type": "code",
   "execution_count": 21,
   "metadata": {},
   "outputs": [
    {
     "data": {
      "text/plain": [
       "<matplotlib.axes._subplots.AxesSubplot at 0x1c1ae07da0>"
      ]
     },
     "execution_count": 21,
     "metadata": {},
     "output_type": "execute_result"
    },
    {
     "data": {
      "image/png": "[encoded data removed]",
      "text/plain": [
       "<Figure size 432x288 with 1 Axes>"
      ]
     },
     "metadata": {
      "needs_background": "light"
     },
     "output_type": "display_data"
    }
   ],
   "source": [
    "sns.distplot(df_filtered['Construction'])"
   ]
  },
  {
   "cell_type": "code",
   "execution_count": 22,
   "metadata": {},
   "outputs": [
    {
     "data": {
      "image/png": "[encoded data removed]",
      "text/plain": [
       "<Figure size 432x288 with 1 Axes>"
      ]
     },
     "metadata": {
      "needs_background": "light"
     },
     "output_type": "display_data"
    }
   ],
   "source": [
    "sns.distplot(df_filtered['Office'])\n",
    "plt.show()"
   ]
  },
  {
   "cell_type": "markdown",
   "metadata": {},
   "source": [
    "We now have a clear x and y variable to start regression."
   ]
  },
  {
   "cell_type": "code",
   "execution_count": 23,
   "metadata": {},
   "outputs": [],
   "source": [
    "X = df_filtered[refined_cols]\n",
    "y = df_filtered['IncomePerCap']"
   ]
  },
  {
   "cell_type": "markdown",
   "metadata": {},
   "source": [
    "We should now start the regression and look at the R2 and adjusted R2 values."
   ]
  },
  {
   "cell_type": "markdown",
   "metadata": {},
   "source": [
    "We created a test train variable to begin testing.  We set x to the 2nd power so we can normalize the data."
   ]
  },
  {
   "cell_type": "code",
   "execution_count": 24,
   "metadata": {},
   "outputs": [],
   "source": [
    "X_train, X_test, y_train, y_test = train_test_split(X**2, y, test_size=0.2, random_state = 45)"
   ]
  },
  {
   "cell_type": "markdown",
   "metadata": {},
   "source": [
    "We further normalized the data by performing a scaling function.  We do this because all of the data does not fit a normal distriniutiona s referenced by the aboce graphs and we cannot realistically delete anymore outliers."
   ]
  },
  {
   "cell_type": "code",
   "execution_count": 25,
   "metadata": {},
   "outputs": [],
   "source": [
    "ss = StandardScaler()\n",
    "scaledxtrain = ss.fit_transform(X_train)\n",
    "scaledxtest = ss.transform(X_test)"
   ]
  },
  {
   "cell_type": "markdown",
   "metadata": {},
   "source": [
    "We tested the scaled model."
   ]
  },
  {
   "cell_type": "code",
   "execution_count": 26,
   "metadata": {},
   "outputs": [
    {
     "data": {
      "text/html": [
       "<table class=\"simpletable\">\n",
       "<caption>OLS Regression Results</caption>\n",
       "<tr>\n",
       "  <th>Dep. Variable:</th>      <td>IncomePerCap</td>   <th>  R-squared:         </th>  <td>   0.763</td>  \n",
       "</tr>\n",
       "<tr>\n",
       "  <th>Model:</th>                   <td>OLS</td>       <th>  Adj. R-squared:    </th>  <td>   0.762</td>  \n",
       "</tr>\n",
       "<tr>\n",
       "  <th>Method:</th>             <td>Least Squares</td>  <th>  F-statistic:       </th>  <td>   7028.</td>  \n",
       "</tr>\n",
       "<tr>\n",
       "  <th>Date:</th>             <td>Mon, 09 Mar 2020</td> <th>  Prob (F-statistic):</th>   <td>  0.00</td>   \n",
       "</tr>\n",
       "<tr>\n",
       "  <th>Time:</th>                 <td>12:09:48</td>     <th>  Log-Likelihood:    </th> <td>-1.3239e+05</td>\n",
       "</tr>\n",
       "<tr>\n",
       "  <th>No. Observations:</th>      <td> 13140</td>      <th>  AIC:               </th>  <td>2.648e+05</td> \n",
       "</tr>\n",
       "<tr>\n",
       "  <th>Df Residuals:</th>          <td> 13133</td>      <th>  BIC:               </th>  <td>2.648e+05</td> \n",
       "</tr>\n",
       "<tr>\n",
       "  <th>Df Model:</th>              <td>     6</td>      <th>                     </th>      <td> </td>     \n",
       "</tr>\n",
       "<tr>\n",
       "  <th>Covariance Type:</th>      <td>nonrobust</td>    <th>                     </th>      <td> </td>     \n",
       "</tr>\n",
       "</table>\n",
       "<table class=\"simpletable\">\n",
       "<tr>\n",
       "    <td></td>       <th>coef</th>     <th>std err</th>      <th>t</th>      <th>P>|t|</th>  <th>[0.025</th>    <th>0.975]</th>  \n",
       "</tr>\n",
       "<tr>\n",
       "  <th>const</th> <td>     3e+04</td> <td>   50.150</td> <td>  598.212</td> <td> 0.000</td> <td> 2.99e+04</td> <td> 3.01e+04</td>\n",
       "</tr>\n",
       "<tr>\n",
       "  <th>x1</th>    <td>-3564.3291</td> <td>   61.398</td> <td>  -58.053</td> <td> 0.000</td> <td>-3684.677</td> <td>-3443.981</td>\n",
       "</tr>\n",
       "<tr>\n",
       "  <th>x2</th>    <td>  986.0245</td> <td>   73.173</td> <td>   13.475</td> <td> 0.000</td> <td>  842.595</td> <td> 1129.454</td>\n",
       "</tr>\n",
       "<tr>\n",
       "  <th>x3</th>    <td> 9096.1631</td> <td>  117.532</td> <td>   77.393</td> <td> 0.000</td> <td> 8865.783</td> <td> 9326.544</td>\n",
       "</tr>\n",
       "<tr>\n",
       "  <th>x4</th>    <td>  549.1411</td> <td>   86.760</td> <td>    6.329</td> <td> 0.000</td> <td>  379.078</td> <td>  719.204</td>\n",
       "</tr>\n",
       "<tr>\n",
       "  <th>x5</th>    <td>  339.9152</td> <td>   71.632</td> <td>    4.745</td> <td> 0.000</td> <td>  199.506</td> <td>  480.324</td>\n",
       "</tr>\n",
       "<tr>\n",
       "  <th>x6</th>    <td>  227.6837</td> <td>   79.048</td> <td>    2.880</td> <td> 0.004</td> <td>   72.739</td> <td>  382.628</td>\n",
       "</tr>\n",
       "</table>\n",
       "<table class=\"simpletable\">\n",
       "<tr>\n",
       "  <th>Omnibus:</th>       <td>1581.399</td> <th>  Durbin-Watson:     </th> <td>   2.008</td>\n",
       "</tr>\n",
       "<tr>\n",
       "  <th>Prob(Omnibus):</th>  <td> 0.000</td>  <th>  Jarque-Bera (JB):  </th> <td>6069.080</td>\n",
       "</tr>\n",
       "<tr>\n",
       "  <th>Skew:</th>           <td> 0.566</td>  <th>  Prob(JB):          </th> <td>    0.00</td>\n",
       "</tr>\n",
       "<tr>\n",
       "  <th>Kurtosis:</th>       <td> 6.131</td>  <th>  Cond. No.          </th> <td>    5.15</td>\n",
       "</tr>\n",
       "</table><br/><br/>Warnings:<br/>[1] Standard Errors assume that the covariance matrix of the errors is correctly specified."
      ],
      "text/plain": [
       "<class 'statsmodels.iolib.summary.Summary'>\n",
       "\"\"\"\n",
       "                            OLS Regression Results                            \n",
       "==============================================================================\n",
       "Dep. Variable:           IncomePerCap   R-squared:                       0.763\n",
       "Model:                            OLS   Adj. R-squared:                  0.762\n",
       "Method:                 Least Squares   F-statistic:                     7028.\n",
       "Date:                Mon, 09 Mar 2020   Prob (F-statistic):               0.00\n",
       "Time:                        12:09:48   Log-Likelihood:            -1.3239e+05\n",
       "No. Observations:               13140   AIC:                         2.648e+05\n",
       "Df Residuals:                   13133   BIC:                         2.648e+05\n",
       "Df Model:                           6                                         \n",
       "Covariance Type:            nonrobust                                         \n",
       "==============================================================================\n",
       "                 coef    std err          t      P>|t|      [0.025      0.975]\n",
       "------------------------------------------------------------------------------\n",
       "const           3e+04     50.150    598.212      0.000    2.99e+04    3.01e+04\n",
       "x1         -3564.3291     61.398    -58.053      0.000   -3684.677   -3443.981\n",
       "x2           986.0245     73.173     13.475      0.000     842.595    1129.454\n",
       "x3          9096.1631    117.532     77.393      0.000    8865.783    9326.544\n",
       "x4           549.1411     86.760      6.329      0.000     379.078     719.204\n",
       "x5           339.9152     71.632      4.745      0.000     199.506     480.324\n",
       "x6           227.6837     79.048      2.880      0.004      72.739     382.628\n",
       "==============================================================================\n",
       "Omnibus:                     1581.399   Durbin-Watson:                   2.008\n",
       "Prob(Omnibus):                  0.000   Jarque-Bera (JB):             6069.080\n",
       "Skew:                           0.566   Prob(JB):                         0.00\n",
       "Kurtosis:                       6.131   Cond. No.                         5.15\n",
       "==============================================================================\n",
       "\n",
       "Warnings:\n",
       "[1] Standard Errors assume that the covariance matrix of the errors is correctly specified.\n",
       "\"\"\""
      ]
     },
     "execution_count": 26,
     "metadata": {},
     "output_type": "execute_result"
    }
   ],
   "source": [
    "#X = df[refined_cols]\n",
    "X2 = sm.add_constant(scaledxtest)\n",
    "model = sm.OLS(y_test, X2, hasconst= True, exog_name = refined_cols)\n",
    "res = model.fit()\n",
    "res.summary()"
   ]
  },
  {
   "cell_type": "code",
   "execution_count": 27,
   "metadata": {},
   "outputs": [
    {
     "name": "stdout",
     "output_type": "stream",
     "text": [
      "(65696, 6)\n"
     ]
    },
    {
     "data": {
      "text/plain": [
       "(65696, 1)"
      ]
     },
     "execution_count": 27,
     "metadata": {},
     "output_type": "execute_result"
    }
   ],
   "source": [
    "print(X.shape)\n",
    "y.values.reshape(-1,1).shape"
   ]
  },
  {
   "cell_type": "code",
   "execution_count": 28,
   "metadata": {},
   "outputs": [
    {
     "data": {
      "text/plain": [
       "array([[33018.],\n",
       "       [18996.],\n",
       "       [21236.],\n",
       "       ...,\n",
       "       [10642.],\n",
       "       [ 8643.],\n",
       "       [11109.]])"
      ]
     },
     "execution_count": 28,
     "metadata": {},
     "output_type": "execute_result"
    }
   ],
   "source": [
    "y.values.reshape(-1,1)\n"
   ]
  },
  {
   "cell_type": "markdown",
   "metadata": {},
   "source": [
    "In the above execution of the code, we see that our R value and adjusted R value is the same.  This is because we have very few columns that will contirbute to our dependent variable(Income Per Capita)"
   ]
  },
  {
   "cell_type": "markdown",
   "metadata": {},
   "source": [
    "We assigned y to a box-cox method to help normalize our graphs."
   ]
  },
  {
   "cell_type": "code",
   "execution_count": 29,
   "metadata": {},
   "outputs": [],
   "source": [
    "y = power_transform(_, method = 'box-cox')"
   ]
  },
  {
   "cell_type": "markdown",
   "metadata": {},
   "source": [
    "Here we are gathering informstion on our features to further fine tune our model."
   ]
  },
  {
   "cell_type": "code",
   "execution_count": 30,
   "metadata": {},
   "outputs": [
    {
     "name": "stdout",
     "output_type": "stream",
     "text": [
      "[ True  True  True  True  True  True]\n"
     ]
    },
    {
     "data": {
      "text/html": [
       "<div>\n",
       "<style scoped>\n",
       "    .dataframe tbody tr th:only-of-type {\n",
       "        vertical-align: middle;\n",
       "    }\n",
       "\n",
       "    .dataframe tbody tr th {\n",
       "        vertical-align: top;\n",
       "    }\n",
       "\n",
       "    .dataframe thead th {\n",
       "        text-align: right;\n",
       "    }\n",
       "</style>\n",
       "<table border=\"1\" class=\"dataframe\">\n",
       "  <thead>\n",
       "    <tr style=\"text-align: right;\">\n",
       "      <th></th>\n",
       "      <th>Poverty</th>\n",
       "      <th>Office</th>\n",
       "      <th>Professional</th>\n",
       "      <th>Service</th>\n",
       "      <th>Construction</th>\n",
       "      <th>Production</th>\n",
       "    </tr>\n",
       "  </thead>\n",
       "  <tbody>\n",
       "    <tr>\n",
       "      <td>0</td>\n",
       "      <td>10.7</td>\n",
       "      <td>22.8</td>\n",
       "      <td>38.5</td>\n",
       "      <td>15.6</td>\n",
       "      <td>10.8</td>\n",
       "      <td>12.4</td>\n",
       "    </tr>\n",
       "    <tr>\n",
       "      <td>1</td>\n",
       "      <td>22.4</td>\n",
       "      <td>22.9</td>\n",
       "      <td>30.5</td>\n",
       "      <td>24.9</td>\n",
       "      <td>6.3</td>\n",
       "      <td>15.4</td>\n",
       "    </tr>\n",
       "    <tr>\n",
       "      <td>2</td>\n",
       "      <td>14.7</td>\n",
       "      <td>33.3</td>\n",
       "      <td>27.9</td>\n",
       "      <td>19.4</td>\n",
       "      <td>9.9</td>\n",
       "      <td>9.6</td>\n",
       "    </tr>\n",
       "    <tr>\n",
       "      <td>3</td>\n",
       "      <td>2.3</td>\n",
       "      <td>25.8</td>\n",
       "      <td>29.0</td>\n",
       "      <td>16.6</td>\n",
       "      <td>9.1</td>\n",
       "      <td>19.5</td>\n",
       "    </tr>\n",
       "    <tr>\n",
       "      <td>4</td>\n",
       "      <td>12.2</td>\n",
       "      <td>20.5</td>\n",
       "      <td>48.8</td>\n",
       "      <td>13.8</td>\n",
       "      <td>3.5</td>\n",
       "      <td>13.4</td>\n",
       "    </tr>\n",
       "  </tbody>\n",
       "</table>\n",
       "</div>"
      ],
      "text/plain": [
       "   Poverty  Office  Professional  Service  Construction  Production\n",
       "0     10.7    22.8          38.5     15.6          10.8        12.4\n",
       "1     22.4    22.9          30.5     24.9           6.3        15.4\n",
       "2     14.7    33.3          27.9     19.4           9.9         9.6\n",
       "3      2.3    25.8          29.0     16.6           9.1        19.5\n",
       "4     12.2    20.5          48.8     13.8           3.5        13.4"
      ]
     },
     "execution_count": 30,
     "metadata": {},
     "output_type": "execute_result"
    }
   ],
   "source": [
    "X = df_filtered[refined_cols]\n",
    "y = (df_filtered['IncomePerCap'])\n",
    "lm = LinearRegression()\n",
    "## instantiate the selector object\n",
    "selector = RFE(lm, n_features_to_select=6 )\n",
    "\n",
    "## fit the model\n",
    "selector.fit(X,y)\n",
    "## check which columns are selected\n",
    "ind = selector.get_support()\n",
    "print(ind)\n",
    "X.loc[:,ind].head()"
   ]
  },
  {
   "cell_type": "markdown",
   "metadata": {},
   "source": [
    "We compared R2 with these predictors"
   ]
  },
  {
   "cell_type": "code",
   "execution_count": 31,
   "metadata": {},
   "outputs": [
    {
     "name": "stdout",
     "output_type": "stream",
     "text": [
      "0.7580161038438501\n"
     ]
    }
   ],
   "source": [
    "lm6 = selector.estimator_\n",
    "R2 = lm6.score(X.loc[:, ind],y)\n",
    "print(R2)"
   ]
  },
  {
   "cell_type": "code",
   "execution_count": 32,
   "metadata": {},
   "outputs": [
    {
     "name": "stdout",
     "output_type": "stream",
     "text": [
      "0.7580050530052629\n"
     ]
    }
   ],
   "source": [
    "R2_adj = 1- (1-R2)*(len(y)-1)/(len(y) - 3 - 1)\n",
    "print(R2_adj)"
   ]
  },
  {
   "cell_type": "markdown",
   "metadata": {},
   "source": [
    "We need a y_predict score to calculate our residuals."
   ]
  },
  {
   "cell_type": "code",
   "execution_count": 34,
   "metadata": {},
   "outputs": [],
   "source": [
    "y_predict = lm6.predict(X)"
   ]
  },
  {
   "cell_type": "markdown",
   "metadata": {},
   "source": [
    "Various reshaping took place to fit our model."
   ]
  },
  {
   "cell_type": "code",
   "execution_count": 35,
   "metadata": {},
   "outputs": [
    {
     "name": "stdout",
     "output_type": "stream",
     "text": [
      "(65696, 1)\n",
      "(65696, 1)\n"
     ]
    }
   ],
   "source": [
    "print(y.values.reshape(-1,1).shape)\n",
    "print(y_predict.reshape(-1,1).shape)"
   ]
  },
  {
   "cell_type": "code",
   "execution_count": 36,
   "metadata": {},
   "outputs": [
    {
     "data": {
      "text/plain": [
       "(65696,)"
      ]
     },
     "execution_count": 36,
     "metadata": {},
     "output_type": "execute_result"
    }
   ],
   "source": [
    "y_predict.shape"
   ]
  },
  {
   "cell_type": "code",
   "execution_count": 37,
   "metadata": {},
   "outputs": [
    {
     "data": {
      "text/plain": [
       "0          142.027027\n",
       "1        -5348.427218\n",
       "2        -4902.790200\n",
       "3        -2849.433270\n",
       "4        -1237.307749\n",
       "             ...     \n",
       "73983     1452.492386\n",
       "73988    -5682.152175\n",
       "73994   -14846.398283\n",
       "73996   -15596.934728\n",
       "73997    -9959.888581\n",
       "Name: IncomePerCap, Length: 65696, dtype: float64"
      ]
     },
     "execution_count": 37,
     "metadata": {},
     "output_type": "execute_result"
    }
   ],
   "source": [
    "residuals = y - y_predict\n",
    "residuals"
   ]
  },
  {
   "cell_type": "markdown",
   "metadata": {},
   "source": [
    "Here is the scatter plot of the residuals.  ZTHis is the best fit we could secure after cleaning and adjusting the data."
   ]
  },
  {
   "cell_type": "code",
   "execution_count": 38,
   "metadata": {},
   "outputs": [
    {
     "data": {
      "image/png": "[encoded data removed]",
      "text/plain": [
       "<Figure size 432x288 with 1 Axes>"
      ]
     },
     "metadata": {
      "needs_background": "light"
     },
     "output_type": "display_data"
    }
   ],
   "source": [
    "plt.scatter(y_predict, residuals)\n",
    "plt.plot(y_predict, [0 for i in range(len(df_filtered))])\n",
    "plt.show()"
   ]
  },
  {
   "cell_type": "markdown",
   "metadata": {},
   "source": [
    "Here is a qq plot to see how our data spreads."
   ]
  },
  {
   "cell_type": "code",
   "execution_count": 39,
   "metadata": {},
   "outputs": [
    {
     "data": {
      "image/png": "[encoded data removed]",
      "text/plain": [
       "<Figure size 432x288 with 1 Axes>"
      ]
     },
     "metadata": {
      "needs_background": "light"
     },
     "output_type": "display_data"
    }
   ],
   "source": [
    "fig = sm.graphics.qqplot(residuals, dist=stats.norm, line='45', fit=True)"
   ]
  },
  {
   "cell_type": "markdown",
   "metadata": {},
   "source": [
    "This is the residuals plot with train and test scores done through yellow brick."
   ]
  },
  {
   "cell_type": "code",
   "execution_count": 40,
   "metadata": {},
   "outputs": [
    {
     "data": {
      "image/png": "[encoded data removed]",
      "text/plain": [
       "<Figure size 432x288 with 2 Axes>"
      ]
     },
     "metadata": {
      "needs_background": "light"
     },
     "output_type": "display_data"
    },
    {
     "data": {
      "text/plain": [
       "<matplotlib.axes._subplots.AxesSubplot at 0x1c1d29ce80>"
      ]
     },
     "execution_count": 40,
     "metadata": {},
     "output_type": "execute_result"
    }
   ],
   "source": [
    "visualizer = ResidualsPlot(LinearRegression())\n",
    "visualizer.fit(X_train, y_train)\n",
    "visualizer.score(X_test, y_test)\n",
    "visualizer.show()"
   ]
  },
  {
   "cell_type": "markdown",
   "metadata": {},
   "source": [
    "Now we the model is ready to be tested."
   ]
  },
  {
   "cell_type": "code",
   "execution_count": 42,
   "metadata": {},
   "outputs": [
    {
     "data": {
      "text/plain": [
       "array([45184.82197749])"
      ]
     },
     "execution_count": 42,
     "metadata": {},
     "output_type": "execute_result"
    }
   ],
   "source": [
    "lr = LinearRegression()\n",
    "lr.fit(X,y)\n",
    "lr.predict(np.array([[5, 35, 55, 8 ,1, 1]]))"
   ]
  },
  {
   "cell_type": "code",
   "execution_count": null,
   "metadata": {},
   "outputs": [],
   "source": []
  }
 ],
 "metadata": {
  "kernelspec": {
   "display_name": "Python 3",
   "language": "python",
   "name": "python3"
  },
  "language_info": {
   "codemirror_mode": {
    "name": "ipython",
    "version": 3
   },
   "file_extension": ".py",
   "mimetype": "text/x-python",
   "name": "python",
   "nbconvert_exporter": "python",
   "pygments_lexer": "ipython3",
   "version": "3.6.9"
  }
 },
 "nbformat": 4,
 "nbformat_minor": 4
}

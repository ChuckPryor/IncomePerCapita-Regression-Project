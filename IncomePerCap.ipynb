{
 "cells": [
  {
   "cell_type": "markdown",
   "metadata": {},
   "source": [
    "## Predicting Income Per Capita\n",
    "\n",
    "### A Multilinear Regression Model\n",
    "\n",
    "*by Charles Pryor & Akshay Indusekar*"
   ]
  },
  {
   "cell_type": "markdown",
   "metadata": {},
   "source": [
    "We started by importing all of the necessary packages that we knew we would need.  I keep these in a separate file and import all of them at the same time whenever there is a project."
   ]
  },
  {
   "cell_type": "code",
   "execution_count": 218,
   "metadata": {},
   "outputs": [],
   "source": [
    "import numpy as np\n",
    "import pandas as pd \n",
    "from scipy import stats\n",
    "import matplotlib.pyplot as plt\n",
    "import seaborn as sns\n",
    "import math\n",
    "import pickle\n",
    "import itertools\n",
    "import scipy\n",
    "from sklearn.linear_model import LinearRegression, Ridge, Lasso\n",
    "from sklearn.model_selection import train_test_split, cross_val_score \n",
    "from statistics import mean \n",
    "from sklearn.preprocessing import StandardScaler, power_transform, PolynomialFeatures\n",
    "from statsmodels.stats.outliers_influence import variance_inflation_factor\n",
    "from sklearn.feature_selection import RFE\n",
    "import statsmodels.api as sm\n",
    "%matplotlib inline"
   ]
  },
  {
   "cell_type": "markdown",
   "metadata": {},
   "source": [
    "We found our data set on Kaggle.  This reflects the variables in which we want to produce a model that will predict income by state and several variables in which we ultimately decided upon as we perform metrics which tell us which is relevant.  We imported our data into pandas DataFrame.  From here on out, I will use the present tense."
   ]
  },
  {
   "cell_type": "code",
   "execution_count": 2,
   "metadata": {},
   "outputs": [
    {
     "data": {
      "text/html": [
       "<div>\n",
       "<style scoped>\n",
       "    .dataframe tbody tr th:only-of-type {\n",
       "        vertical-align: middle;\n",
       "    }\n",
       "\n",
       "    .dataframe tbody tr th {\n",
       "        vertical-align: top;\n",
       "    }\n",
       "\n",
       "    .dataframe thead th {\n",
       "        text-align: right;\n",
       "    }\n",
       "</style>\n",
       "<table border=\"1\" class=\"dataframe\">\n",
       "  <thead>\n",
       "    <tr style=\"text-align: right;\">\n",
       "      <th></th>\n",
       "      <th>TractId</th>\n",
       "      <th>State</th>\n",
       "      <th>County</th>\n",
       "      <th>TotalPop</th>\n",
       "      <th>Men</th>\n",
       "      <th>Women</th>\n",
       "      <th>Hispanic</th>\n",
       "      <th>White</th>\n",
       "      <th>Black</th>\n",
       "      <th>Native</th>\n",
       "      <th>...</th>\n",
       "      <th>Walk</th>\n",
       "      <th>OtherTransp</th>\n",
       "      <th>WorkAtHome</th>\n",
       "      <th>MeanCommute</th>\n",
       "      <th>Employed</th>\n",
       "      <th>PrivateWork</th>\n",
       "      <th>PublicWork</th>\n",
       "      <th>SelfEmployed</th>\n",
       "      <th>FamilyWork</th>\n",
       "      <th>Unemployment</th>\n",
       "    </tr>\n",
       "  </thead>\n",
       "  <tbody>\n",
       "    <tr>\n",
       "      <td>0</td>\n",
       "      <td>1001020100</td>\n",
       "      <td>Alabama</td>\n",
       "      <td>Autauga County</td>\n",
       "      <td>1845</td>\n",
       "      <td>899</td>\n",
       "      <td>946</td>\n",
       "      <td>2.4</td>\n",
       "      <td>86.3</td>\n",
       "      <td>5.2</td>\n",
       "      <td>0.0</td>\n",
       "      <td>...</td>\n",
       "      <td>0.5</td>\n",
       "      <td>0.0</td>\n",
       "      <td>2.1</td>\n",
       "      <td>24.5</td>\n",
       "      <td>881</td>\n",
       "      <td>74.2</td>\n",
       "      <td>21.2</td>\n",
       "      <td>4.5</td>\n",
       "      <td>0.0</td>\n",
       "      <td>4.6</td>\n",
       "    </tr>\n",
       "    <tr>\n",
       "      <td>1</td>\n",
       "      <td>1001020200</td>\n",
       "      <td>Alabama</td>\n",
       "      <td>Autauga County</td>\n",
       "      <td>2172</td>\n",
       "      <td>1167</td>\n",
       "      <td>1005</td>\n",
       "      <td>1.1</td>\n",
       "      <td>41.6</td>\n",
       "      <td>54.5</td>\n",
       "      <td>0.0</td>\n",
       "      <td>...</td>\n",
       "      <td>0.0</td>\n",
       "      <td>0.5</td>\n",
       "      <td>0.0</td>\n",
       "      <td>22.2</td>\n",
       "      <td>852</td>\n",
       "      <td>75.9</td>\n",
       "      <td>15.0</td>\n",
       "      <td>9.0</td>\n",
       "      <td>0.0</td>\n",
       "      <td>3.4</td>\n",
       "    </tr>\n",
       "    <tr>\n",
       "      <td>2</td>\n",
       "      <td>1001020300</td>\n",
       "      <td>Alabama</td>\n",
       "      <td>Autauga County</td>\n",
       "      <td>3385</td>\n",
       "      <td>1533</td>\n",
       "      <td>1852</td>\n",
       "      <td>8.0</td>\n",
       "      <td>61.4</td>\n",
       "      <td>26.5</td>\n",
       "      <td>0.6</td>\n",
       "      <td>...</td>\n",
       "      <td>1.0</td>\n",
       "      <td>0.8</td>\n",
       "      <td>1.5</td>\n",
       "      <td>23.1</td>\n",
       "      <td>1482</td>\n",
       "      <td>73.3</td>\n",
       "      <td>21.1</td>\n",
       "      <td>4.8</td>\n",
       "      <td>0.7</td>\n",
       "      <td>4.7</td>\n",
       "    </tr>\n",
       "    <tr>\n",
       "      <td>3</td>\n",
       "      <td>1001020400</td>\n",
       "      <td>Alabama</td>\n",
       "      <td>Autauga County</td>\n",
       "      <td>4267</td>\n",
       "      <td>2001</td>\n",
       "      <td>2266</td>\n",
       "      <td>9.6</td>\n",
       "      <td>80.3</td>\n",
       "      <td>7.1</td>\n",
       "      <td>0.5</td>\n",
       "      <td>...</td>\n",
       "      <td>1.5</td>\n",
       "      <td>2.9</td>\n",
       "      <td>2.1</td>\n",
       "      <td>25.9</td>\n",
       "      <td>1849</td>\n",
       "      <td>75.8</td>\n",
       "      <td>19.7</td>\n",
       "      <td>4.5</td>\n",
       "      <td>0.0</td>\n",
       "      <td>6.1</td>\n",
       "    </tr>\n",
       "    <tr>\n",
       "      <td>4</td>\n",
       "      <td>1001020500</td>\n",
       "      <td>Alabama</td>\n",
       "      <td>Autauga County</td>\n",
       "      <td>9965</td>\n",
       "      <td>5054</td>\n",
       "      <td>4911</td>\n",
       "      <td>0.9</td>\n",
       "      <td>77.5</td>\n",
       "      <td>16.4</td>\n",
       "      <td>0.0</td>\n",
       "      <td>...</td>\n",
       "      <td>0.8</td>\n",
       "      <td>0.3</td>\n",
       "      <td>0.7</td>\n",
       "      <td>21.0</td>\n",
       "      <td>4787</td>\n",
       "      <td>71.4</td>\n",
       "      <td>24.1</td>\n",
       "      <td>4.5</td>\n",
       "      <td>0.0</td>\n",
       "      <td>2.3</td>\n",
       "    </tr>\n",
       "    <tr>\n",
       "      <td>...</td>\n",
       "      <td>...</td>\n",
       "      <td>...</td>\n",
       "      <td>...</td>\n",
       "      <td>...</td>\n",
       "      <td>...</td>\n",
       "      <td>...</td>\n",
       "      <td>...</td>\n",
       "      <td>...</td>\n",
       "      <td>...</td>\n",
       "      <td>...</td>\n",
       "      <td>...</td>\n",
       "      <td>...</td>\n",
       "      <td>...</td>\n",
       "      <td>...</td>\n",
       "      <td>...</td>\n",
       "      <td>...</td>\n",
       "      <td>...</td>\n",
       "      <td>...</td>\n",
       "      <td>...</td>\n",
       "      <td>...</td>\n",
       "      <td>...</td>\n",
       "    </tr>\n",
       "    <tr>\n",
       "      <td>73996</td>\n",
       "      <td>72153750501</td>\n",
       "      <td>Puerto Rico</td>\n",
       "      <td>Yauco Municipio</td>\n",
       "      <td>6011</td>\n",
       "      <td>3035</td>\n",
       "      <td>2976</td>\n",
       "      <td>99.7</td>\n",
       "      <td>0.3</td>\n",
       "      <td>0.0</td>\n",
       "      <td>0.0</td>\n",
       "      <td>...</td>\n",
       "      <td>0.5</td>\n",
       "      <td>0.0</td>\n",
       "      <td>3.6</td>\n",
       "      <td>26.9</td>\n",
       "      <td>1576</td>\n",
       "      <td>59.2</td>\n",
       "      <td>33.8</td>\n",
       "      <td>7.0</td>\n",
       "      <td>0.0</td>\n",
       "      <td>20.8</td>\n",
       "    </tr>\n",
       "    <tr>\n",
       "      <td>73997</td>\n",
       "      <td>72153750502</td>\n",
       "      <td>Puerto Rico</td>\n",
       "      <td>Yauco Municipio</td>\n",
       "      <td>2342</td>\n",
       "      <td>959</td>\n",
       "      <td>1383</td>\n",
       "      <td>99.1</td>\n",
       "      <td>0.9</td>\n",
       "      <td>0.0</td>\n",
       "      <td>0.0</td>\n",
       "      <td>...</td>\n",
       "      <td>0.0</td>\n",
       "      <td>0.0</td>\n",
       "      <td>1.3</td>\n",
       "      <td>25.3</td>\n",
       "      <td>666</td>\n",
       "      <td>58.4</td>\n",
       "      <td>35.4</td>\n",
       "      <td>6.2</td>\n",
       "      <td>0.0</td>\n",
       "      <td>26.3</td>\n",
       "    </tr>\n",
       "    <tr>\n",
       "      <td>73998</td>\n",
       "      <td>72153750503</td>\n",
       "      <td>Puerto Rico</td>\n",
       "      <td>Yauco Municipio</td>\n",
       "      <td>2218</td>\n",
       "      <td>1001</td>\n",
       "      <td>1217</td>\n",
       "      <td>99.5</td>\n",
       "      <td>0.2</td>\n",
       "      <td>0.0</td>\n",
       "      <td>0.0</td>\n",
       "      <td>...</td>\n",
       "      <td>3.4</td>\n",
       "      <td>0.0</td>\n",
       "      <td>3.4</td>\n",
       "      <td>23.5</td>\n",
       "      <td>560</td>\n",
       "      <td>57.5</td>\n",
       "      <td>34.5</td>\n",
       "      <td>8.0</td>\n",
       "      <td>0.0</td>\n",
       "      <td>23.0</td>\n",
       "    </tr>\n",
       "    <tr>\n",
       "      <td>73999</td>\n",
       "      <td>72153750601</td>\n",
       "      <td>Puerto Rico</td>\n",
       "      <td>Yauco Municipio</td>\n",
       "      <td>4380</td>\n",
       "      <td>1964</td>\n",
       "      <td>2416</td>\n",
       "      <td>100.0</td>\n",
       "      <td>0.0</td>\n",
       "      <td>0.0</td>\n",
       "      <td>0.0</td>\n",
       "      <td>...</td>\n",
       "      <td>0.0</td>\n",
       "      <td>0.0</td>\n",
       "      <td>0.0</td>\n",
       "      <td>24.1</td>\n",
       "      <td>1062</td>\n",
       "      <td>67.7</td>\n",
       "      <td>30.4</td>\n",
       "      <td>1.9</td>\n",
       "      <td>0.0</td>\n",
       "      <td>29.5</td>\n",
       "    </tr>\n",
       "    <tr>\n",
       "      <td>74000</td>\n",
       "      <td>72153750602</td>\n",
       "      <td>Puerto Rico</td>\n",
       "      <td>Yauco Municipio</td>\n",
       "      <td>3001</td>\n",
       "      <td>1343</td>\n",
       "      <td>1658</td>\n",
       "      <td>99.2</td>\n",
       "      <td>0.8</td>\n",
       "      <td>0.0</td>\n",
       "      <td>0.0</td>\n",
       "      <td>...</td>\n",
       "      <td>4.9</td>\n",
       "      <td>0.0</td>\n",
       "      <td>8.9</td>\n",
       "      <td>21.6</td>\n",
       "      <td>759</td>\n",
       "      <td>75.9</td>\n",
       "      <td>19.1</td>\n",
       "      <td>5.0</td>\n",
       "      <td>0.0</td>\n",
       "      <td>17.9</td>\n",
       "    </tr>\n",
       "  </tbody>\n",
       "</table>\n",
       "<p>74001 rows × 37 columns</p>\n",
       "</div>"
      ],
      "text/plain": [
       "           TractId        State           County  TotalPop   Men  Women  \\\n",
       "0       1001020100      Alabama   Autauga County      1845   899    946   \n",
       "1       1001020200      Alabama   Autauga County      2172  1167   1005   \n",
       "2       1001020300      Alabama   Autauga County      3385  1533   1852   \n",
       "3       1001020400      Alabama   Autauga County      4267  2001   2266   \n",
       "4       1001020500      Alabama   Autauga County      9965  5054   4911   \n",
       "...            ...          ...              ...       ...   ...    ...   \n",
       "73996  72153750501  Puerto Rico  Yauco Municipio      6011  3035   2976   \n",
       "73997  72153750502  Puerto Rico  Yauco Municipio      2342   959   1383   \n",
       "73998  72153750503  Puerto Rico  Yauco Municipio      2218  1001   1217   \n",
       "73999  72153750601  Puerto Rico  Yauco Municipio      4380  1964   2416   \n",
       "74000  72153750602  Puerto Rico  Yauco Municipio      3001  1343   1658   \n",
       "\n",
       "       Hispanic  White  Black  Native  ...  Walk  OtherTransp  WorkAtHome  \\\n",
       "0           2.4   86.3    5.2     0.0  ...   0.5          0.0         2.1   \n",
       "1           1.1   41.6   54.5     0.0  ...   0.0          0.5         0.0   \n",
       "2           8.0   61.4   26.5     0.6  ...   1.0          0.8         1.5   \n",
       "3           9.6   80.3    7.1     0.5  ...   1.5          2.9         2.1   \n",
       "4           0.9   77.5   16.4     0.0  ...   0.8          0.3         0.7   \n",
       "...         ...    ...    ...     ...  ...   ...          ...         ...   \n",
       "73996      99.7    0.3    0.0     0.0  ...   0.5          0.0         3.6   \n",
       "73997      99.1    0.9    0.0     0.0  ...   0.0          0.0         1.3   \n",
       "73998      99.5    0.2    0.0     0.0  ...   3.4          0.0         3.4   \n",
       "73999     100.0    0.0    0.0     0.0  ...   0.0          0.0         0.0   \n",
       "74000      99.2    0.8    0.0     0.0  ...   4.9          0.0         8.9   \n",
       "\n",
       "       MeanCommute  Employed  PrivateWork  PublicWork  SelfEmployed  \\\n",
       "0             24.5       881         74.2        21.2           4.5   \n",
       "1             22.2       852         75.9        15.0           9.0   \n",
       "2             23.1      1482         73.3        21.1           4.8   \n",
       "3             25.9      1849         75.8        19.7           4.5   \n",
       "4             21.0      4787         71.4        24.1           4.5   \n",
       "...            ...       ...          ...         ...           ...   \n",
       "73996         26.9      1576         59.2        33.8           7.0   \n",
       "73997         25.3       666         58.4        35.4           6.2   \n",
       "73998         23.5       560         57.5        34.5           8.0   \n",
       "73999         24.1      1062         67.7        30.4           1.9   \n",
       "74000         21.6       759         75.9        19.1           5.0   \n",
       "\n",
       "       FamilyWork  Unemployment  \n",
       "0             0.0           4.6  \n",
       "1             0.0           3.4  \n",
       "2             0.7           4.7  \n",
       "3             0.0           6.1  \n",
       "4             0.0           2.3  \n",
       "...           ...           ...  \n",
       "73996         0.0          20.8  \n",
       "73997         0.0          26.3  \n",
       "73998         0.0          23.0  \n",
       "73999         0.0          29.5  \n",
       "74000         0.0          17.9  \n",
       "\n",
       "[74001 rows x 37 columns]"
      ]
     },
     "execution_count": 2,
     "metadata": {},
     "output_type": "execute_result"
    }
   ],
   "source": [
    "df = pd.read_csv('acs2017_census_tract_data.csv')\n",
    "df"
   ]
  },
  {
   "cell_type": "markdown",
   "metadata": {},
   "source": [
    "We start to analyze our data set.  Here we wish to see if our set includes all of the states.  The original data set has 74,001 rows and 37 columns.  It is here that we can also see the spread of the columns."
   ]
  },
  {
   "cell_type": "code",
   "execution_count": 3,
   "metadata": {},
   "outputs": [
    {
     "name": "stdout",
     "output_type": "stream",
     "text": [
      "<class 'pandas.core.frame.DataFrame'>\n",
      "RangeIndex: 74001 entries, 0 to 74000\n",
      "Data columns (total 37 columns):\n",
      "TractId             74001 non-null int64\n",
      "State               74001 non-null object\n",
      "County              74001 non-null object\n",
      "TotalPop            74001 non-null int64\n",
      "Men                 74001 non-null int64\n",
      "Women               74001 non-null int64\n",
      "Hispanic            73305 non-null float64\n",
      "White               73305 non-null float64\n",
      "Black               73305 non-null float64\n",
      "Native              73305 non-null float64\n",
      "Asian               73305 non-null float64\n",
      "Pacific             73305 non-null float64\n",
      "VotingAgeCitizen    74001 non-null int64\n",
      "Income              72885 non-null float64\n",
      "IncomeErr           72885 non-null float64\n",
      "IncomePerCap        73256 non-null float64\n",
      "IncomePerCapErr     73256 non-null float64\n",
      "Poverty             73159 non-null float64\n",
      "ChildPoverty        72891 non-null float64\n",
      "Professional        73190 non-null float64\n",
      "Service             73190 non-null float64\n",
      "Office              73190 non-null float64\n",
      "Construction        73190 non-null float64\n",
      "Production          73190 non-null float64\n",
      "Drive               73200 non-null float64\n",
      "Carpool             73200 non-null float64\n",
      "Transit             73200 non-null float64\n",
      "Walk                73200 non-null float64\n",
      "OtherTransp         73200 non-null float64\n",
      "WorkAtHome          73200 non-null float64\n",
      "MeanCommute         73055 non-null float64\n",
      "Employed            74001 non-null int64\n",
      "PrivateWork         73190 non-null float64\n",
      "PublicWork          73190 non-null float64\n",
      "SelfEmployed        73190 non-null float64\n",
      "FamilyWork          73190 non-null float64\n",
      "Unemployment        73191 non-null float64\n",
      "dtypes: float64(29), int64(6), object(2)\n",
      "memory usage: 20.9+ MB\n"
     ]
    }
   ],
   "source": [
    "df.info()"
   ]
  },
  {
   "cell_type": "markdown",
   "metadata": {},
   "source": [
    "It is imperative that we see a true representation of all states in the Union since we are predicting salary by each state."
   ]
  },
  {
   "cell_type": "code",
   "execution_count": 4,
   "metadata": {},
   "outputs": [
    {
     "data": {
      "text/plain": [
       "array(['Alabama', 'Alaska', 'Arizona', 'Arkansas', 'California',\n",
       "       'Colorado', 'Connecticut', 'Delaware', 'District of Columbia',\n",
       "       'Florida', 'Georgia', 'Hawaii', 'Idaho', 'Illinois', 'Indiana',\n",
       "       'Iowa', 'Kansas', 'Kentucky', 'Louisiana', 'Maine', 'Maryland',\n",
       "       'Massachusetts', 'Michigan', 'Minnesota', 'Mississippi',\n",
       "       'Missouri', 'Montana', 'Nebraska', 'Nevada', 'New Hampshire',\n",
       "       'New Jersey', 'New Mexico', 'New York', 'North Carolina',\n",
       "       'North Dakota', 'Ohio', 'Oklahoma', 'Oregon', 'Pennsylvania',\n",
       "       'Rhode Island', 'South Carolina', 'South Dakota', 'Tennessee',\n",
       "       'Texas', 'Utah', 'Vermont', 'Virginia', 'Washington',\n",
       "       'West Virginia', 'Wisconsin', 'Wyoming', 'Puerto Rico'],\n",
       "      dtype=object)"
      ]
     },
     "execution_count": 4,
     "metadata": {},
     "output_type": "execute_result"
    }
   ],
   "source": [
    "df.State.unique()"
   ]
  },
  {
   "cell_type": "markdown",
   "metadata": {},
   "source": [
    "We now check for null values in our data set."
   ]
  },
  {
   "cell_type": "code",
   "execution_count": 5,
   "metadata": {},
   "outputs": [
    {
     "data": {
      "text/plain": [
       "TractId                0\n",
       "State                  0\n",
       "County                 0\n",
       "TotalPop               0\n",
       "Men                    0\n",
       "Women                  0\n",
       "Hispanic             696\n",
       "White                696\n",
       "Black                696\n",
       "Native               696\n",
       "Asian                696\n",
       "Pacific              696\n",
       "VotingAgeCitizen       0\n",
       "Income              1116\n",
       "IncomeErr           1116\n",
       "IncomePerCap         745\n",
       "IncomePerCapErr      745\n",
       "Poverty              842\n",
       "ChildPoverty        1110\n",
       "Professional         811\n",
       "Service              811\n",
       "Office               811\n",
       "Construction         811\n",
       "Production           811\n",
       "Drive                801\n",
       "Carpool              801\n",
       "Transit              801\n",
       "Walk                 801\n",
       "OtherTransp          801\n",
       "WorkAtHome           801\n",
       "MeanCommute          946\n",
       "Employed               0\n",
       "PrivateWork          811\n",
       "PublicWork           811\n",
       "SelfEmployed         811\n",
       "FamilyWork           811\n",
       "Unemployment         810\n",
       "dtype: int64"
      ]
     },
     "execution_count": 5,
     "metadata": {},
     "output_type": "execute_result"
    }
   ],
   "source": [
    "df.isnull().sum()"
   ]
  },
  {
   "cell_type": "markdown",
   "metadata": {},
   "source": [
    "We see that we have many columns with null values.  Being that we have a data set with over 74,000 rows, we decided to drop all of the rows containing null values."
   ]
  },
  {
   "cell_type": "code",
   "execution_count": 6,
   "metadata": {},
   "outputs": [],
   "source": [
    "df = df[df['Income'].notna()]\n",
    "df = df[df['ChildPoverty'].notna()]\n",
    "df = df[df['MeanCommute'].notna()]"
   ]
  },
  {
   "cell_type": "markdown",
   "metadata": {},
   "source": [
    "We then check to see if our data cleaned properly."
   ]
  },
  {
   "cell_type": "code",
   "execution_count": 8,
   "metadata": {},
   "outputs": [
    {
     "data": {
      "text/plain": [
       "TractId             0\n",
       "State               0\n",
       "County              0\n",
       "TotalPop            0\n",
       "Men                 0\n",
       "Women               0\n",
       "Hispanic            0\n",
       "White               0\n",
       "Black               0\n",
       "Native              0\n",
       "Asian               0\n",
       "Pacific             0\n",
       "VotingAgeCitizen    0\n",
       "Income              0\n",
       "IncomeErr           0\n",
       "IncomePerCap        0\n",
       "IncomePerCapErr     0\n",
       "Poverty             0\n",
       "ChildPoverty        0\n",
       "Professional        0\n",
       "Service             0\n",
       "Office              0\n",
       "Construction        0\n",
       "Production          0\n",
       "Drive               0\n",
       "Carpool             0\n",
       "Transit             0\n",
       "Walk                0\n",
       "OtherTransp         0\n",
       "WorkAtHome          0\n",
       "MeanCommute         0\n",
       "Employed            0\n",
       "PrivateWork         0\n",
       "PublicWork          0\n",
       "SelfEmployed        0\n",
       "FamilyWork          0\n",
       "Unemployment        0\n",
       "dtype: int64"
      ]
     },
     "execution_count": 8,
     "metadata": {},
     "output_type": "execute_result"
    }
   ],
   "source": [
    "df.isnull().sum()"
   ]
  },
  {
   "cell_type": "markdown",
   "metadata": {},
   "source": [
    "We now must decide what to do with our outliers.  We must do this so that when we design our model, it will show positive linear relationships.  We decided to use just one feature, df1['Office] to cleanse our data of outliers."
   ]
  },
  {
   "cell_type": "code",
   "execution_count": 10,
   "metadata": {},
   "outputs": [],
   "source": [
    "x_cols = df.columns.tolist()"
   ]
  },
  {
   "cell_type": "code",
   "execution_count": 11,
   "metadata": {},
   "outputs": [
    {
     "data": {
      "text/plain": [
       "['State',\n",
       " 'County',\n",
       " 'TotalPop',\n",
       " 'Men',\n",
       " 'Women',\n",
       " 'Hispanic',\n",
       " 'White',\n",
       " 'Black',\n",
       " 'Native',\n",
       " 'Asian',\n",
       " 'Pacific',\n",
       " 'VotingAgeCitizen',\n",
       " 'Income',\n",
       " 'IncomeErr',\n",
       " 'IncomePerCap',\n",
       " 'IncomePerCapErr',\n",
       " 'Poverty',\n",
       " 'ChildPoverty',\n",
       " 'Professional',\n",
       " 'Service',\n",
       " 'Office',\n",
       " 'Construction',\n",
       " 'Production',\n",
       " 'Drive',\n",
       " 'Carpool',\n",
       " 'Transit',\n",
       " 'Walk',\n",
       " 'OtherTransp',\n",
       " 'WorkAtHome',\n",
       " 'MeanCommute',\n",
       " 'Employed',\n",
       " 'PrivateWork',\n",
       " 'PublicWork',\n",
       " 'SelfEmployed',\n",
       " 'FamilyWork',\n",
       " 'Unemployment']"
      ]
     },
     "execution_count": 11,
     "metadata": {},
     "output_type": "execute_result"
    }
   ],
   "source": [
    "del x_cols[0]\n",
    "x_cols"
   ]
  },
  {
   "cell_type": "code",
   "execution_count": 251,
   "metadata": {},
   "outputs": [
    {
     "data": {
      "text/plain": [
       "0"
      ]
     },
     "execution_count": 251,
     "metadata": {},
     "output_type": "execute_result"
    }
   ],
   "source": [
    "df1.duplicated().sum()"
   ]
  },
  {
   "cell_type": "code",
   "execution_count": 34,
   "metadata": {},
   "outputs": [
    {
     "data": {
      "text/html": [
       "<div>\n",
       "<style scoped>\n",
       "    .dataframe tbody tr th:only-of-type {\n",
       "        vertical-align: middle;\n",
       "    }\n",
       "\n",
       "    .dataframe tbody tr th {\n",
       "        vertical-align: top;\n",
       "    }\n",
       "\n",
       "    .dataframe thead th {\n",
       "        text-align: right;\n",
       "    }\n",
       "</style>\n",
       "<table border=\"1\" class=\"dataframe\">\n",
       "  <thead>\n",
       "    <tr style=\"text-align: right;\">\n",
       "      <th></th>\n",
       "      <th>IncomePerCap</th>\n",
       "      <th>Poverty</th>\n",
       "      <th>ChildPoverty</th>\n",
       "      <th>Professional</th>\n",
       "      <th>Service</th>\n",
       "      <th>Construction</th>\n",
       "      <th>Office</th>\n",
       "      <th>Production</th>\n",
       "    </tr>\n",
       "  </thead>\n",
       "  <tbody>\n",
       "    <tr>\n",
       "      <td>0</td>\n",
       "      <td>33018.0</td>\n",
       "      <td>10.7</td>\n",
       "      <td>20.8</td>\n",
       "      <td>38.5</td>\n",
       "      <td>15.6</td>\n",
       "      <td>10.8</td>\n",
       "      <td>22.8</td>\n",
       "      <td>12.4</td>\n",
       "    </tr>\n",
       "    <tr>\n",
       "      <td>1</td>\n",
       "      <td>18996.0</td>\n",
       "      <td>22.4</td>\n",
       "      <td>35.8</td>\n",
       "      <td>30.5</td>\n",
       "      <td>24.9</td>\n",
       "      <td>6.3</td>\n",
       "      <td>22.9</td>\n",
       "      <td>15.4</td>\n",
       "    </tr>\n",
       "    <tr>\n",
       "      <td>2</td>\n",
       "      <td>21236.0</td>\n",
       "      <td>14.7</td>\n",
       "      <td>21.1</td>\n",
       "      <td>27.9</td>\n",
       "      <td>19.4</td>\n",
       "      <td>9.9</td>\n",
       "      <td>33.3</td>\n",
       "      <td>9.6</td>\n",
       "    </tr>\n",
       "    <tr>\n",
       "      <td>3</td>\n",
       "      <td>28068.0</td>\n",
       "      <td>2.3</td>\n",
       "      <td>1.7</td>\n",
       "      <td>29.0</td>\n",
       "      <td>16.6</td>\n",
       "      <td>9.1</td>\n",
       "      <td>25.8</td>\n",
       "      <td>19.5</td>\n",
       "    </tr>\n",
       "    <tr>\n",
       "      <td>4</td>\n",
       "      <td>36905.0</td>\n",
       "      <td>12.2</td>\n",
       "      <td>17.9</td>\n",
       "      <td>48.8</td>\n",
       "      <td>13.8</td>\n",
       "      <td>3.5</td>\n",
       "      <td>20.5</td>\n",
       "      <td>13.4</td>\n",
       "    </tr>\n",
       "    <tr>\n",
       "      <td>...</td>\n",
       "      <td>...</td>\n",
       "      <td>...</td>\n",
       "      <td>...</td>\n",
       "      <td>...</td>\n",
       "      <td>...</td>\n",
       "      <td>...</td>\n",
       "      <td>...</td>\n",
       "      <td>...</td>\n",
       "    </tr>\n",
       "    <tr>\n",
       "      <td>73996</td>\n",
       "      <td>8643.0</td>\n",
       "      <td>39.4</td>\n",
       "      <td>61.8</td>\n",
       "      <td>42.2</td>\n",
       "      <td>25.3</td>\n",
       "      <td>7.7</td>\n",
       "      <td>18.0</td>\n",
       "      <td>6.9</td>\n",
       "    </tr>\n",
       "    <tr>\n",
       "      <td>73997</td>\n",
       "      <td>11109.0</td>\n",
       "      <td>35.5</td>\n",
       "      <td>39.9</td>\n",
       "      <td>34.4</td>\n",
       "      <td>13.4</td>\n",
       "      <td>12.3</td>\n",
       "      <td>23.1</td>\n",
       "      <td>16.8</td>\n",
       "    </tr>\n",
       "    <tr>\n",
       "      <td>73998</td>\n",
       "      <td>9603.0</td>\n",
       "      <td>52.8</td>\n",
       "      <td>77.2</td>\n",
       "      <td>29.3</td>\n",
       "      <td>23.6</td>\n",
       "      <td>4.6</td>\n",
       "      <td>32.9</td>\n",
       "      <td>9.6</td>\n",
       "    </tr>\n",
       "    <tr>\n",
       "      <td>73999</td>\n",
       "      <td>8331.0</td>\n",
       "      <td>50.1</td>\n",
       "      <td>58.0</td>\n",
       "      <td>29.8</td>\n",
       "      <td>20.6</td>\n",
       "      <td>13.9</td>\n",
       "      <td>28.8</td>\n",
       "      <td>6.9</td>\n",
       "    </tr>\n",
       "    <tr>\n",
       "      <td>74000</td>\n",
       "      <td>6251.0</td>\n",
       "      <td>69.4</td>\n",
       "      <td>72.2</td>\n",
       "      <td>12.4</td>\n",
       "      <td>23.8</td>\n",
       "      <td>17.8</td>\n",
       "      <td>19.1</td>\n",
       "      <td>26.9</td>\n",
       "    </tr>\n",
       "  </tbody>\n",
       "</table>\n",
       "<p>72718 rows × 8 columns</p>\n",
       "</div>"
      ],
      "text/plain": [
       "       IncomePerCap  Poverty  ChildPoverty  Professional  Service  \\\n",
       "0           33018.0     10.7          20.8          38.5     15.6   \n",
       "1           18996.0     22.4          35.8          30.5     24.9   \n",
       "2           21236.0     14.7          21.1          27.9     19.4   \n",
       "3           28068.0      2.3           1.7          29.0     16.6   \n",
       "4           36905.0     12.2          17.9          48.8     13.8   \n",
       "...             ...      ...           ...           ...      ...   \n",
       "73996        8643.0     39.4          61.8          42.2     25.3   \n",
       "73997       11109.0     35.5          39.9          34.4     13.4   \n",
       "73998        9603.0     52.8          77.2          29.3     23.6   \n",
       "73999        8331.0     50.1          58.0          29.8     20.6   \n",
       "74000        6251.0     69.4          72.2          12.4     23.8   \n",
       "\n",
       "       Construction  Office  Production  \n",
       "0              10.8    22.8        12.4  \n",
       "1               6.3    22.9        15.4  \n",
       "2               9.9    33.3         9.6  \n",
       "3               9.1    25.8        19.5  \n",
       "4               3.5    20.5        13.4  \n",
       "...             ...     ...         ...  \n",
       "73996           7.7    18.0         6.9  \n",
       "73997          12.3    23.1        16.8  \n",
       "73998           4.6    32.9         9.6  \n",
       "73999          13.9    28.8         6.9  \n",
       "74000          17.8    19.1        26.9  \n",
       "\n",
       "[72718 rows x 8 columns]"
      ]
     },
     "execution_count": 34,
     "metadata": {},
     "output_type": "execute_result"
    }
   ],
   "source": [
    "df1 = df[['IncomePerCap',\n",
    "       'Poverty',\n",
    "       'ChildPoverty', 'Professional', 'Service','Construction', 'Office', \n",
    "       'Production']]\n",
    "df1"
   ]
  },
  {
   "cell_type": "code",
   "execution_count": 35,
   "metadata": {},
   "outputs": [
    {
     "data": {
      "text/html": [
       "<div>\n",
       "<style scoped>\n",
       "    .dataframe tbody tr th:only-of-type {\n",
       "        vertical-align: middle;\n",
       "    }\n",
       "\n",
       "    .dataframe tbody tr th {\n",
       "        vertical-align: top;\n",
       "    }\n",
       "\n",
       "    .dataframe thead th {\n",
       "        text-align: right;\n",
       "    }\n",
       "</style>\n",
       "<table border=\"1\" class=\"dataframe\">\n",
       "  <thead>\n",
       "    <tr style=\"text-align: right;\">\n",
       "      <th></th>\n",
       "      <th>IncomePerCap</th>\n",
       "      <th>Poverty</th>\n",
       "      <th>ChildPoverty</th>\n",
       "      <th>Professional</th>\n",
       "      <th>Service</th>\n",
       "      <th>Construction</th>\n",
       "      <th>Office</th>\n",
       "      <th>Production</th>\n",
       "    </tr>\n",
       "  </thead>\n",
       "  <tbody>\n",
       "    <tr>\n",
       "      <td>0</td>\n",
       "      <td>33018.0</td>\n",
       "      <td>10.7</td>\n",
       "      <td>20.8</td>\n",
       "      <td>38.5</td>\n",
       "      <td>15.6</td>\n",
       "      <td>10.8</td>\n",
       "      <td>22.8</td>\n",
       "      <td>12.4</td>\n",
       "    </tr>\n",
       "    <tr>\n",
       "      <td>1</td>\n",
       "      <td>18996.0</td>\n",
       "      <td>22.4</td>\n",
       "      <td>35.8</td>\n",
       "      <td>30.5</td>\n",
       "      <td>24.9</td>\n",
       "      <td>6.3</td>\n",
       "      <td>22.9</td>\n",
       "      <td>15.4</td>\n",
       "    </tr>\n",
       "    <tr>\n",
       "      <td>2</td>\n",
       "      <td>21236.0</td>\n",
       "      <td>14.7</td>\n",
       "      <td>21.1</td>\n",
       "      <td>27.9</td>\n",
       "      <td>19.4</td>\n",
       "      <td>9.9</td>\n",
       "      <td>33.3</td>\n",
       "      <td>9.6</td>\n",
       "    </tr>\n",
       "    <tr>\n",
       "      <td>3</td>\n",
       "      <td>28068.0</td>\n",
       "      <td>2.3</td>\n",
       "      <td>1.7</td>\n",
       "      <td>29.0</td>\n",
       "      <td>16.6</td>\n",
       "      <td>9.1</td>\n",
       "      <td>25.8</td>\n",
       "      <td>19.5</td>\n",
       "    </tr>\n",
       "    <tr>\n",
       "      <td>4</td>\n",
       "      <td>36905.0</td>\n",
       "      <td>12.2</td>\n",
       "      <td>17.9</td>\n",
       "      <td>48.8</td>\n",
       "      <td>13.8</td>\n",
       "      <td>3.5</td>\n",
       "      <td>20.5</td>\n",
       "      <td>13.4</td>\n",
       "    </tr>\n",
       "    <tr>\n",
       "      <td>...</td>\n",
       "      <td>...</td>\n",
       "      <td>...</td>\n",
       "      <td>...</td>\n",
       "      <td>...</td>\n",
       "      <td>...</td>\n",
       "      <td>...</td>\n",
       "      <td>...</td>\n",
       "      <td>...</td>\n",
       "    </tr>\n",
       "    <tr>\n",
       "      <td>73996</td>\n",
       "      <td>8643.0</td>\n",
       "      <td>39.4</td>\n",
       "      <td>61.8</td>\n",
       "      <td>42.2</td>\n",
       "      <td>25.3</td>\n",
       "      <td>7.7</td>\n",
       "      <td>18.0</td>\n",
       "      <td>6.9</td>\n",
       "    </tr>\n",
       "    <tr>\n",
       "      <td>73997</td>\n",
       "      <td>11109.0</td>\n",
       "      <td>35.5</td>\n",
       "      <td>39.9</td>\n",
       "      <td>34.4</td>\n",
       "      <td>13.4</td>\n",
       "      <td>12.3</td>\n",
       "      <td>23.1</td>\n",
       "      <td>16.8</td>\n",
       "    </tr>\n",
       "    <tr>\n",
       "      <td>73998</td>\n",
       "      <td>9603.0</td>\n",
       "      <td>52.8</td>\n",
       "      <td>77.2</td>\n",
       "      <td>29.3</td>\n",
       "      <td>23.6</td>\n",
       "      <td>4.6</td>\n",
       "      <td>32.9</td>\n",
       "      <td>9.6</td>\n",
       "    </tr>\n",
       "    <tr>\n",
       "      <td>73999</td>\n",
       "      <td>8331.0</td>\n",
       "      <td>50.1</td>\n",
       "      <td>58.0</td>\n",
       "      <td>29.8</td>\n",
       "      <td>20.6</td>\n",
       "      <td>13.9</td>\n",
       "      <td>28.8</td>\n",
       "      <td>6.9</td>\n",
       "    </tr>\n",
       "    <tr>\n",
       "      <td>74000</td>\n",
       "      <td>6251.0</td>\n",
       "      <td>69.4</td>\n",
       "      <td>72.2</td>\n",
       "      <td>12.4</td>\n",
       "      <td>23.8</td>\n",
       "      <td>17.8</td>\n",
       "      <td>19.1</td>\n",
       "      <td>26.9</td>\n",
       "    </tr>\n",
       "  </tbody>\n",
       "</table>\n",
       "<p>72718 rows × 8 columns</p>\n",
       "</div>"
      ],
      "text/plain": [
       "       IncomePerCap  Poverty  ChildPoverty  Professional  Service  \\\n",
       "0           33018.0     10.7          20.8          38.5     15.6   \n",
       "1           18996.0     22.4          35.8          30.5     24.9   \n",
       "2           21236.0     14.7          21.1          27.9     19.4   \n",
       "3           28068.0      2.3           1.7          29.0     16.6   \n",
       "4           36905.0     12.2          17.9          48.8     13.8   \n",
       "...             ...      ...           ...           ...      ...   \n",
       "73996        8643.0     39.4          61.8          42.2     25.3   \n",
       "73997       11109.0     35.5          39.9          34.4     13.4   \n",
       "73998        9603.0     52.8          77.2          29.3     23.6   \n",
       "73999        8331.0     50.1          58.0          29.8     20.6   \n",
       "74000        6251.0     69.4          72.2          12.4     23.8   \n",
       "\n",
       "       Construction  Office  Production  \n",
       "0              10.8    22.8        12.4  \n",
       "1               6.3    22.9        15.4  \n",
       "2               9.9    33.3         9.6  \n",
       "3               9.1    25.8        19.5  \n",
       "4               3.5    20.5        13.4  \n",
       "...             ...     ...         ...  \n",
       "73996           7.7    18.0         6.9  \n",
       "73997          12.3    23.1        16.8  \n",
       "73998           4.6    32.9         9.6  \n",
       "73999          13.9    28.8         6.9  \n",
       "74000          17.8    19.1        26.9  \n",
       "\n",
       "[72718 rows x 8 columns]"
      ]
     },
     "execution_count": 35,
     "metadata": {},
     "output_type": "execute_result"
    }
   ],
   "source": [
    "df1"
   ]
  },
  {
   "cell_type": "code",
   "execution_count": 18,
   "metadata": {},
   "outputs": [
    {
     "data": {
      "text/plain": [
       "Poverty         0\n",
       "ChildPoverty    0\n",
       "Professional    0\n",
       "Service         0\n",
       "Construction    0\n",
       "Office          0\n",
       "Production      0\n",
       "dtype: int64"
      ]
     },
     "execution_count": 18,
     "metadata": {},
     "output_type": "execute_result"
    }
   ],
   "source": [
    "df1.isnull().sum()"
   ]
  },
  {
   "cell_type": "code",
   "execution_count": 19,
   "metadata": {},
   "outputs": [
    {
     "data": {
      "text/plain": [
       "TractId             2.063222e+15\n",
       "TotalPop            3.231214e+08\n",
       "Men                 1.588425e+08\n",
       "Women               1.642789e+08\n",
       "Hispanic            1.256782e+06\n",
       "White               4.460314e+06\n",
       "Black               9.638347e+05\n",
       "Native              5.292240e+04\n",
       "Asian               3.455893e+05\n",
       "Pacific             1.062280e+04\n",
       "VotingAgeCitizen    2.284190e+08\n",
       "Income              4.444524e+09\n",
       "IncomeErr           7.046611e+08\n",
       "IncomePerCap        2.230018e+09\n",
       "IncomePerCapErr     3.090316e+08\n",
       "Poverty             1.166886e+06\n",
       "ChildPoverty        1.537875e+06\n",
       "Professional        2.585402e+06\n",
       "Service             1.370585e+06\n",
       "Office              1.702559e+06\n",
       "Construction        6.735900e+05\n",
       "Production          9.396847e+05\n",
       "Drive               5.517902e+06\n",
       "Carpool             6.780631e+05\n",
       "Transit             3.905382e+05\n",
       "Walk                2.127567e+05\n",
       "OtherTransp         1.371517e+05\n",
       "WorkAtHome          3.354224e+05\n",
       "MeanCommute         1.896510e+06\n",
       "Employed            1.513486e+08\n",
       "PrivateWork         5.781941e+06\n",
       "PublicWork          1.028923e+06\n",
       "SelfEmployed        4.485000e+05\n",
       "FamilyWork          1.245160e+04\n",
       "Unemployment        5.253815e+05\n",
       "dtype: float64"
      ]
     },
     "execution_count": 19,
     "metadata": {},
     "output_type": "execute_result"
    }
   ],
   "source": [
    "df2 = df.groupby([\"State\"]).sum().head(85)\n",
    "df2.sort_values(by = 'IncomePerCap').sum()"
   ]
  },
  {
   "cell_type": "code",
   "execution_count": 20,
   "metadata": {},
   "outputs": [],
   "source": [
    "\n",
    "pd.set_option('display.max_rows', 100)\n",
    "pd.set_option('display.max_columns', 50)\n",
    "pd.set_option('display.width', 100)\n"
   ]
  },
  {
   "cell_type": "code",
   "execution_count": 427,
   "metadata": {},
   "outputs": [
    {
     "data": {
      "image/png": "[encoded data removed]",
      "text/plain": [
       "<Figure size 1440x720 with 2 Axes>"
      ]
     },
     "metadata": {
      "needs_background": "light"
     },
     "output_type": "display_data"
    }
   ],
   "source": [
    "# plot the heatmap\n",
    "corr = df_filtered.corr()\n",
    "plt.figure(figsize = (20,10))\n",
    "sns.heatmap(corr,\n",
    "        xticklabels=corr.columns,\n",
    "        yticklabels=corr.columns)\n",
    "plt.show()"
   ]
  },
  {
   "cell_type": "code",
   "execution_count": 470,
   "metadata": {},
   "outputs": [
    {
     "data": {
      "text/html": [
       "<div>\n",
       "<style scoped>\n",
       "    .dataframe tbody tr th:only-of-type {\n",
       "        vertical-align: middle;\n",
       "    }\n",
       "\n",
       "    .dataframe tbody tr th {\n",
       "        vertical-align: top;\n",
       "    }\n",
       "\n",
       "    .dataframe thead th {\n",
       "        text-align: right;\n",
       "    }\n",
       "</style>\n",
       "<table border=\"1\" class=\"dataframe\">\n",
       "  <thead>\n",
       "    <tr style=\"text-align: right;\">\n",
       "      <th></th>\n",
       "      <th>IncomePerCap</th>\n",
       "      <th>Poverty</th>\n",
       "      <th>Office</th>\n",
       "      <th>ChildPoverty</th>\n",
       "      <th>Professional</th>\n",
       "      <th>Service</th>\n",
       "      <th>Construction</th>\n",
       "      <th>Production</th>\n",
       "    </tr>\n",
       "  </thead>\n",
       "  <tbody>\n",
       "    <tr>\n",
       "      <td>IncomePerCap</td>\n",
       "      <td>1.000000</td>\n",
       "      <td>-0.642656</td>\n",
       "      <td>-0.130021</td>\n",
       "      <td>-0.563883</td>\n",
       "      <td>0.825552</td>\n",
       "      <td>-0.554342</td>\n",
       "      <td>-0.474278</td>\n",
       "      <td>-0.604983</td>\n",
       "    </tr>\n",
       "    <tr>\n",
       "      <td>Poverty</td>\n",
       "      <td>-0.642656</td>\n",
       "      <td>1.000000</td>\n",
       "      <td>-0.005198</td>\n",
       "      <td>0.862065</td>\n",
       "      <td>-0.537256</td>\n",
       "      <td>0.497446</td>\n",
       "      <td>0.230764</td>\n",
       "      <td>0.382425</td>\n",
       "    </tr>\n",
       "    <tr>\n",
       "      <td>Office</td>\n",
       "      <td>-0.130021</td>\n",
       "      <td>-0.005198</td>\n",
       "      <td>1.000000</td>\n",
       "      <td>0.021287</td>\n",
       "      <td>-0.238682</td>\n",
       "      <td>-0.079610</td>\n",
       "      <td>-0.117162</td>\n",
       "      <td>-0.121765</td>\n",
       "    </tr>\n",
       "    <tr>\n",
       "      <td>ChildPoverty</td>\n",
       "      <td>-0.563883</td>\n",
       "      <td>0.862065</td>\n",
       "      <td>0.021287</td>\n",
       "      <td>1.000000</td>\n",
       "      <td>-0.509756</td>\n",
       "      <td>0.430090</td>\n",
       "      <td>0.237659</td>\n",
       "      <td>0.370664</td>\n",
       "    </tr>\n",
       "    <tr>\n",
       "      <td>Professional</td>\n",
       "      <td>0.825552</td>\n",
       "      <td>-0.537256</td>\n",
       "      <td>-0.238682</td>\n",
       "      <td>-0.509756</td>\n",
       "      <td>1.000000</td>\n",
       "      <td>-0.623051</td>\n",
       "      <td>-0.591481</td>\n",
       "      <td>-0.708473</td>\n",
       "    </tr>\n",
       "    <tr>\n",
       "      <td>Service</td>\n",
       "      <td>-0.554342</td>\n",
       "      <td>0.497446</td>\n",
       "      <td>-0.079610</td>\n",
       "      <td>0.430090</td>\n",
       "      <td>-0.623051</td>\n",
       "      <td>1.000000</td>\n",
       "      <td>0.163088</td>\n",
       "      <td>0.170872</td>\n",
       "    </tr>\n",
       "    <tr>\n",
       "      <td>Construction</td>\n",
       "      <td>-0.474278</td>\n",
       "      <td>0.230764</td>\n",
       "      <td>-0.117162</td>\n",
       "      <td>0.237659</td>\n",
       "      <td>-0.591481</td>\n",
       "      <td>0.163088</td>\n",
       "      <td>1.000000</td>\n",
       "      <td>0.363271</td>\n",
       "    </tr>\n",
       "    <tr>\n",
       "      <td>Production</td>\n",
       "      <td>-0.604983</td>\n",
       "      <td>0.382425</td>\n",
       "      <td>-0.121765</td>\n",
       "      <td>0.370664</td>\n",
       "      <td>-0.708473</td>\n",
       "      <td>0.170872</td>\n",
       "      <td>0.363271</td>\n",
       "      <td>1.000000</td>\n",
       "    </tr>\n",
       "  </tbody>\n",
       "</table>\n",
       "</div>"
      ],
      "text/plain": [
       "              IncomePerCap   Poverty    Office  ChildPoverty  Professional  \\\n",
       "IncomePerCap      1.000000 -0.642656 -0.130021     -0.563883      0.825552   \n",
       "Poverty          -0.642656  1.000000 -0.005198      0.862065     -0.537256   \n",
       "Office           -0.130021 -0.005198  1.000000      0.021287     -0.238682   \n",
       "ChildPoverty     -0.563883  0.862065  0.021287      1.000000     -0.509756   \n",
       "Professional      0.825552 -0.537256 -0.238682     -0.509756      1.000000   \n",
       "Service          -0.554342  0.497446 -0.079610      0.430090     -0.623051   \n",
       "Construction     -0.474278  0.230764 -0.117162      0.237659     -0.591481   \n",
       "Production       -0.604983  0.382425 -0.121765      0.370664     -0.708473   \n",
       "\n",
       "               Service  Construction  Production  \n",
       "IncomePerCap -0.554342     -0.474278   -0.604983  \n",
       "Poverty       0.497446      0.230764    0.382425  \n",
       "Office       -0.079610     -0.117162   -0.121765  \n",
       "ChildPoverty  0.430090      0.237659    0.370664  \n",
       "Professional -0.623051     -0.591481   -0.708473  \n",
       "Service       1.000000      0.163088    0.170872  \n",
       "Construction  0.163088      1.000000    0.363271  \n",
       "Production    0.170872      0.363271    1.000000  "
      ]
     },
     "execution_count": 470,
     "metadata": {},
     "output_type": "execute_result"
    }
   ],
   "source": [
    "corr"
   ]
  },
  {
   "cell_type": "code",
   "execution_count": 429,
   "metadata": {},
   "outputs": [
    {
     "data": {
      "text/plain": [
       "<matplotlib.axes._subplots.AxesSubplot at 0x1ccf239748>"
      ]
     },
     "execution_count": 429,
     "metadata": {},
     "output_type": "execute_result"
    },
    {
     "data": {
      "image/png": "[encoded data removed]",
      "text/plain": [
       "<Figure size 432x288 with 1 Axes>"
      ]
     },
     "metadata": {
      "needs_background": "light"
     },
     "output_type": "display_data"
    }
   ],
   "source": [
    "sns.boxplot(df_filtered.IncomePerCap)"
   ]
  },
  {
   "cell_type": "code",
   "execution_count": 515,
   "metadata": {},
   "outputs": [
    {
     "data": {
      "text/plain": [
       "array([[ 0.146797  ],\n",
       "       [-0.22532993],\n",
       "       [-0.1763    ],\n",
       "       ...,\n",
       "       [-0.33374635],\n",
       "       [-0.59601269],\n",
       "       [ 0.01568959]])"
      ]
     },
     "execution_count": 515,
     "metadata": {},
     "output_type": "execute_result"
    }
   ],
   "source": [
    "y = df_filtered['IncomePerCap']\n",
    "scaler = StandardScaler()\n",
    "np.array(df_filtered).reshape(-1,1)"
   ]
  },
  {
   "cell_type": "code",
   "execution_count": 508,
   "metadata": {},
   "outputs": [
    {
     "data": {
      "text/plain": [
       "StandardScaler(copy=True, with_mean=True, with_std=True)"
      ]
     },
     "execution_count": 508,
     "metadata": {},
     "output_type": "execute_result"
    }
   ],
   "source": [
    "scaler.fit(df_filtered)"
   ]
  },
  {
   "cell_type": "code",
   "execution_count": 509,
   "metadata": {},
   "outputs": [
    {
     "data": {
      "text/plain": [
       "array([[ 0.146797  ],\n",
       "       [-1.08972235],\n",
       "       [-0.89218966],\n",
       "       ...,\n",
       "       [-1.82429703],\n",
       "       [-1.75648335],\n",
       "       [-1.82641345]])"
      ]
     },
     "execution_count": 509,
     "metadata": {},
     "output_type": "execute_result"
    }
   ],
   "source": [
    "y.values.reshape(-1,1)"
   ]
  },
  {
   "cell_type": "code",
   "execution_count": 510,
   "metadata": {},
   "outputs": [
    {
     "data": {
      "text/plain": [
       "array([[ 0.14679824, -0.22533183, -0.17630149, ..., -0.33374916,\n",
       "         0.38722255, -0.04000102],\n",
       "       [-1.08973153,  1.37329402, -0.15687604, ...,  1.05377477,\n",
       "        -0.5541777 ,  0.3776795 ],\n",
       "       [-0.89219718,  0.32120693,  1.86337062, ...,  0.2331961 ,\n",
       "         0.1989425 , -0.42983616],\n",
       "       ...,\n",
       "       [-1.82431241,  2.16577521,  0.21220749, ...,  1.48644352,\n",
       "        -0.24037761, -0.61083105],\n",
       "       [-1.75649816,  2.3024099 , -2.54620622, ...,  2.88888706,\n",
       "         1.24494278, -0.52729495],\n",
       "       [-1.82642885,  2.3024099 ,  0.93094909, ..., -0.33374916,\n",
       "        -0.59601771,  0.01568972]])"
      ]
     },
     "execution_count": 510,
     "metadata": {},
     "output_type": "execute_result"
    }
   ],
   "source": [
    "transformed_data = scaler.transform(df_filtered)\n",
    "transformed_data"
   ]
  },
  {
   "cell_type": "code",
   "execution_count": 511,
   "metadata": {},
   "outputs": [],
   "source": [
    "transformed_data\n",
    "lasso_reg = Lasso()"
   ]
  },
  {
   "cell_type": "code",
   "execution_count": 512,
   "metadata": {},
   "outputs": [
    {
     "data": {
      "text/plain": [
       "Lasso(alpha=1.0, copy_X=True, fit_intercept=True, max_iter=1000,\n",
       "      normalize=False, positive=False, precompute=False, random_state=None,\n",
       "      selection='cyclic', tol=0.0001, warm_start=False)"
      ]
     },
     "execution_count": 512,
     "metadata": {},
     "output_type": "execute_result"
    }
   ],
   "source": [
    "lasso_reg.fit(transformed_data, y)"
   ]
  },
  {
   "cell_type": "code",
   "execution_count": 513,
   "metadata": {},
   "outputs": [
    {
     "name": "stdout",
     "output_type": "stream",
     "text": [
      "[ 0. -0. -0. -0.  0. -0. -0. -0.]\n"
     ]
    }
   ],
   "source": [
    "print(lasso_reg.coef_)\n"
   ]
  },
  {
   "cell_type": "code",
   "execution_count": 250,
   "metadata": {},
   "outputs": [
    {
     "ename": "ValueError",
     "evalue": "Expected 2D array, got 1D array instead:\narray=[ 8. 17. 40. 10. 25. 20.  5.].\nReshape your data either using array.reshape(-1, 1) if your data has a single feature or array.reshape(1, -1) if it contains a single sample.",
     "output_type": "error",
     "traceback": [
      "\u001b[0;31m---------------------------------------------------------------------------\u001b[0m",
      "\u001b[0;31mValueError\u001b[0m                                Traceback (most recent call last)",
      "\u001b[0;32m<ipython-input-250-cc28e69a1457>\u001b[0m in \u001b[0;36m<module>\u001b[0;34m\u001b[0m\n\u001b[0;32m----> 1\u001b[0;31m \u001b[0mridge_reg\u001b[0m\u001b[0;34m.\u001b[0m\u001b[0mpredict\u001b[0m\u001b[0;34m(\u001b[0m\u001b[0mscaler\u001b[0m\u001b[0;34m.\u001b[0m\u001b[0mtransform\u001b[0m\u001b[0;34m(\u001b[0m\u001b[0mnp\u001b[0m\u001b[0;34m.\u001b[0m\u001b[0marray\u001b[0m\u001b[0;34m(\u001b[0m\u001b[0;34m[\u001b[0m\u001b[0;36m8\u001b[0m\u001b[0;34m,\u001b[0m \u001b[0;36m17\u001b[0m\u001b[0;34m,\u001b[0m \u001b[0;36m40\u001b[0m\u001b[0;34m,\u001b[0m \u001b[0;36m10\u001b[0m\u001b[0;34m,\u001b[0m\u001b[0;36m25\u001b[0m\u001b[0;34m,\u001b[0m\u001b[0;36m20\u001b[0m\u001b[0;34m,\u001b[0m\u001b[0;36m5\u001b[0m\u001b[0;34m]\u001b[0m\u001b[0;34m)\u001b[0m\u001b[0;34m)\u001b[0m\u001b[0;34m)\u001b[0m\u001b[0;34m\u001b[0m\u001b[0;34m\u001b[0m\u001b[0m\n\u001b[0m",
      "\u001b[0;32m/opt/anaconda3/envs/learn-env/lib/python3.6/site-packages/sklearn/preprocessing/data.py\u001b[0m in \u001b[0;36mtransform\u001b[0;34m(self, X, copy)\u001b[0m\n\u001b[1;32m    756\u001b[0m         X = check_array(X, accept_sparse='csr', copy=copy,\n\u001b[1;32m    757\u001b[0m                         \u001b[0mestimator\u001b[0m\u001b[0;34m=\u001b[0m\u001b[0mself\u001b[0m\u001b[0;34m,\u001b[0m \u001b[0mdtype\u001b[0m\u001b[0;34m=\u001b[0m\u001b[0mFLOAT_DTYPES\u001b[0m\u001b[0;34m,\u001b[0m\u001b[0;34m\u001b[0m\u001b[0;34m\u001b[0m\u001b[0m\n\u001b[0;32m--> 758\u001b[0;31m                         force_all_finite='allow-nan')\n\u001b[0m\u001b[1;32m    759\u001b[0m \u001b[0;34m\u001b[0m\u001b[0m\n\u001b[1;32m    760\u001b[0m         \u001b[0;32mif\u001b[0m \u001b[0msparse\u001b[0m\u001b[0;34m.\u001b[0m\u001b[0missparse\u001b[0m\u001b[0;34m(\u001b[0m\u001b[0mX\u001b[0m\u001b[0;34m)\u001b[0m\u001b[0;34m:\u001b[0m\u001b[0;34m\u001b[0m\u001b[0;34m\u001b[0m\u001b[0m\n",
      "\u001b[0;32m/opt/anaconda3/envs/learn-env/lib/python3.6/site-packages/sklearn/utils/validation.py\u001b[0m in \u001b[0;36mcheck_array\u001b[0;34m(array, accept_sparse, accept_large_sparse, dtype, order, copy, force_all_finite, ensure_2d, allow_nd, ensure_min_samples, ensure_min_features, warn_on_dtype, estimator)\u001b[0m\n\u001b[1;32m    519\u001b[0m                     \u001b[0;34m\"Reshape your data either using array.reshape(-1, 1) if \"\u001b[0m\u001b[0;34m\u001b[0m\u001b[0;34m\u001b[0m\u001b[0m\n\u001b[1;32m    520\u001b[0m                     \u001b[0;34m\"your data has a single feature or array.reshape(1, -1) \"\u001b[0m\u001b[0;34m\u001b[0m\u001b[0;34m\u001b[0m\u001b[0m\n\u001b[0;32m--> 521\u001b[0;31m                     \"if it contains a single sample.\".format(array))\n\u001b[0m\u001b[1;32m    522\u001b[0m \u001b[0;34m\u001b[0m\u001b[0m\n\u001b[1;32m    523\u001b[0m         \u001b[0;31m# in the future np.flexible dtypes will be handled like object dtypes\u001b[0m\u001b[0;34m\u001b[0m\u001b[0;34m\u001b[0m\u001b[0;34m\u001b[0m\u001b[0m\n",
      "\u001b[0;31mValueError\u001b[0m: Expected 2D array, got 1D array instead:\narray=[ 8. 17. 40. 10. 25. 20.  5.].\nReshape your data either using array.reshape(-1, 1) if your data has a single feature or array.reshape(1, -1) if it contains a single sample."
     ]
    }
   ],
   "source": [
    "lasso_reg.predict(scaler.transform(np.array([8, 17, 40, 10,25,20,5])))"
   ]
  },
  {
   "cell_type": "code",
   "execution_count": 516,
   "metadata": {},
   "outputs": [
    {
     "data": {
      "text/html": [
       "<div>\n",
       "<style scoped>\n",
       "    .dataframe tbody tr th:only-of-type {\n",
       "        vertical-align: middle;\n",
       "    }\n",
       "\n",
       "    .dataframe tbody tr th {\n",
       "        vertical-align: top;\n",
       "    }\n",
       "\n",
       "    .dataframe thead th {\n",
       "        text-align: right;\n",
       "    }\n",
       "</style>\n",
       "<table border=\"1\" class=\"dataframe\">\n",
       "  <thead>\n",
       "    <tr style=\"text-align: right;\">\n",
       "      <th></th>\n",
       "      <th>IncomePerCap</th>\n",
       "      <th>Poverty</th>\n",
       "      <th>Office</th>\n",
       "      <th>ChildPoverty</th>\n",
       "      <th>Professional</th>\n",
       "      <th>Service</th>\n",
       "      <th>Construction</th>\n",
       "      <th>Production</th>\n",
       "    </tr>\n",
       "  </thead>\n",
       "  <tbody>\n",
       "    <tr>\n",
       "      <td>0</td>\n",
       "      <td>33018.0</td>\n",
       "      <td>10.7</td>\n",
       "      <td>22.8</td>\n",
       "      <td>20.8</td>\n",
       "      <td>38.5</td>\n",
       "      <td>15.6</td>\n",
       "      <td>10.8</td>\n",
       "      <td>12.4</td>\n",
       "    </tr>\n",
       "    <tr>\n",
       "      <td>1</td>\n",
       "      <td>18996.0</td>\n",
       "      <td>22.4</td>\n",
       "      <td>22.9</td>\n",
       "      <td>35.8</td>\n",
       "      <td>30.5</td>\n",
       "      <td>24.9</td>\n",
       "      <td>6.3</td>\n",
       "      <td>15.4</td>\n",
       "    </tr>\n",
       "    <tr>\n",
       "      <td>2</td>\n",
       "      <td>21236.0</td>\n",
       "      <td>14.7</td>\n",
       "      <td>33.3</td>\n",
       "      <td>21.1</td>\n",
       "      <td>27.9</td>\n",
       "      <td>19.4</td>\n",
       "      <td>9.9</td>\n",
       "      <td>9.6</td>\n",
       "    </tr>\n",
       "    <tr>\n",
       "      <td>3</td>\n",
       "      <td>28068.0</td>\n",
       "      <td>2.3</td>\n",
       "      <td>25.8</td>\n",
       "      <td>1.7</td>\n",
       "      <td>29.0</td>\n",
       "      <td>16.6</td>\n",
       "      <td>9.1</td>\n",
       "      <td>19.5</td>\n",
       "    </tr>\n",
       "    <tr>\n",
       "      <td>4</td>\n",
       "      <td>36905.0</td>\n",
       "      <td>12.2</td>\n",
       "      <td>20.5</td>\n",
       "      <td>17.9</td>\n",
       "      <td>48.8</td>\n",
       "      <td>13.8</td>\n",
       "      <td>3.5</td>\n",
       "      <td>13.4</td>\n",
       "    </tr>\n",
       "    <tr>\n",
       "      <td>...</td>\n",
       "      <td>...</td>\n",
       "      <td>...</td>\n",
       "      <td>...</td>\n",
       "      <td>...</td>\n",
       "      <td>...</td>\n",
       "      <td>...</td>\n",
       "      <td>...</td>\n",
       "      <td>...</td>\n",
       "    </tr>\n",
       "    <tr>\n",
       "      <td>73996</td>\n",
       "      <td>8643.0</td>\n",
       "      <td>39.4</td>\n",
       "      <td>18.0</td>\n",
       "      <td>61.8</td>\n",
       "      <td>42.2</td>\n",
       "      <td>25.3</td>\n",
       "      <td>7.7</td>\n",
       "      <td>6.9</td>\n",
       "    </tr>\n",
       "    <tr>\n",
       "      <td>73997</td>\n",
       "      <td>11109.0</td>\n",
       "      <td>35.5</td>\n",
       "      <td>23.1</td>\n",
       "      <td>39.9</td>\n",
       "      <td>34.4</td>\n",
       "      <td>13.4</td>\n",
       "      <td>12.3</td>\n",
       "      <td>16.8</td>\n",
       "    </tr>\n",
       "    <tr>\n",
       "      <td>73998</td>\n",
       "      <td>9603.0</td>\n",
       "      <td>52.8</td>\n",
       "      <td>32.9</td>\n",
       "      <td>77.2</td>\n",
       "      <td>29.3</td>\n",
       "      <td>23.6</td>\n",
       "      <td>4.6</td>\n",
       "      <td>9.6</td>\n",
       "    </tr>\n",
       "    <tr>\n",
       "      <td>73999</td>\n",
       "      <td>8331.0</td>\n",
       "      <td>50.1</td>\n",
       "      <td>28.8</td>\n",
       "      <td>58.0</td>\n",
       "      <td>29.8</td>\n",
       "      <td>20.6</td>\n",
       "      <td>13.9</td>\n",
       "      <td>6.9</td>\n",
       "    </tr>\n",
       "    <tr>\n",
       "      <td>74000</td>\n",
       "      <td>6251.0</td>\n",
       "      <td>69.4</td>\n",
       "      <td>19.1</td>\n",
       "      <td>72.2</td>\n",
       "      <td>12.4</td>\n",
       "      <td>23.8</td>\n",
       "      <td>17.8</td>\n",
       "      <td>26.9</td>\n",
       "    </tr>\n",
       "  </tbody>\n",
       "</table>\n",
       "<p>72718 rows × 8 columns</p>\n",
       "</div>"
      ],
      "text/plain": [
       "       IncomePerCap  Poverty  Office  ChildPoverty  Professional  Service  \\\n",
       "0           33018.0     10.7    22.8          20.8          38.5     15.6   \n",
       "1           18996.0     22.4    22.9          35.8          30.5     24.9   \n",
       "2           21236.0     14.7    33.3          21.1          27.9     19.4   \n",
       "3           28068.0      2.3    25.8           1.7          29.0     16.6   \n",
       "4           36905.0     12.2    20.5          17.9          48.8     13.8   \n",
       "...             ...      ...     ...           ...           ...      ...   \n",
       "73996        8643.0     39.4    18.0          61.8          42.2     25.3   \n",
       "73997       11109.0     35.5    23.1          39.9          34.4     13.4   \n",
       "73998        9603.0     52.8    32.9          77.2          29.3     23.6   \n",
       "73999        8331.0     50.1    28.8          58.0          29.8     20.6   \n",
       "74000        6251.0     69.4    19.1          72.2          12.4     23.8   \n",
       "\n",
       "       Construction  Production  \n",
       "0              10.8        12.4  \n",
       "1               6.3        15.4  \n",
       "2               9.9         9.6  \n",
       "3               9.1        19.5  \n",
       "4               3.5        13.4  \n",
       "...             ...         ...  \n",
       "73996           7.7         6.9  \n",
       "73997          12.3        16.8  \n",
       "73998           4.6         9.6  \n",
       "73999          13.9         6.9  \n",
       "74000          17.8        26.9  \n",
       "\n",
       "[72718 rows x 8 columns]"
      ]
     },
     "execution_count": 516,
     "metadata": {},
     "output_type": "execute_result"
    }
   ],
   "source": [
    "df1 = df[[ 'IncomePerCap','Poverty','Office',\n",
    "       'ChildPoverty', 'Professional', 'Service','Construction', \n",
    "       'Production']]\n",
    "df1"
   ]
  },
  {
   "cell_type": "code",
   "execution_count": 518,
   "metadata": {},
   "outputs": [
    {
     "data": {
      "text/html": [
       "<div>\n",
       "<style scoped>\n",
       "    .dataframe tbody tr th:only-of-type {\n",
       "        vertical-align: middle;\n",
       "    }\n",
       "\n",
       "    .dataframe tbody tr th {\n",
       "        vertical-align: top;\n",
       "    }\n",
       "\n",
       "    .dataframe thead th {\n",
       "        text-align: right;\n",
       "    }\n",
       "</style>\n",
       "<table border=\"1\" class=\"dataframe\">\n",
       "  <thead>\n",
       "    <tr style=\"text-align: right;\">\n",
       "      <th></th>\n",
       "      <th>IncomePerCap</th>\n",
       "      <th>Poverty</th>\n",
       "      <th>Office</th>\n",
       "      <th>ChildPoverty</th>\n",
       "      <th>Professional</th>\n",
       "      <th>Service</th>\n",
       "      <th>Construction</th>\n",
       "      <th>Production</th>\n",
       "    </tr>\n",
       "  </thead>\n",
       "  <tbody>\n",
       "    <tr>\n",
       "      <td>0</td>\n",
       "      <td>33018.0</td>\n",
       "      <td>10.7</td>\n",
       "      <td>22.8</td>\n",
       "      <td>20.8</td>\n",
       "      <td>38.5</td>\n",
       "      <td>15.6</td>\n",
       "      <td>10.8</td>\n",
       "      <td>12.4</td>\n",
       "    </tr>\n",
       "    <tr>\n",
       "      <td>1</td>\n",
       "      <td>18996.0</td>\n",
       "      <td>22.4</td>\n",
       "      <td>22.9</td>\n",
       "      <td>35.8</td>\n",
       "      <td>30.5</td>\n",
       "      <td>24.9</td>\n",
       "      <td>6.3</td>\n",
       "      <td>15.4</td>\n",
       "    </tr>\n",
       "    <tr>\n",
       "      <td>2</td>\n",
       "      <td>21236.0</td>\n",
       "      <td>14.7</td>\n",
       "      <td>33.3</td>\n",
       "      <td>21.1</td>\n",
       "      <td>27.9</td>\n",
       "      <td>19.4</td>\n",
       "      <td>9.9</td>\n",
       "      <td>9.6</td>\n",
       "    </tr>\n",
       "    <tr>\n",
       "      <td>3</td>\n",
       "      <td>28068.0</td>\n",
       "      <td>2.3</td>\n",
       "      <td>25.8</td>\n",
       "      <td>1.7</td>\n",
       "      <td>29.0</td>\n",
       "      <td>16.6</td>\n",
       "      <td>9.1</td>\n",
       "      <td>19.5</td>\n",
       "    </tr>\n",
       "    <tr>\n",
       "      <td>4</td>\n",
       "      <td>36905.0</td>\n",
       "      <td>12.2</td>\n",
       "      <td>20.5</td>\n",
       "      <td>17.9</td>\n",
       "      <td>48.8</td>\n",
       "      <td>13.8</td>\n",
       "      <td>3.5</td>\n",
       "      <td>13.4</td>\n",
       "    </tr>\n",
       "    <tr>\n",
       "      <td>...</td>\n",
       "      <td>...</td>\n",
       "      <td>...</td>\n",
       "      <td>...</td>\n",
       "      <td>...</td>\n",
       "      <td>...</td>\n",
       "      <td>...</td>\n",
       "      <td>...</td>\n",
       "      <td>...</td>\n",
       "    </tr>\n",
       "    <tr>\n",
       "      <td>73983</td>\n",
       "      <td>8133.0</td>\n",
       "      <td>42.4</td>\n",
       "      <td>21.2</td>\n",
       "      <td>52.7</td>\n",
       "      <td>12.7</td>\n",
       "      <td>31.9</td>\n",
       "      <td>9.2</td>\n",
       "      <td>25.0</td>\n",
       "    </tr>\n",
       "    <tr>\n",
       "      <td>73988</td>\n",
       "      <td>10930.0</td>\n",
       "      <td>43.6</td>\n",
       "      <td>18.3</td>\n",
       "      <td>55.2</td>\n",
       "      <td>31.3</td>\n",
       "      <td>29.8</td>\n",
       "      <td>12.0</td>\n",
       "      <td>8.5</td>\n",
       "    </tr>\n",
       "    <tr>\n",
       "      <td>73994</td>\n",
       "      <td>10642.0</td>\n",
       "      <td>29.2</td>\n",
       "      <td>28.5</td>\n",
       "      <td>33.4</td>\n",
       "      <td>37.0</td>\n",
       "      <td>15.6</td>\n",
       "      <td>6.1</td>\n",
       "      <td>12.8</td>\n",
       "    </tr>\n",
       "    <tr>\n",
       "      <td>73996</td>\n",
       "      <td>8643.0</td>\n",
       "      <td>39.4</td>\n",
       "      <td>18.0</td>\n",
       "      <td>61.8</td>\n",
       "      <td>42.2</td>\n",
       "      <td>25.3</td>\n",
       "      <td>7.7</td>\n",
       "      <td>6.9</td>\n",
       "    </tr>\n",
       "    <tr>\n",
       "      <td>73997</td>\n",
       "      <td>11109.0</td>\n",
       "      <td>35.5</td>\n",
       "      <td>23.1</td>\n",
       "      <td>39.9</td>\n",
       "      <td>34.4</td>\n",
       "      <td>13.4</td>\n",
       "      <td>12.3</td>\n",
       "      <td>16.8</td>\n",
       "    </tr>\n",
       "  </tbody>\n",
       "</table>\n",
       "<p>65696 rows × 8 columns</p>\n",
       "</div>"
      ],
      "text/plain": [
       "       IncomePerCap  Poverty  Office  ChildPoverty  Professional  Service  \\\n",
       "0           33018.0     10.7    22.8          20.8          38.5     15.6   \n",
       "1           18996.0     22.4    22.9          35.8          30.5     24.9   \n",
       "2           21236.0     14.7    33.3          21.1          27.9     19.4   \n",
       "3           28068.0      2.3    25.8           1.7          29.0     16.6   \n",
       "4           36905.0     12.2    20.5          17.9          48.8     13.8   \n",
       "...             ...      ...     ...           ...           ...      ...   \n",
       "73983        8133.0     42.4    21.2          52.7          12.7     31.9   \n",
       "73988       10930.0     43.6    18.3          55.2          31.3     29.8   \n",
       "73994       10642.0     29.2    28.5          33.4          37.0     15.6   \n",
       "73996        8643.0     39.4    18.0          61.8          42.2     25.3   \n",
       "73997       11109.0     35.5    23.1          39.9          34.4     13.4   \n",
       "\n",
       "       Construction  Production  \n",
       "0              10.8        12.4  \n",
       "1               6.3        15.4  \n",
       "2               9.9         9.6  \n",
       "3               9.1        19.5  \n",
       "4               3.5        13.4  \n",
       "...             ...         ...  \n",
       "73983           9.2        25.0  \n",
       "73988          12.0         8.5  \n",
       "73994           6.1        12.8  \n",
       "73996           7.7         6.9  \n",
       "73997          12.3        16.8  \n",
       "\n",
       "[65696 rows x 8 columns]"
      ]
     },
     "execution_count": 518,
     "metadata": {},
     "output_type": "execute_result"
    }
   ],
   "source": [
    "df_filtered = df1[(df1['Office'] >= 10) & (df1['Office'] <= 45)& (df1['Service'] <= 50) & (df1['Poverty'] <= 45) & (df1['Construction'] <= 22) & (df1['IncomePerCap'] <= 70000)]\n",
    "df_filtered"
   ]
  },
  {
   "cell_type": "code",
   "execution_count": 519,
   "metadata": {},
   "outputs": [
    {
     "data": {
      "text/html": [
       "<div>\n",
       "<style scoped>\n",
       "    .dataframe tbody tr th:only-of-type {\n",
       "        vertical-align: middle;\n",
       "    }\n",
       "\n",
       "    .dataframe tbody tr th {\n",
       "        vertical-align: top;\n",
       "    }\n",
       "\n",
       "    .dataframe thead th {\n",
       "        text-align: right;\n",
       "    }\n",
       "</style>\n",
       "<table border=\"1\" class=\"dataframe\">\n",
       "  <thead>\n",
       "    <tr style=\"text-align: right;\">\n",
       "      <th></th>\n",
       "      <th>IncomePerCap</th>\n",
       "      <th>Poverty</th>\n",
       "      <th>Office</th>\n",
       "      <th>ChildPoverty</th>\n",
       "      <th>Professional</th>\n",
       "      <th>Service</th>\n",
       "      <th>Construction</th>\n",
       "      <th>Production</th>\n",
       "    </tr>\n",
       "  </thead>\n",
       "  <tbody>\n",
       "    <tr>\n",
       "      <td>count</td>\n",
       "      <td>65696.000000</td>\n",
       "      <td>65696.000000</td>\n",
       "      <td>65696.000000</td>\n",
       "      <td>65696.000000</td>\n",
       "      <td>65696.000000</td>\n",
       "      <td>65696.000000</td>\n",
       "      <td>65696.000000</td>\n",
       "      <td>65696.000000</td>\n",
       "    </tr>\n",
       "    <tr>\n",
       "      <td>mean</td>\n",
       "      <td>29929.306959</td>\n",
       "      <td>14.663590</td>\n",
       "      <td>23.699062</td>\n",
       "      <td>19.622673</td>\n",
       "      <td>35.539870</td>\n",
       "      <td>18.717611</td>\n",
       "      <td>8.950382</td>\n",
       "      <td>13.093258</td>\n",
       "    </tr>\n",
       "    <tr>\n",
       "      <td>std</td>\n",
       "      <td>11723.239158</td>\n",
       "      <td>9.992515</td>\n",
       "      <td>5.243215</td>\n",
       "      <td>16.291147</td>\n",
       "      <td>13.694102</td>\n",
       "      <td>7.340579</td>\n",
       "      <td>4.824538</td>\n",
       "      <td>7.420339</td>\n",
       "    </tr>\n",
       "    <tr>\n",
       "      <td>min</td>\n",
       "      <td>1631.000000</td>\n",
       "      <td>0.000000</td>\n",
       "      <td>10.000000</td>\n",
       "      <td>0.000000</td>\n",
       "      <td>0.000000</td>\n",
       "      <td>0.000000</td>\n",
       "      <td>0.000000</td>\n",
       "      <td>0.000000</td>\n",
       "    </tr>\n",
       "    <tr>\n",
       "      <td>25%</td>\n",
       "      <td>21470.750000</td>\n",
       "      <td>6.900000</td>\n",
       "      <td>20.100000</td>\n",
       "      <td>6.300000</td>\n",
       "      <td>25.500000</td>\n",
       "      <td>13.500000</td>\n",
       "      <td>5.200000</td>\n",
       "      <td>7.400000</td>\n",
       "    </tr>\n",
       "    <tr>\n",
       "      <td>50%</td>\n",
       "      <td>27650.000000</td>\n",
       "      <td>12.200000</td>\n",
       "      <td>23.500000</td>\n",
       "      <td>15.700000</td>\n",
       "      <td>33.700000</td>\n",
       "      <td>17.700000</td>\n",
       "      <td>8.400000</td>\n",
       "      <td>12.000000</td>\n",
       "    </tr>\n",
       "    <tr>\n",
       "      <td>75%</td>\n",
       "      <td>36106.000000</td>\n",
       "      <td>20.300000</td>\n",
       "      <td>27.000000</td>\n",
       "      <td>29.600000</td>\n",
       "      <td>44.400000</td>\n",
       "      <td>22.900000</td>\n",
       "      <td>12.200000</td>\n",
       "      <td>17.500000</td>\n",
       "    </tr>\n",
       "    <tr>\n",
       "      <td>max</td>\n",
       "      <td>69993.000000</td>\n",
       "      <td>45.000000</td>\n",
       "      <td>45.000000</td>\n",
       "      <td>100.000000</td>\n",
       "      <td>85.500000</td>\n",
       "      <td>50.000000</td>\n",
       "      <td>22.000000</td>\n",
       "      <td>60.500000</td>\n",
       "    </tr>\n",
       "  </tbody>\n",
       "</table>\n",
       "</div>"
      ],
      "text/plain": [
       "       IncomePerCap       Poverty        Office  ChildPoverty  Professional  \\\n",
       "count  65696.000000  65696.000000  65696.000000  65696.000000  65696.000000   \n",
       "mean   29929.306959     14.663590     23.699062     19.622673     35.539870   \n",
       "std    11723.239158      9.992515      5.243215     16.291147     13.694102   \n",
       "min     1631.000000      0.000000     10.000000      0.000000      0.000000   \n",
       "25%    21470.750000      6.900000     20.100000      6.300000     25.500000   \n",
       "50%    27650.000000     12.200000     23.500000     15.700000     33.700000   \n",
       "75%    36106.000000     20.300000     27.000000     29.600000     44.400000   \n",
       "max    69993.000000     45.000000     45.000000    100.000000     85.500000   \n",
       "\n",
       "            Service  Construction    Production  \n",
       "count  65696.000000  65696.000000  65696.000000  \n",
       "mean      18.717611      8.950382     13.093258  \n",
       "std        7.340579      4.824538      7.420339  \n",
       "min        0.000000      0.000000      0.000000  \n",
       "25%       13.500000      5.200000      7.400000  \n",
       "50%       17.700000      8.400000     12.000000  \n",
       "75%       22.900000     12.200000     17.500000  \n",
       "max       50.000000     22.000000     60.500000  "
      ]
     },
     "execution_count": 519,
     "metadata": {},
     "output_type": "execute_result"
    }
   ],
   "source": [
    "df_filtered.describe()"
   ]
  },
  {
   "cell_type": "code",
   "execution_count": 520,
   "metadata": {},
   "outputs": [],
   "source": [
    "y = df_filtered['IncomePerCap']\n",
    "X = df_filtered[refined_cols]"
   ]
  },
  {
   "cell_type": "code",
   "execution_count": 521,
   "metadata": {},
   "outputs": [
    {
     "data": {
      "text/plain": [
       "array([[33018.],\n",
       "       [18996.],\n",
       "       [21236.],\n",
       "       ...,\n",
       "       [10642.],\n",
       "       [ 8643.],\n",
       "       [11109.]])"
      ]
     },
     "execution_count": 521,
     "metadata": {},
     "output_type": "execute_result"
    }
   ],
   "source": [
    "y.values.reshape(-1,1)\n"
   ]
  },
  {
   "cell_type": "code",
   "execution_count": 522,
   "metadata": {},
   "outputs": [],
   "source": [
    "y = power_transform(_, method = 'box-cox')"
   ]
  },
  {
   "cell_type": "code",
   "execution_count": null,
   "metadata": {},
   "outputs": [],
   "source": []
  },
  {
   "cell_type": "code",
   "execution_count": 523,
   "metadata": {},
   "outputs": [
    {
     "data": {
      "text/plain": [
       "<matplotlib.axes._subplots.AxesSubplot at 0x1cd807d7b8>"
      ]
     },
     "execution_count": 523,
     "metadata": {},
     "output_type": "execute_result"
    },
    {
     "data": {
      "image/png": "[encoded data removed]",
      "text/plain": [
       "<Figure size 432x288 with 1 Axes>"
      ]
     },
     "metadata": {
      "needs_background": "light"
     },
     "output_type": "display_data"
    }
   ],
   "source": [
    "sns.distplot(df_filtered['IncomePerCap'])"
   ]
  },
  {
   "cell_type": "code",
   "execution_count": 524,
   "metadata": {},
   "outputs": [
    {
     "data": {
      "text/plain": [
       "<matplotlib.axes._subplots.AxesSubplot at 0x1cd6ba91d0>"
      ]
     },
     "execution_count": 524,
     "metadata": {},
     "output_type": "execute_result"
    },
    {
     "data": {
      "image/png": "[encoded data removed]",
      "text/plain": [
       "<Figure size 432x288 with 1 Axes>"
      ]
     },
     "metadata": {
      "needs_background": "light"
     },
     "output_type": "display_data"
    }
   ],
   "source": [
    "sns.distplot(df_filtered['ChildPoverty'])"
   ]
  },
  {
   "cell_type": "code",
   "execution_count": 525,
   "metadata": {},
   "outputs": [
    {
     "data": {
      "text/plain": [
       "<matplotlib.axes._subplots.AxesSubplot at 0x1cd7928630>"
      ]
     },
     "execution_count": 525,
     "metadata": {},
     "output_type": "execute_result"
    },
    {
     "data": {
      "image/png": "[encoded data removed]",
      "text/plain": [
       "<Figure size 432x288 with 1 Axes>"
      ]
     },
     "metadata": {
      "needs_background": "light"
     },
     "output_type": "display_data"
    }
   ],
   "source": [
    "sns.distplot(df_filtered['Professional'])"
   ]
  },
  {
   "cell_type": "code",
   "execution_count": 526,
   "metadata": {},
   "outputs": [
    {
     "data": {
      "text/plain": [
       "<matplotlib.axes._subplots.AxesSubplot at 0x1cd9d7df60>"
      ]
     },
     "execution_count": 526,
     "metadata": {},
     "output_type": "execute_result"
    },
    {
     "data": {
      "image/png": "[encoded data removed]",
      "text/plain": [
       "<Figure size 432x288 with 1 Axes>"
      ]
     },
     "metadata": {
      "needs_background": "light"
     },
     "output_type": "display_data"
    }
   ],
   "source": [
    "sns.distplot(df_filtered['Construction'])"
   ]
  },
  {
   "cell_type": "code",
   "execution_count": 527,
   "metadata": {},
   "outputs": [
    {
     "data": {
      "text/plain": [
       "<matplotlib.axes._subplots.AxesSubplot at 0x1cd9ece9b0>"
      ]
     },
     "execution_count": 527,
     "metadata": {},
     "output_type": "execute_result"
    },
    {
     "data": {
      "image/png": "[encoded data removed]",
      "text/plain": [
       "<Figure size 432x288 with 1 Axes>"
      ]
     },
     "metadata": {
      "needs_background": "light"
     },
     "output_type": "display_data"
    }
   ],
   "source": [
    "sns.distplot(df_filtered['Poverty'])"
   ]
  },
  {
   "cell_type": "code",
   "execution_count": 528,
   "metadata": {},
   "outputs": [
    {
     "data": {
      "image/png": "[encoded data removed]",
      "text/plain": [
       "<Figure size 432x288 with 1 Axes>"
      ]
     },
     "metadata": {
      "needs_background": "light"
     },
     "output_type": "display_data"
    }
   ],
   "source": [
    "sns.distplot(df_filtered['Office'])\n",
    "plt.show()"
   ]
  },
  {
   "cell_type": "code",
   "execution_count": 529,
   "metadata": {},
   "outputs": [
    {
     "data": {
      "image/png": "[encoded data removed]",
      "text/plain": [
       "<Figure size 432x288 with 1 Axes>"
      ]
     },
     "metadata": {
      "needs_background": "light"
     },
     "output_type": "display_data"
    }
   ],
   "source": [
    "sns.distplot(df_filtered['Service'])\n",
    "plt.show()"
   ]
  },
  {
   "cell_type": "code",
   "execution_count": 530,
   "metadata": {},
   "outputs": [],
   "source": [
    "# Create training and test sets\n",
    "X_train, X_test, y_train, y_test = train_test_split(\n",
    "    X**2, y, test_size=0.2, random_state = 45)"
   ]
  },
  {
   "cell_type": "code",
   "execution_count": 531,
   "metadata": {},
   "outputs": [],
   "source": [
    "ss = StandardScaler()\n",
    "scaledxtrain = ss.fit_transform(X_train)\n",
    "scaledxtest = ss.transform(X_test)"
   ]
  },
  {
   "cell_type": "code",
   "execution_count": 532,
   "metadata": {},
   "outputs": [
    {
     "data": {
      "text/html": [
       "<table class=\"simpletable\">\n",
       "<caption>OLS Regression Results</caption>\n",
       "<tr>\n",
       "  <th>Dep. Variable:</th>            <td>y</td>        <th>  R-squared:         </th> <td>   0.787</td> \n",
       "</tr>\n",
       "<tr>\n",
       "  <th>Model:</th>                   <td>OLS</td>       <th>  Adj. R-squared:    </th> <td>   0.787</td> \n",
       "</tr>\n",
       "<tr>\n",
       "  <th>Method:</th>             <td>Least Squares</td>  <th>  F-statistic:       </th> <td>   8074.</td> \n",
       "</tr>\n",
       "<tr>\n",
       "  <th>Date:</th>             <td>Tue, 03 Mar 2020</td> <th>  Prob (F-statistic):</th>  <td>  0.00</td>  \n",
       "</tr>\n",
       "<tr>\n",
       "  <th>Time:</th>                 <td>17:31:00</td>     <th>  Log-Likelihood:    </th> <td> -8504.4</td> \n",
       "</tr>\n",
       "<tr>\n",
       "  <th>No. Observations:</th>      <td> 13140</td>      <th>  AIC:               </th> <td>1.702e+04</td>\n",
       "</tr>\n",
       "<tr>\n",
       "  <th>Df Residuals:</th>          <td> 13133</td>      <th>  BIC:               </th> <td>1.708e+04</td>\n",
       "</tr>\n",
       "<tr>\n",
       "  <th>Df Model:</th>              <td>     6</td>      <th>                     </th>     <td> </td>    \n",
       "</tr>\n",
       "<tr>\n",
       "  <th>Covariance Type:</th>      <td>nonrobust</td>    <th>                     </th>     <td> </td>    \n",
       "</tr>\n",
       "</table>\n",
       "<table class=\"simpletable\">\n",
       "<tr>\n",
       "    <td></td>       <th>coef</th>     <th>std err</th>      <th>t</th>      <th>P>|t|</th>  <th>[0.025</th>    <th>0.975]</th>  \n",
       "</tr>\n",
       "<tr>\n",
       "  <th>const</th> <td>    0.0061</td> <td>    0.004</td> <td>    1.519</td> <td> 0.129</td> <td>   -0.002</td> <td>    0.014</td>\n",
       "</tr>\n",
       "<tr>\n",
       "  <th>x1</th>    <td>   -0.3950</td> <td>    0.005</td> <td>  -79.987</td> <td> 0.000</td> <td>   -0.405</td> <td>   -0.385</td>\n",
       "</tr>\n",
       "<tr>\n",
       "  <th>x2</th>    <td>   -0.0091</td> <td>    0.006</td> <td>   -1.542</td> <td> 0.123</td> <td>   -0.021</td> <td>    0.002</td>\n",
       "</tr>\n",
       "<tr>\n",
       "  <th>x3</th>    <td>    0.5027</td> <td>    0.009</td> <td>   53.173</td> <td> 0.000</td> <td>    0.484</td> <td>    0.521</td>\n",
       "</tr>\n",
       "<tr>\n",
       "  <th>x4</th>    <td>   -0.0836</td> <td>    0.007</td> <td>  -11.984</td> <td> 0.000</td> <td>   -0.097</td> <td>   -0.070</td>\n",
       "</tr>\n",
       "<tr>\n",
       "  <th>x5</th>    <td>   -0.0564</td> <td>    0.006</td> <td>   -9.795</td> <td> 0.000</td> <td>   -0.068</td> <td>   -0.045</td>\n",
       "</tr>\n",
       "<tr>\n",
       "  <th>x6</th>    <td>   -0.1026</td> <td>    0.006</td> <td>  -16.140</td> <td> 0.000</td> <td>   -0.115</td> <td>   -0.090</td>\n",
       "</tr>\n",
       "</table>\n",
       "<table class=\"simpletable\">\n",
       "<tr>\n",
       "  <th>Omnibus:</th>       <td>776.296</td> <th>  Durbin-Watson:     </th> <td>   2.010</td>\n",
       "</tr>\n",
       "<tr>\n",
       "  <th>Prob(Omnibus):</th> <td> 0.000</td>  <th>  Jarque-Bera (JB):  </th> <td>3036.993</td>\n",
       "</tr>\n",
       "<tr>\n",
       "  <th>Skew:</th>          <td>-0.158</td>  <th>  Prob(JB):          </th> <td>    0.00</td>\n",
       "</tr>\n",
       "<tr>\n",
       "  <th>Kurtosis:</th>      <td> 5.334</td>  <th>  Cond. No.          </th> <td>    5.15</td>\n",
       "</tr>\n",
       "</table><br/><br/>Warnings:<br/>[1] Standard Errors assume that the covariance matrix of the errors is correctly specified."
      ],
      "text/plain": [
       "<class 'statsmodels.iolib.summary.Summary'>\n",
       "\"\"\"\n",
       "                            OLS Regression Results                            \n",
       "==============================================================================\n",
       "Dep. Variable:                      y   R-squared:                       0.787\n",
       "Model:                            OLS   Adj. R-squared:                  0.787\n",
       "Method:                 Least Squares   F-statistic:                     8074.\n",
       "Date:                Tue, 03 Mar 2020   Prob (F-statistic):               0.00\n",
       "Time:                        17:31:00   Log-Likelihood:                -8504.4\n",
       "No. Observations:               13140   AIC:                         1.702e+04\n",
       "Df Residuals:                   13133   BIC:                         1.708e+04\n",
       "Df Model:                           6                                         \n",
       "Covariance Type:            nonrobust                                         \n",
       "==============================================================================\n",
       "                 coef    std err          t      P>|t|      [0.025      0.975]\n",
       "------------------------------------------------------------------------------\n",
       "const          0.0061      0.004      1.519      0.129      -0.002       0.014\n",
       "x1            -0.3950      0.005    -79.987      0.000      -0.405      -0.385\n",
       "x2            -0.0091      0.006     -1.542      0.123      -0.021       0.002\n",
       "x3             0.5027      0.009     53.173      0.000       0.484       0.521\n",
       "x4            -0.0836      0.007    -11.984      0.000      -0.097      -0.070\n",
       "x5            -0.0564      0.006     -9.795      0.000      -0.068      -0.045\n",
       "x6            -0.1026      0.006    -16.140      0.000      -0.115      -0.090\n",
       "==============================================================================\n",
       "Omnibus:                      776.296   Durbin-Watson:                   2.010\n",
       "Prob(Omnibus):                  0.000   Jarque-Bera (JB):             3036.993\n",
       "Skew:                          -0.158   Prob(JB):                         0.00\n",
       "Kurtosis:                       5.334   Cond. No.                         5.15\n",
       "==============================================================================\n",
       "\n",
       "Warnings:\n",
       "[1] Standard Errors assume that the covariance matrix of the errors is correctly specified.\n",
       "\"\"\""
      ]
     },
     "execution_count": 532,
     "metadata": {},
     "output_type": "execute_result"
    }
   ],
   "source": [
    "#X = df[refined_cols]\n",
    "X2 = sm.add_constant(scaledxtest)\n",
    "model = sm.OLS(y_test, X2, hasconst= True)\n",
    "res = model.fit()\n",
    "res.summary()"
   ]
  },
  {
   "cell_type": "code",
   "execution_count": 533,
   "metadata": {},
   "outputs": [
    {
     "name": "stdout",
     "output_type": "stream",
     "text": [
      "0.7864656304902553\n"
     ]
    }
   ],
   "source": [
    "from sklearn.metrics import r2_score\n",
    "\n",
    "lr = LinearRegression()\n",
    "lr.fit(scaledxtrain, y_train)\n",
    "y_predict = lr.predict(scaledxtest)\n",
    "r_squared = r2_score(y_test, y_predict)\n",
    "print(r_squared)"
   ]
  },
  {
   "cell_type": "code",
   "execution_count": 458,
   "metadata": {},
   "outputs": [
    {
     "data": {
      "text/plain": [
       "['IncomePerCap',\n",
       " 'Poverty',\n",
       " 'Office',\n",
       " 'ChildPoverty',\n",
       " 'Professional',\n",
       " 'Service',\n",
       " 'Construction',\n",
       " 'Production']"
      ]
     },
     "execution_count": 458,
     "metadata": {},
     "output_type": "execute_result"
    }
   ],
   "source": [
    "x_cols"
   ]
  },
  {
   "cell_type": "code",
   "execution_count": 480,
   "metadata": {},
   "outputs": [],
   "source": [
    "x_cols = df_filtered.columns.tolist()\n"
   ]
  },
  {
   "cell_type": "code",
   "execution_count": 196,
   "metadata": {},
   "outputs": [],
   "source": [
    "del x_cols[0]"
   ]
  },
  {
   "cell_type": "code",
   "execution_count": 481,
   "metadata": {},
   "outputs": [
    {
     "name": "stderr",
     "output_type": "stream",
     "text": [
      "/opt/anaconda3/envs/learn-env/lib/python3.6/site-packages/ipykernel_launcher.py:4: SettingWithCopyWarning: \n",
      "A value is trying to be set on a copy of a slice from a DataFrame.\n",
      "Try using .loc[row_indexer,col_indexer] = value instead\n",
      "\n",
      "See the caveats in the documentation: http://pandas.pydata.org/pandas-docs/stable/user_guide/indexing.html#returning-a-view-versus-a-copy\n",
      "  after removing the cwd from sys.path.\n"
     ]
    },
    {
     "data": {
      "text/html": [
       "<div>\n",
       "<style scoped>\n",
       "    .dataframe tbody tr th:only-of-type {\n",
       "        vertical-align: middle;\n",
       "    }\n",
       "\n",
       "    .dataframe tbody tr th {\n",
       "        vertical-align: top;\n",
       "    }\n",
       "\n",
       "    .dataframe thead th {\n",
       "        text-align: right;\n",
       "    }\n",
       "</style>\n",
       "<table border=\"1\" class=\"dataframe\">\n",
       "  <thead>\n",
       "    <tr style=\"text-align: right;\">\n",
       "      <th></th>\n",
       "      <th>IncomePerCap</th>\n",
       "      <th>Poverty</th>\n",
       "      <th>Office</th>\n",
       "      <th>ChildPoverty</th>\n",
       "      <th>Professional</th>\n",
       "      <th>Service</th>\n",
       "      <th>Construction</th>\n",
       "      <th>Production</th>\n",
       "    </tr>\n",
       "  </thead>\n",
       "  <tbody>\n",
       "    <tr>\n",
       "      <td>0</td>\n",
       "      <td>0.146797</td>\n",
       "      <td>-0.225330</td>\n",
       "      <td>-0.176300</td>\n",
       "      <td>0.333486</td>\n",
       "      <td>0.126165</td>\n",
       "      <td>-0.333746</td>\n",
       "      <td>0.387219</td>\n",
       "      <td>-0.040001</td>\n",
       "    </tr>\n",
       "    <tr>\n",
       "      <td>1</td>\n",
       "      <td>-1.089722</td>\n",
       "      <td>1.373282</td>\n",
       "      <td>-0.156875</td>\n",
       "      <td>1.480726</td>\n",
       "      <td>-0.474389</td>\n",
       "      <td>1.053766</td>\n",
       "      <td>-0.554173</td>\n",
       "      <td>0.377676</td>\n",
       "    </tr>\n",
       "    <tr>\n",
       "      <td>2</td>\n",
       "      <td>-0.892190</td>\n",
       "      <td>0.321204</td>\n",
       "      <td>1.863355</td>\n",
       "      <td>0.356431</td>\n",
       "      <td>-0.669568</td>\n",
       "      <td>0.233194</td>\n",
       "      <td>0.198941</td>\n",
       "      <td>-0.429833</td>\n",
       "    </tr>\n",
       "    <tr>\n",
       "      <td>3</td>\n",
       "      <td>-0.289715</td>\n",
       "      <td>-1.373052</td>\n",
       "      <td>0.406459</td>\n",
       "      <td>-1.127332</td>\n",
       "      <td>-0.586992</td>\n",
       "      <td>-0.184551</td>\n",
       "      <td>0.031582</td>\n",
       "      <td>0.948502</td>\n",
       "    </tr>\n",
       "    <tr>\n",
       "      <td>4</td>\n",
       "      <td>0.489569</td>\n",
       "      <td>-0.020380</td>\n",
       "      <td>-0.623082</td>\n",
       "      <td>0.111687</td>\n",
       "      <td>0.899377</td>\n",
       "      <td>-0.602297</td>\n",
       "      <td>-1.139928</td>\n",
       "      <td>0.099225</td>\n",
       "    </tr>\n",
       "  </tbody>\n",
       "</table>\n",
       "</div>"
      ],
      "text/plain": [
       "   IncomePerCap   Poverty    Office  ChildPoverty  Professional   Service  \\\n",
       "0      0.146797 -0.225330 -0.176300      0.333486      0.126165 -0.333746   \n",
       "1     -1.089722  1.373282 -0.156875      1.480726     -0.474389  1.053766   \n",
       "2     -0.892190  0.321204  1.863355      0.356431     -0.669568  0.233194   \n",
       "3     -0.289715 -1.373052  0.406459     -1.127332     -0.586992 -0.184551   \n",
       "4      0.489569 -0.020380 -0.623082      0.111687      0.899377 -0.602297   \n",
       "\n",
       "   Construction  Production  \n",
       "0      0.387219   -0.040001  \n",
       "1     -0.554173    0.377676  \n",
       "2      0.198941   -0.429833  \n",
       "3      0.031582    0.948502  \n",
       "4     -1.139928    0.099225  "
      ]
     },
     "execution_count": 481,
     "metadata": {},
     "output_type": "execute_result"
    }
   ],
   "source": [
    "\n",
    "for col in x_cols:\n",
    "    ## This is called standard scaling\n",
    "    ## Here we don't have to do this but still it is a good practice\n",
    "    df_filtered[col] = (df_filtered[col] - df_filtered[col].mean())/df_filtered[col].std()\n",
    "df_filtered.head()"
   ]
  },
  {
   "cell_type": "code",
   "execution_count": 198,
   "metadata": {},
   "outputs": [
    {
     "name": "stdout",
     "output_type": "stream",
     "text": [
      "<class 'pandas.core.frame.DataFrame'>\n",
      "Int64Index: 72718 entries, 0 to 74000\n",
      "Data columns (total 8 columns):\n",
      "IncomePerCap    72718 non-null float64\n",
      "Poverty         72718 non-null float64\n",
      "ChildPoverty    72718 non-null float64\n",
      "Professional    72718 non-null float64\n",
      "Service         72718 non-null float64\n",
      "Construction    72718 non-null float64\n",
      "Office          72718 non-null float64\n",
      "Production      72718 non-null float64\n",
      "dtypes: float64(8)\n",
      "memory usage: 5.0 MB\n"
     ]
    }
   ],
   "source": [
    "df1.info()"
   ]
  },
  {
   "cell_type": "code",
   "execution_count": 38,
   "metadata": {},
   "outputs": [
    {
     "name": "stdout",
     "output_type": "stream",
     "text": [
      "Requirement already satisfied: yellowbrick in /opt/anaconda3/envs/learn-env/lib/python3.6/site-packages (1.1)\n",
      "Requirement already satisfied: scikit-learn>=0.20 in /opt/anaconda3/envs/learn-env/lib/python3.6/site-packages (from yellowbrick) (0.21.2)\n",
      "Requirement already satisfied: scipy>=1.0.0 in /opt/anaconda3/envs/learn-env/lib/python3.6/site-packages (from yellowbrick) (1.3.1)\n",
      "Requirement already satisfied: numpy>=1.13.0 in /opt/anaconda3/envs/learn-env/lib/python3.6/site-packages (from yellowbrick) (1.16.5)\n",
      "Requirement already satisfied: cycler>=0.10.0 in /opt/anaconda3/envs/learn-env/lib/python3.6/site-packages (from yellowbrick) (0.10.0)\n",
      "Requirement already satisfied: matplotlib!=3.0.0,>=2.0.2 in /opt/anaconda3/envs/learn-env/lib/python3.6/site-packages (from yellowbrick) (3.1.1)\n",
      "Requirement already satisfied: joblib>=0.11 in /opt/anaconda3/envs/learn-env/lib/python3.6/site-packages (from scikit-learn>=0.20->yellowbrick) (0.13.2)\n",
      "Requirement already satisfied: six in /opt/anaconda3/envs/learn-env/lib/python3.6/site-packages (from cycler>=0.10.0->yellowbrick) (1.12.0)\n",
      "Requirement already satisfied: kiwisolver>=1.0.1 in /opt/anaconda3/envs/learn-env/lib/python3.6/site-packages (from matplotlib!=3.0.0,>=2.0.2->yellowbrick) (1.1.0)\n",
      "Requirement already satisfied: pyparsing!=2.0.4,!=2.1.2,!=2.1.6,>=2.0.1 in /opt/anaconda3/envs/learn-env/lib/python3.6/site-packages (from matplotlib!=3.0.0,>=2.0.2->yellowbrick) (2.4.2)\n",
      "Requirement already satisfied: python-dateutil>=2.1 in /opt/anaconda3/envs/learn-env/lib/python3.6/site-packages (from matplotlib!=3.0.0,>=2.0.2->yellowbrick) (2.8.0)\n",
      "Requirement already satisfied: setuptools in /opt/anaconda3/envs/learn-env/lib/python3.6/site-packages (from kiwisolver>=1.0.1->matplotlib!=3.0.0,>=2.0.2->yellowbrick) (41.2.0)\n"
     ]
    }
   ],
   "source": [
    "!pip install yellowbrick"
   ]
  },
  {
   "cell_type": "markdown",
   "metadata": {},
   "source": [
    "Note about office"
   ]
  },
  {
   "cell_type": "code",
   "execution_count": 534,
   "metadata": {},
   "outputs": [
    {
     "data": {
      "text/plain": [
       "[('Poverty', 5.212861647548597),\n",
       " ('Office', 12.692497342824135),\n",
       " ('Professional', 5.428544083589638),\n",
       " ('Service', 9.20770956668878),\n",
       " ('Construction', 4.682379567137412),\n",
       " ('Production', 5.042263448907262)]"
      ]
     },
     "execution_count": 534,
     "metadata": {},
     "output_type": "execute_result"
    }
   ],
   "source": [
    "refined_cols = ['Poverty','Office',\n",
    "        'Professional', 'Service','Construction', \n",
    "       'Production']\n",
    "X = df_filtered[refined_cols]\n",
    "vif = [variance_inflation_factor(X.values, i) for i in range(X.shape[1])]\n",
    "list(zip(refined_cols, vif))"
   ]
  },
  {
   "cell_type": "code",
   "execution_count": 535,
   "metadata": {},
   "outputs": [
    {
     "data": {
      "text/html": [
       "<table class=\"simpletable\">\n",
       "<caption>OLS Regression Results</caption>\n",
       "<tr>\n",
       "  <th>Dep. Variable:</th>            <td>y</td>        <th>  R-squared:         </th> <td>   0.800</td> \n",
       "</tr>\n",
       "<tr>\n",
       "  <th>Model:</th>                   <td>OLS</td>       <th>  Adj. R-squared:    </th> <td>   0.800</td> \n",
       "</tr>\n",
       "<tr>\n",
       "  <th>Method:</th>             <td>Least Squares</td>  <th>  F-statistic:       </th> <td>4.386e+04</td>\n",
       "</tr>\n",
       "<tr>\n",
       "  <th>Date:</th>             <td>Tue, 03 Mar 2020</td> <th>  Prob (F-statistic):</th>  <td>  0.00</td>  \n",
       "</tr>\n",
       "<tr>\n",
       "  <th>Time:</th>                 <td>17:31:25</td>     <th>  Log-Likelihood:    </th> <td> -40310.</td> \n",
       "</tr>\n",
       "<tr>\n",
       "  <th>No. Observations:</th>      <td> 65696</td>      <th>  AIC:               </th> <td>8.063e+04</td>\n",
       "</tr>\n",
       "<tr>\n",
       "  <th>Df Residuals:</th>          <td> 65689</td>      <th>  BIC:               </th> <td>8.070e+04</td>\n",
       "</tr>\n",
       "<tr>\n",
       "  <th>Df Model:</th>              <td>     6</td>      <th>                     </th>     <td> </td>    \n",
       "</tr>\n",
       "<tr>\n",
       "  <th>Covariance Type:</th>      <td>nonrobust</td>    <th>                     </th>     <td> </td>    \n",
       "</tr>\n",
       "</table>\n",
       "<table class=\"simpletable\">\n",
       "<tr>\n",
       "    <td></td>       <th>coef</th>     <th>std err</th>      <th>t</th>      <th>P>|t|</th>  <th>[0.025</th>    <th>0.975]</th>  \n",
       "</tr>\n",
       "<tr>\n",
       "  <th>const</th> <td>    0.5935</td> <td>    2.703</td> <td>    0.220</td> <td> 0.826</td> <td>   -4.704</td> <td>    5.891</td>\n",
       "</tr>\n",
       "<tr>\n",
       "  <th>x1</th>    <td>   -0.0430</td> <td>    0.000</td> <td> -191.574</td> <td> 0.000</td> <td>   -0.043</td> <td>   -0.043</td>\n",
       "</tr>\n",
       "<tr>\n",
       "  <th>x2</th>    <td>   -0.0109</td> <td>    0.027</td> <td>   -0.402</td> <td> 0.688</td> <td>   -0.064</td> <td>    0.042</td>\n",
       "</tr>\n",
       "<tr>\n",
       "  <th>x3</th>    <td>    0.0266</td> <td>    0.027</td> <td>    0.985</td> <td> 0.325</td> <td>   -0.026</td> <td>    0.080</td>\n",
       "</tr>\n",
       "<tr>\n",
       "  <th>x4</th>    <td>   -0.0145</td> <td>    0.027</td> <td>   -0.537</td> <td> 0.591</td> <td>   -0.067</td> <td>    0.038</td>\n",
       "</tr>\n",
       "<tr>\n",
       "  <th>x5</th>    <td>   -0.0155</td> <td>    0.027</td> <td>   -0.575</td> <td> 0.565</td> <td>   -0.069</td> <td>    0.037</td>\n",
       "</tr>\n",
       "<tr>\n",
       "  <th>x6</th>    <td>   -0.0184</td> <td>    0.027</td> <td>   -0.682</td> <td> 0.495</td> <td>   -0.071</td> <td>    0.035</td>\n",
       "</tr>\n",
       "</table>\n",
       "<table class=\"simpletable\">\n",
       "<tr>\n",
       "  <th>Omnibus:</th>       <td>11365.216</td> <th>  Durbin-Watson:     </th> <td>   1.464</td> \n",
       "</tr>\n",
       "<tr>\n",
       "  <th>Prob(Omnibus):</th>  <td> 0.000</td>   <th>  Jarque-Bera (JB):  </th> <td>96101.622</td>\n",
       "</tr>\n",
       "<tr>\n",
       "  <th>Skew:</th>           <td>-0.593</td>   <th>  Prob(JB):          </th> <td>    0.00</td> \n",
       "</tr>\n",
       "<tr>\n",
       "  <th>Kurtosis:</th>       <td> 8.805</td>   <th>  Cond. No.          </th> <td>8.01e+04</td> \n",
       "</tr>\n",
       "</table><br/><br/>Warnings:<br/>[1] Standard Errors assume that the covariance matrix of the errors is correctly specified.<br/>[2] The condition number is large, 8.01e+04. This might indicate that there are<br/>strong multicollinearity or other numerical problems."
      ],
      "text/plain": [
       "<class 'statsmodels.iolib.summary.Summary'>\n",
       "\"\"\"\n",
       "                            OLS Regression Results                            \n",
       "==============================================================================\n",
       "Dep. Variable:                      y   R-squared:                       0.800\n",
       "Model:                            OLS   Adj. R-squared:                  0.800\n",
       "Method:                 Least Squares   F-statistic:                 4.386e+04\n",
       "Date:                Tue, 03 Mar 2020   Prob (F-statistic):               0.00\n",
       "Time:                        17:31:25   Log-Likelihood:                -40310.\n",
       "No. Observations:               65696   AIC:                         8.063e+04\n",
       "Df Residuals:                   65689   BIC:                         8.070e+04\n",
       "Df Model:                           6                                         \n",
       "Covariance Type:            nonrobust                                         \n",
       "==============================================================================\n",
       "                 coef    std err          t      P>|t|      [0.025      0.975]\n",
       "------------------------------------------------------------------------------\n",
       "const          0.5935      2.703      0.220      0.826      -4.704       5.891\n",
       "x1            -0.0430      0.000   -191.574      0.000      -0.043      -0.043\n",
       "x2            -0.0109      0.027     -0.402      0.688      -0.064       0.042\n",
       "x3             0.0266      0.027      0.985      0.325      -0.026       0.080\n",
       "x4            -0.0145      0.027     -0.537      0.591      -0.067       0.038\n",
       "x5            -0.0155      0.027     -0.575      0.565      -0.069       0.037\n",
       "x6            -0.0184      0.027     -0.682      0.495      -0.071       0.035\n",
       "==============================================================================\n",
       "Omnibus:                    11365.216   Durbin-Watson:                   1.464\n",
       "Prob(Omnibus):                  0.000   Jarque-Bera (JB):            96101.622\n",
       "Skew:                          -0.593   Prob(JB):                         0.00\n",
       "Kurtosis:                       8.805   Cond. No.                     8.01e+04\n",
       "==============================================================================\n",
       "\n",
       "Warnings:\n",
       "[1] Standard Errors assume that the covariance matrix of the errors is correctly specified.\n",
       "[2] The condition number is large, 8.01e+04. This might indicate that there are\n",
       "strong multicollinearity or other numerical problems.\n",
       "\"\"\""
      ]
     },
     "execution_count": 535,
     "metadata": {},
     "output_type": "execute_result"
    }
   ],
   "source": [
    "X = df_filtered[refined_cols]\n",
    "X = sm.add_constant(X.values)\n",
    "model = sm.OLS(y, X, hasconst= True)\n",
    "res = model.fit()\n",
    "res.summary()"
   ]
  },
  {
   "cell_type": "code",
   "execution_count": 536,
   "metadata": {},
   "outputs": [
    {
     "name": "stdout",
     "output_type": "stream",
     "text": [
      "[ True  True  True  True  True  True]\n"
     ]
    },
    {
     "data": {
      "text/html": [
       "<div>\n",
       "<style scoped>\n",
       "    .dataframe tbody tr th:only-of-type {\n",
       "        vertical-align: middle;\n",
       "    }\n",
       "\n",
       "    .dataframe tbody tr th {\n",
       "        vertical-align: top;\n",
       "    }\n",
       "\n",
       "    .dataframe thead th {\n",
       "        text-align: right;\n",
       "    }\n",
       "</style>\n",
       "<table border=\"1\" class=\"dataframe\">\n",
       "  <thead>\n",
       "    <tr style=\"text-align: right;\">\n",
       "      <th></th>\n",
       "      <th>Poverty</th>\n",
       "      <th>Office</th>\n",
       "      <th>Professional</th>\n",
       "      <th>Service</th>\n",
       "      <th>Construction</th>\n",
       "      <th>Production</th>\n",
       "    </tr>\n",
       "  </thead>\n",
       "  <tbody>\n",
       "    <tr>\n",
       "      <td>0</td>\n",
       "      <td>10.7</td>\n",
       "      <td>22.8</td>\n",
       "      <td>38.5</td>\n",
       "      <td>15.6</td>\n",
       "      <td>10.8</td>\n",
       "      <td>12.4</td>\n",
       "    </tr>\n",
       "    <tr>\n",
       "      <td>1</td>\n",
       "      <td>22.4</td>\n",
       "      <td>22.9</td>\n",
       "      <td>30.5</td>\n",
       "      <td>24.9</td>\n",
       "      <td>6.3</td>\n",
       "      <td>15.4</td>\n",
       "    </tr>\n",
       "    <tr>\n",
       "      <td>2</td>\n",
       "      <td>14.7</td>\n",
       "      <td>33.3</td>\n",
       "      <td>27.9</td>\n",
       "      <td>19.4</td>\n",
       "      <td>9.9</td>\n",
       "      <td>9.6</td>\n",
       "    </tr>\n",
       "    <tr>\n",
       "      <td>3</td>\n",
       "      <td>2.3</td>\n",
       "      <td>25.8</td>\n",
       "      <td>29.0</td>\n",
       "      <td>16.6</td>\n",
       "      <td>9.1</td>\n",
       "      <td>19.5</td>\n",
       "    </tr>\n",
       "    <tr>\n",
       "      <td>4</td>\n",
       "      <td>12.2</td>\n",
       "      <td>20.5</td>\n",
       "      <td>48.8</td>\n",
       "      <td>13.8</td>\n",
       "      <td>3.5</td>\n",
       "      <td>13.4</td>\n",
       "    </tr>\n",
       "  </tbody>\n",
       "</table>\n",
       "</div>"
      ],
      "text/plain": [
       "   Poverty  Office  Professional  Service  Construction  Production\n",
       "0     10.7    22.8          38.5     15.6          10.8        12.4\n",
       "1     22.4    22.9          30.5     24.9           6.3        15.4\n",
       "2     14.7    33.3          27.9     19.4           9.9         9.6\n",
       "3      2.3    25.8          29.0     16.6           9.1        19.5\n",
       "4     12.2    20.5          48.8     13.8           3.5        13.4"
      ]
     },
     "execution_count": 536,
     "metadata": {},
     "output_type": "execute_result"
    }
   ],
   "source": [
    "X = df_filtered[refined_cols]\n",
    "y = (df_filtered['IncomePerCap'])\n",
    "lm = LinearRegression()\n",
    "## instantiate the selector object\n",
    "selector = RFE(lm, n_features_to_select=6 )\n",
    "\n",
    "## fit the model\n",
    "selector.fit(X,y)\n",
    "## check which columns are selected\n",
    "ind = selector.get_support()\n",
    "print(ind)\n",
    "X.loc[:,ind].head()"
   ]
  },
  {
   "cell_type": "code",
   "execution_count": 537,
   "metadata": {},
   "outputs": [
    {
     "name": "stdout",
     "output_type": "stream",
     "text": [
      "0.7580161038438501\n"
     ]
    }
   ],
   "source": [
    "## let's compare the R2 scores with these predictors\n",
    "lm6 = selector.estimator_\n",
    "R2 = lm6.score(X.loc[:, ind],y)\n",
    "print(R2)"
   ]
  },
  {
   "cell_type": "code",
   "execution_count": 538,
   "metadata": {},
   "outputs": [
    {
     "name": "stdout",
     "output_type": "stream",
     "text": [
      "0.7580050530052629\n"
     ]
    }
   ],
   "source": [
    "R2_adj = 1- (1-R2)*(len(y)-1)/(len(y) - 3 - 1)\n",
    "print(R2_adj)"
   ]
  },
  {
   "cell_type": "code",
   "execution_count": 539,
   "metadata": {},
   "outputs": [
    {
     "name": "stdout",
     "output_type": "stream",
     "text": [
      "(65696, 1)\n",
      "(13140, 1)\n"
     ]
    }
   ],
   "source": [
    "print(y.values.reshape(-1,1).shape)\n",
    "print(y_predict.reshape(-1,1).shape)"
   ]
  },
  {
   "cell_type": "code",
   "execution_count": 119,
   "metadata": {},
   "outputs": [
    {
     "name": "stderr",
     "output_type": "stream",
     "text": [
      "/opt/anaconda3/envs/learn-env/lib/python3.6/site-packages/ipykernel_launcher.py:1: RuntimeWarning: divide by zero encountered in log\n",
      "  \"\"\"Entry point for launching an IPython kernel.\n"
     ]
    }
   ],
   "source": [
    "Xlog = np.log(X.values)"
   ]
  },
  {
   "cell_type": "code",
   "execution_count": 90,
   "metadata": {},
   "outputs": [
    {
     "data": {
      "text/plain": [
       "array([[2.37024374, 3.65065824, 2.74727091, 2.37954613, 3.12676054,\n",
       "        2.51769647],\n",
       "       [3.10906096, 3.41772668, 3.2148678 , 1.84054963, 3.13113691,\n",
       "        2.73436751],\n",
       "       [2.68784749, 3.32862669, 2.96527307, 2.29253476, 3.5055574 ,\n",
       "        2.2617631 ],\n",
       "       ...,\n",
       "       [3.96651119, 3.37758752, 3.16124671, 1.5260563 , 3.49347266,\n",
       "        2.2617631 ],\n",
       "       [3.91402101, 3.39450839, 3.02529108, 2.63188884, 3.36037539,\n",
       "        1.93152141],\n",
       "       [4.23988687, 2.51769647, 3.16968558, 2.87919846, 2.94968834,\n",
       "        3.29212629]])"
      ]
     },
     "execution_count": 90,
     "metadata": {},
     "output_type": "execute_result"
    }
   ],
   "source": [
    "Xlog"
   ]
  },
  {
   "cell_type": "code",
   "execution_count": 540,
   "metadata": {},
   "outputs": [
    {
     "data": {
      "text/plain": [
       "(13140, 1)"
      ]
     },
     "execution_count": 540,
     "metadata": {},
     "output_type": "execute_result"
    }
   ],
   "source": [
    "y_predict.shape"
   ]
  },
  {
   "cell_type": "code",
   "execution_count": 541,
   "metadata": {},
   "outputs": [],
   "source": [
    "y_predict = lm6.predict(X)\n"
   ]
  },
  {
   "cell_type": "code",
   "execution_count": 542,
   "metadata": {},
   "outputs": [
    {
     "data": {
      "text/plain": [
       "0          142.027027\n",
       "1        -5348.427218\n",
       "2        -4902.790200\n",
       "3        -2849.433270\n",
       "4        -1237.307749\n",
       "             ...     \n",
       "73983     1452.492386\n",
       "73988    -5682.152175\n",
       "73994   -14846.398283\n",
       "73996   -15596.934728\n",
       "73997    -9959.888581\n",
       "Name: IncomePerCap, Length: 65696, dtype: float64"
      ]
     },
     "execution_count": 542,
     "metadata": {},
     "output_type": "execute_result"
    }
   ],
   "source": [
    "residuals = y - y_predict\n",
    "residuals"
   ]
  },
  {
   "cell_type": "code",
   "execution_count": 220,
   "metadata": {},
   "outputs": [
    {
     "ename": "SyntaxError",
     "evalue": "invalid syntax (<ipython-input-220-80c5a6c7d8a1>, line 6)",
     "output_type": "error",
     "traceback": [
      "\u001b[0;36m  File \u001b[0;32m\"<ipython-input-220-80c5a6c7d8a1>\"\u001b[0;36m, line \u001b[0;32m6\u001b[0m\n\u001b[0;31m    print clf.predict(predict_)\u001b[0m\n\u001b[0m            ^\u001b[0m\n\u001b[0;31mSyntaxError\u001b[0m\u001b[0;31m:\u001b[0m invalid syntax\n"
     ]
    }
   ],
   "source": [
    "poly = PolynomialFeatures(degree=2)\n",
    "X_ = poly.fit_transform(X)\n",
    "predict_ = poly.fit_transform(predict)\n",
    "clf = linear_model.LinearRegression()\n",
    "clf.fit(X_, y)\n",
    "print clf.predict(predict_)"
   ]
  },
  {
   "cell_type": "code",
   "execution_count": 543,
   "metadata": {},
   "outputs": [
    {
     "data": {
      "image/png": "[encoded data removed]",
      "text/plain": [
       "<Figure size 432x288 with 1 Axes>"
      ]
     },
     "metadata": {
      "needs_background": "light"
     },
     "output_type": "display_data"
    }
   ],
   "source": [
    "plt.scatter(y_predict, residuals)\n",
    "plt.plot(y_predict, [0 for i in range(len(df_filtered))])\n",
    "plt.show()"
   ]
  },
  {
   "cell_type": "code",
   "execution_count": 544,
   "metadata": {},
   "outputs": [
    {
     "data": {
      "image/png": "[encoded data removed]",
      "text/plain": [
       "<Figure size 432x288 with 1 Axes>"
      ]
     },
     "metadata": {
      "needs_background": "light"
     },
     "output_type": "display_data"
    }
   ],
   "source": [
    "fig = sm.graphics.qqplot(residuals, dist=stats.norm, line='45', fit=True)"
   ]
  },
  {
   "cell_type": "code",
   "execution_count": 545,
   "metadata": {},
   "outputs": [
    {
     "data": {
      "image/png": "[encoded data removed]",
      "text/plain": [
       "<Figure size 432x288 with 2 Axes>"
      ]
     },
     "metadata": {
      "needs_background": "light"
     },
     "output_type": "display_data"
    },
    {
     "data": {
      "text/plain": [
       "<matplotlib.axes._subplots.AxesSubplot at 0x1ccfc7e240>"
      ]
     },
     "execution_count": 545,
     "metadata": {},
     "output_type": "execute_result"
    }
   ],
   "source": [
    "from yellowbrick.regressor import ResidualsPlot\n",
    "from sklearn.linear_model import LinearRegression\n",
    "from sklearn.model_selection import train_test_split\n",
    "\n",
    "# Create training and test sets\n",
    "\n",
    "\n",
    "\n",
    "visualizer = ResidualsPlot(LinearRegression())\n",
    "visualizer.fit(X_train, y_train)\n",
    "visualizer.score(X_test, y_test)\n",
    "visualizer.show()"
   ]
  },
  {
   "cell_type": "code",
   "execution_count": null,
   "metadata": {},
   "outputs": [],
   "source": []
  }
 ],
 "metadata": {
  "kernelspec": {
   "display_name": "Python 3",
   "language": "python",
   "name": "python3"
  },
  "language_info": {
   "codemirror_mode": {
    "name": "ipython",
    "version": 3
   },
   "file_extension": ".py",
   "mimetype": "text/x-python",
   "name": "python",
   "nbconvert_exporter": "python",
   "pygments_lexer": "ipython3",
   "version": "3.6.9"
  }
 },
 "nbformat": 4,
 "nbformat_minor": 4
}

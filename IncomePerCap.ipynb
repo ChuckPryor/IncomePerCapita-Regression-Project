{
 "cells": [
  {
   "cell_type": "markdown",
   "metadata": {},
   "source": [
    "## Predicting Income Per Capita\n",
    "\n",
    "### A Multilinear Regression Model\n",
    "\n",
    "*by Charles Pryor & Akshay Indusekar*"
   ]
  },
  {
   "cell_type": "markdown",
   "metadata": {},
   "source": [
    "We started by importing all of the necessary packages that we knew we would need.  I keep these in a separate file and import all of them at the same time whenever there is a project."
   ]
  },
  {
   "cell_type": "code",
   "execution_count": 218,
   "metadata": {},
   "outputs": [],
   "source": [
    "import numpy as np\n",
    "import pandas as pd \n",
    "from scipy import stats\n",
    "import matplotlib.pyplot as plt\n",
    "import seaborn as sns\n",
    "import math\n",
    "import pickle\n",
    "import itertools\n",
    "import scipy\n",
    "from sklearn.linear_model import LinearRegression, Ridge, Lasso\n",
    "from sklearn.model_selection import train_test_split, cross_val_score \n",
    "from statistics import mean \n",
    "from sklearn.preprocessing import StandardScaler, power_transform, PolynomialFeatures\n",
    "from sklearn.preprocessing import power_transform\n",
    "from statsmodels.stats.outliers_influence import variance_inflation_factor\n",
    "from sklearn.feature_selection import RFE\n",
    "import statsmodels.api as sm\n",
    "%matplotlib inline"
   ]
  },
  {
   "cell_type": "markdown",
   "metadata": {},
   "source": [
    "We found our data set on Kaggle.  This reflects the variables in which we want to produce a model that will predict income by state and several variables in which we ultimately decided upon as we perform metrics which tell us which is relevant.  We imported our data into pandas DataFrame.  From here on out, I will use the present tense."
   ]
  },
  {
   "cell_type": "code",
   "execution_count": 2,
   "metadata": {},
   "outputs": [
    {
     "data": {
      "text/html": [
       "<div>\n",
       "<style scoped>\n",
       "    .dataframe tbody tr th:only-of-type {\n",
       "        vertical-align: middle;\n",
       "    }\n",
       "\n",
       "    .dataframe tbody tr th {\n",
       "        vertical-align: top;\n",
       "    }\n",
       "\n",
       "    .dataframe thead th {\n",
       "        text-align: right;\n",
       "    }\n",
       "</style>\n",
       "<table border=\"1\" class=\"dataframe\">\n",
       "  <thead>\n",
       "    <tr style=\"text-align: right;\">\n",
       "      <th></th>\n",
       "      <th>TractId</th>\n",
       "      <th>State</th>\n",
       "      <th>County</th>\n",
       "      <th>TotalPop</th>\n",
       "      <th>Men</th>\n",
       "      <th>Women</th>\n",
       "      <th>Hispanic</th>\n",
       "      <th>White</th>\n",
       "      <th>Black</th>\n",
       "      <th>Native</th>\n",
       "      <th>...</th>\n",
       "      <th>Walk</th>\n",
       "      <th>OtherTransp</th>\n",
       "      <th>WorkAtHome</th>\n",
       "      <th>MeanCommute</th>\n",
       "      <th>Employed</th>\n",
       "      <th>PrivateWork</th>\n",
       "      <th>PublicWork</th>\n",
       "      <th>SelfEmployed</th>\n",
       "      <th>FamilyWork</th>\n",
       "      <th>Unemployment</th>\n",
       "    </tr>\n",
       "  </thead>\n",
       "  <tbody>\n",
       "    <tr>\n",
       "      <td>0</td>\n",
       "      <td>1001020100</td>\n",
       "      <td>Alabama</td>\n",
       "      <td>Autauga County</td>\n",
       "      <td>1845</td>\n",
       "      <td>899</td>\n",
       "      <td>946</td>\n",
       "      <td>2.4</td>\n",
       "      <td>86.3</td>\n",
       "      <td>5.2</td>\n",
       "      <td>0.0</td>\n",
       "      <td>...</td>\n",
       "      <td>0.5</td>\n",
       "      <td>0.0</td>\n",
       "      <td>2.1</td>\n",
       "      <td>24.5</td>\n",
       "      <td>881</td>\n",
       "      <td>74.2</td>\n",
       "      <td>21.2</td>\n",
       "      <td>4.5</td>\n",
       "      <td>0.0</td>\n",
       "      <td>4.6</td>\n",
       "    </tr>\n",
       "    <tr>\n",
       "      <td>1</td>\n",
       "      <td>1001020200</td>\n",
       "      <td>Alabama</td>\n",
       "      <td>Autauga County</td>\n",
       "      <td>2172</td>\n",
       "      <td>1167</td>\n",
       "      <td>1005</td>\n",
       "      <td>1.1</td>\n",
       "      <td>41.6</td>\n",
       "      <td>54.5</td>\n",
       "      <td>0.0</td>\n",
       "      <td>...</td>\n",
       "      <td>0.0</td>\n",
       "      <td>0.5</td>\n",
       "      <td>0.0</td>\n",
       "      <td>22.2</td>\n",
       "      <td>852</td>\n",
       "      <td>75.9</td>\n",
       "      <td>15.0</td>\n",
       "      <td>9.0</td>\n",
       "      <td>0.0</td>\n",
       "      <td>3.4</td>\n",
       "    </tr>\n",
       "    <tr>\n",
       "      <td>2</td>\n",
       "      <td>1001020300</td>\n",
       "      <td>Alabama</td>\n",
       "      <td>Autauga County</td>\n",
       "      <td>3385</td>\n",
       "      <td>1533</td>\n",
       "      <td>1852</td>\n",
       "      <td>8.0</td>\n",
       "      <td>61.4</td>\n",
       "      <td>26.5</td>\n",
       "      <td>0.6</td>\n",
       "      <td>...</td>\n",
       "      <td>1.0</td>\n",
       "      <td>0.8</td>\n",
       "      <td>1.5</td>\n",
       "      <td>23.1</td>\n",
       "      <td>1482</td>\n",
       "      <td>73.3</td>\n",
       "      <td>21.1</td>\n",
       "      <td>4.8</td>\n",
       "      <td>0.7</td>\n",
       "      <td>4.7</td>\n",
       "    </tr>\n",
       "    <tr>\n",
       "      <td>3</td>\n",
       "      <td>1001020400</td>\n",
       "      <td>Alabama</td>\n",
       "      <td>Autauga County</td>\n",
       "      <td>4267</td>\n",
       "      <td>2001</td>\n",
       "      <td>2266</td>\n",
       "      <td>9.6</td>\n",
       "      <td>80.3</td>\n",
       "      <td>7.1</td>\n",
       "      <td>0.5</td>\n",
       "      <td>...</td>\n",
       "      <td>1.5</td>\n",
       "      <td>2.9</td>\n",
       "      <td>2.1</td>\n",
       "      <td>25.9</td>\n",
       "      <td>1849</td>\n",
       "      <td>75.8</td>\n",
       "      <td>19.7</td>\n",
       "      <td>4.5</td>\n",
       "      <td>0.0</td>\n",
       "      <td>6.1</td>\n",
       "    </tr>\n",
       "    <tr>\n",
       "      <td>4</td>\n",
       "      <td>1001020500</td>\n",
       "      <td>Alabama</td>\n",
       "      <td>Autauga County</td>\n",
       "      <td>9965</td>\n",
       "      <td>5054</td>\n",
       "      <td>4911</td>\n",
       "      <td>0.9</td>\n",
       "      <td>77.5</td>\n",
       "      <td>16.4</td>\n",
       "      <td>0.0</td>\n",
       "      <td>...</td>\n",
       "      <td>0.8</td>\n",
       "      <td>0.3</td>\n",
       "      <td>0.7</td>\n",
       "      <td>21.0</td>\n",
       "      <td>4787</td>\n",
       "      <td>71.4</td>\n",
       "      <td>24.1</td>\n",
       "      <td>4.5</td>\n",
       "      <td>0.0</td>\n",
       "      <td>2.3</td>\n",
       "    </tr>\n",
       "    <tr>\n",
       "      <td>...</td>\n",
       "      <td>...</td>\n",
       "      <td>...</td>\n",
       "      <td>...</td>\n",
       "      <td>...</td>\n",
       "      <td>...</td>\n",
       "      <td>...</td>\n",
       "      <td>...</td>\n",
       "      <td>...</td>\n",
       "      <td>...</td>\n",
       "      <td>...</td>\n",
       "      <td>...</td>\n",
       "      <td>...</td>\n",
       "      <td>...</td>\n",
       "      <td>...</td>\n",
       "      <td>...</td>\n",
       "      <td>...</td>\n",
       "      <td>...</td>\n",
       "      <td>...</td>\n",
       "      <td>...</td>\n",
       "      <td>...</td>\n",
       "      <td>...</td>\n",
       "    </tr>\n",
       "    <tr>\n",
       "      <td>73996</td>\n",
       "      <td>72153750501</td>\n",
       "      <td>Puerto Rico</td>\n",
       "      <td>Yauco Municipio</td>\n",
       "      <td>6011</td>\n",
       "      <td>3035</td>\n",
       "      <td>2976</td>\n",
       "      <td>99.7</td>\n",
       "      <td>0.3</td>\n",
       "      <td>0.0</td>\n",
       "      <td>0.0</td>\n",
       "      <td>...</td>\n",
       "      <td>0.5</td>\n",
       "      <td>0.0</td>\n",
       "      <td>3.6</td>\n",
       "      <td>26.9</td>\n",
       "      <td>1576</td>\n",
       "      <td>59.2</td>\n",
       "      <td>33.8</td>\n",
       "      <td>7.0</td>\n",
       "      <td>0.0</td>\n",
       "      <td>20.8</td>\n",
       "    </tr>\n",
       "    <tr>\n",
       "      <td>73997</td>\n",
       "      <td>72153750502</td>\n",
       "      <td>Puerto Rico</td>\n",
       "      <td>Yauco Municipio</td>\n",
       "      <td>2342</td>\n",
       "      <td>959</td>\n",
       "      <td>1383</td>\n",
       "      <td>99.1</td>\n",
       "      <td>0.9</td>\n",
       "      <td>0.0</td>\n",
       "      <td>0.0</td>\n",
       "      <td>...</td>\n",
       "      <td>0.0</td>\n",
       "      <td>0.0</td>\n",
       "      <td>1.3</td>\n",
       "      <td>25.3</td>\n",
       "      <td>666</td>\n",
       "      <td>58.4</td>\n",
       "      <td>35.4</td>\n",
       "      <td>6.2</td>\n",
       "      <td>0.0</td>\n",
       "      <td>26.3</td>\n",
       "    </tr>\n",
       "    <tr>\n",
       "      <td>73998</td>\n",
       "      <td>72153750503</td>\n",
       "      <td>Puerto Rico</td>\n",
       "      <td>Yauco Municipio</td>\n",
       "      <td>2218</td>\n",
       "      <td>1001</td>\n",
       "      <td>1217</td>\n",
       "      <td>99.5</td>\n",
       "      <td>0.2</td>\n",
       "      <td>0.0</td>\n",
       "      <td>0.0</td>\n",
       "      <td>...</td>\n",
       "      <td>3.4</td>\n",
       "      <td>0.0</td>\n",
       "      <td>3.4</td>\n",
       "      <td>23.5</td>\n",
       "      <td>560</td>\n",
       "      <td>57.5</td>\n",
       "      <td>34.5</td>\n",
       "      <td>8.0</td>\n",
       "      <td>0.0</td>\n",
       "      <td>23.0</td>\n",
       "    </tr>\n",
       "    <tr>\n",
       "      <td>73999</td>\n",
       "      <td>72153750601</td>\n",
       "      <td>Puerto Rico</td>\n",
       "      <td>Yauco Municipio</td>\n",
       "      <td>4380</td>\n",
       "      <td>1964</td>\n",
       "      <td>2416</td>\n",
       "      <td>100.0</td>\n",
       "      <td>0.0</td>\n",
       "      <td>0.0</td>\n",
       "      <td>0.0</td>\n",
       "      <td>...</td>\n",
       "      <td>0.0</td>\n",
       "      <td>0.0</td>\n",
       "      <td>0.0</td>\n",
       "      <td>24.1</td>\n",
       "      <td>1062</td>\n",
       "      <td>67.7</td>\n",
       "      <td>30.4</td>\n",
       "      <td>1.9</td>\n",
       "      <td>0.0</td>\n",
       "      <td>29.5</td>\n",
       "    </tr>\n",
       "    <tr>\n",
       "      <td>74000</td>\n",
       "      <td>72153750602</td>\n",
       "      <td>Puerto Rico</td>\n",
       "      <td>Yauco Municipio</td>\n",
       "      <td>3001</td>\n",
       "      <td>1343</td>\n",
       "      <td>1658</td>\n",
       "      <td>99.2</td>\n",
       "      <td>0.8</td>\n",
       "      <td>0.0</td>\n",
       "      <td>0.0</td>\n",
       "      <td>...</td>\n",
       "      <td>4.9</td>\n",
       "      <td>0.0</td>\n",
       "      <td>8.9</td>\n",
       "      <td>21.6</td>\n",
       "      <td>759</td>\n",
       "      <td>75.9</td>\n",
       "      <td>19.1</td>\n",
       "      <td>5.0</td>\n",
       "      <td>0.0</td>\n",
       "      <td>17.9</td>\n",
       "    </tr>\n",
       "  </tbody>\n",
       "</table>\n",
       "<p>74001 rows × 37 columns</p>\n",
       "</div>"
      ],
      "text/plain": [
       "           TractId        State           County  TotalPop   Men  Women  \\\n",
       "0       1001020100      Alabama   Autauga County      1845   899    946   \n",
       "1       1001020200      Alabama   Autauga County      2172  1167   1005   \n",
       "2       1001020300      Alabama   Autauga County      3385  1533   1852   \n",
       "3       1001020400      Alabama   Autauga County      4267  2001   2266   \n",
       "4       1001020500      Alabama   Autauga County      9965  5054   4911   \n",
       "...            ...          ...              ...       ...   ...    ...   \n",
       "73996  72153750501  Puerto Rico  Yauco Municipio      6011  3035   2976   \n",
       "73997  72153750502  Puerto Rico  Yauco Municipio      2342   959   1383   \n",
       "73998  72153750503  Puerto Rico  Yauco Municipio      2218  1001   1217   \n",
       "73999  72153750601  Puerto Rico  Yauco Municipio      4380  1964   2416   \n",
       "74000  72153750602  Puerto Rico  Yauco Municipio      3001  1343   1658   \n",
       "\n",
       "       Hispanic  White  Black  Native  ...  Walk  OtherTransp  WorkAtHome  \\\n",
       "0           2.4   86.3    5.2     0.0  ...   0.5          0.0         2.1   \n",
       "1           1.1   41.6   54.5     0.0  ...   0.0          0.5         0.0   \n",
       "2           8.0   61.4   26.5     0.6  ...   1.0          0.8         1.5   \n",
       "3           9.6   80.3    7.1     0.5  ...   1.5          2.9         2.1   \n",
       "4           0.9   77.5   16.4     0.0  ...   0.8          0.3         0.7   \n",
       "...         ...    ...    ...     ...  ...   ...          ...         ...   \n",
       "73996      99.7    0.3    0.0     0.0  ...   0.5          0.0         3.6   \n",
       "73997      99.1    0.9    0.0     0.0  ...   0.0          0.0         1.3   \n",
       "73998      99.5    0.2    0.0     0.0  ...   3.4          0.0         3.4   \n",
       "73999     100.0    0.0    0.0     0.0  ...   0.0          0.0         0.0   \n",
       "74000      99.2    0.8    0.0     0.0  ...   4.9          0.0         8.9   \n",
       "\n",
       "       MeanCommute  Employed  PrivateWork  PublicWork  SelfEmployed  \\\n",
       "0             24.5       881         74.2        21.2           4.5   \n",
       "1             22.2       852         75.9        15.0           9.0   \n",
       "2             23.1      1482         73.3        21.1           4.8   \n",
       "3             25.9      1849         75.8        19.7           4.5   \n",
       "4             21.0      4787         71.4        24.1           4.5   \n",
       "...            ...       ...          ...         ...           ...   \n",
       "73996         26.9      1576         59.2        33.8           7.0   \n",
       "73997         25.3       666         58.4        35.4           6.2   \n",
       "73998         23.5       560         57.5        34.5           8.0   \n",
       "73999         24.1      1062         67.7        30.4           1.9   \n",
       "74000         21.6       759         75.9        19.1           5.0   \n",
       "\n",
       "       FamilyWork  Unemployment  \n",
       "0             0.0           4.6  \n",
       "1             0.0           3.4  \n",
       "2             0.7           4.7  \n",
       "3             0.0           6.1  \n",
       "4             0.0           2.3  \n",
       "...           ...           ...  \n",
       "73996         0.0          20.8  \n",
       "73997         0.0          26.3  \n",
       "73998         0.0          23.0  \n",
       "73999         0.0          29.5  \n",
       "74000         0.0          17.9  \n",
       "\n",
       "[74001 rows x 37 columns]"
      ]
     },
     "execution_count": 2,
     "metadata": {},
     "output_type": "execute_result"
    }
   ],
   "source": [
    "df = pd.read_csv('acs2017_census_tract_data.csv')\n",
    "df"
   ]
  },
  {
   "cell_type": "markdown",
   "metadata": {},
   "source": [
    "We start to analyze our data set.  Here we wish to see if our set includes all of the states.  The original data set has 74,001 rows and 37 columns.  It is here that we can also see the spread of the columns."
   ]
  },
  {
   "cell_type": "code",
   "execution_count": 3,
   "metadata": {},
   "outputs": [
    {
     "name": "stdout",
     "output_type": "stream",
     "text": [
      "<class 'pandas.core.frame.DataFrame'>\n",
      "RangeIndex: 74001 entries, 0 to 74000\n",
      "Data columns (total 37 columns):\n",
      "TractId             74001 non-null int64\n",
      "State               74001 non-null object\n",
      "County              74001 non-null object\n",
      "TotalPop            74001 non-null int64\n",
      "Men                 74001 non-null int64\n",
      "Women               74001 non-null int64\n",
      "Hispanic            73305 non-null float64\n",
      "White               73305 non-null float64\n",
      "Black               73305 non-null float64\n",
      "Native              73305 non-null float64\n",
      "Asian               73305 non-null float64\n",
      "Pacific             73305 non-null float64\n",
      "VotingAgeCitizen    74001 non-null int64\n",
      "Income              72885 non-null float64\n",
      "IncomeErr           72885 non-null float64\n",
      "IncomePerCap        73256 non-null float64\n",
      "IncomePerCapErr     73256 non-null float64\n",
      "Poverty             73159 non-null float64\n",
      "ChildPoverty        72891 non-null float64\n",
      "Professional        73190 non-null float64\n",
      "Service             73190 non-null float64\n",
      "Office              73190 non-null float64\n",
      "Construction        73190 non-null float64\n",
      "Production          73190 non-null float64\n",
      "Drive               73200 non-null float64\n",
      "Carpool             73200 non-null float64\n",
      "Transit             73200 non-null float64\n",
      "Walk                73200 non-null float64\n",
      "OtherTransp         73200 non-null float64\n",
      "WorkAtHome          73200 non-null float64\n",
      "MeanCommute         73055 non-null float64\n",
      "Employed            74001 non-null int64\n",
      "PrivateWork         73190 non-null float64\n",
      "PublicWork          73190 non-null float64\n",
      "SelfEmployed        73190 non-null float64\n",
      "FamilyWork          73190 non-null float64\n",
      "Unemployment        73191 non-null float64\n",
      "dtypes: float64(29), int64(6), object(2)\n",
      "memory usage: 20.9+ MB\n"
     ]
    }
   ],
   "source": [
    "df.info()"
   ]
  },
  {
   "cell_type": "markdown",
   "metadata": {},
   "source": [
    "It is imperative that we see a true representation of all states in the Union since we are predicting salary by each state."
   ]
  },
  {
   "cell_type": "code",
   "execution_count": 4,
   "metadata": {},
   "outputs": [
    {
     "data": {
      "text/plain": [
       "array(['Alabama', 'Alaska', 'Arizona', 'Arkansas', 'California',\n",
       "       'Colorado', 'Connecticut', 'Delaware', 'District of Columbia',\n",
       "       'Florida', 'Georgia', 'Hawaii', 'Idaho', 'Illinois', 'Indiana',\n",
       "       'Iowa', 'Kansas', 'Kentucky', 'Louisiana', 'Maine', 'Maryland',\n",
       "       'Massachusetts', 'Michigan', 'Minnesota', 'Mississippi',\n",
       "       'Missouri', 'Montana', 'Nebraska', 'Nevada', 'New Hampshire',\n",
       "       'New Jersey', 'New Mexico', 'New York', 'North Carolina',\n",
       "       'North Dakota', 'Ohio', 'Oklahoma', 'Oregon', 'Pennsylvania',\n",
       "       'Rhode Island', 'South Carolina', 'South Dakota', 'Tennessee',\n",
       "       'Texas', 'Utah', 'Vermont', 'Virginia', 'Washington',\n",
       "       'West Virginia', 'Wisconsin', 'Wyoming', 'Puerto Rico'],\n",
       "      dtype=object)"
      ]
     },
     "execution_count": 4,
     "metadata": {},
     "output_type": "execute_result"
    }
   ],
   "source": [
    "df.State.unique()"
   ]
  },
  {
   "cell_type": "markdown",
   "metadata": {},
   "source": [
    "We now check for null values in our data set."
   ]
  },
  {
   "cell_type": "code",
   "execution_count": 5,
   "metadata": {},
   "outputs": [
    {
     "data": {
      "text/plain": [
       "TractId                0\n",
       "State                  0\n",
       "County                 0\n",
       "TotalPop               0\n",
       "Men                    0\n",
       "Women                  0\n",
       "Hispanic             696\n",
       "White                696\n",
       "Black                696\n",
       "Native               696\n",
       "Asian                696\n",
       "Pacific              696\n",
       "VotingAgeCitizen       0\n",
       "Income              1116\n",
       "IncomeErr           1116\n",
       "IncomePerCap         745\n",
       "IncomePerCapErr      745\n",
       "Poverty              842\n",
       "ChildPoverty        1110\n",
       "Professional         811\n",
       "Service              811\n",
       "Office               811\n",
       "Construction         811\n",
       "Production           811\n",
       "Drive                801\n",
       "Carpool              801\n",
       "Transit              801\n",
       "Walk                 801\n",
       "OtherTransp          801\n",
       "WorkAtHome           801\n",
       "MeanCommute          946\n",
       "Employed               0\n",
       "PrivateWork          811\n",
       "PublicWork           811\n",
       "SelfEmployed         811\n",
       "FamilyWork           811\n",
       "Unemployment         810\n",
       "dtype: int64"
      ]
     },
     "execution_count": 5,
     "metadata": {},
     "output_type": "execute_result"
    }
   ],
   "source": [
    "df.isnull().sum()"
   ]
  },
  {
   "cell_type": "markdown",
   "metadata": {},
   "source": [
    "We see that we have many columns with null values.  Being that we have a data set with over 74,000 rows, we decided to drop all of the rows containing null values."
   ]
  },
  {
   "cell_type": "code",
   "execution_count": 6,
   "metadata": {},
   "outputs": [],
   "source": [
    "df = df[df['Income'].notna()]\n",
    "df = df[df['ChildPoverty'].notna()]\n",
    "df = df[df['MeanCommute'].notna()]"
   ]
  },
  {
   "cell_type": "markdown",
   "metadata": {},
   "source": [
    "We then check to see if our data cleaned properly."
   ]
  },
  {
   "cell_type": "code",
   "execution_count": 8,
   "metadata": {},
   "outputs": [
    {
     "data": {
      "text/plain": [
       "TractId             0\n",
       "State               0\n",
       "County              0\n",
       "TotalPop            0\n",
       "Men                 0\n",
       "Women               0\n",
       "Hispanic            0\n",
       "White               0\n",
       "Black               0\n",
       "Native              0\n",
       "Asian               0\n",
       "Pacific             0\n",
       "VotingAgeCitizen    0\n",
       "Income              0\n",
       "IncomeErr           0\n",
       "IncomePerCap        0\n",
       "IncomePerCapErr     0\n",
       "Poverty             0\n",
       "ChildPoverty        0\n",
       "Professional        0\n",
       "Service             0\n",
       "Office              0\n",
       "Construction        0\n",
       "Production          0\n",
       "Drive               0\n",
       "Carpool             0\n",
       "Transit             0\n",
       "Walk                0\n",
       "OtherTransp         0\n",
       "WorkAtHome          0\n",
       "MeanCommute         0\n",
       "Employed            0\n",
       "PrivateWork         0\n",
       "PublicWork          0\n",
       "SelfEmployed        0\n",
       "FamilyWork          0\n",
       "Unemployment        0\n",
       "dtype: int64"
      ]
     },
     "execution_count": 8,
     "metadata": {},
     "output_type": "execute_result"
    }
   ],
   "source": [
    "df.isnull().sum()"
   ]
  },
  {
   "cell_type": "markdown",
   "metadata": {},
   "source": [
    "We now must decide what to do with our outliers.  We must do this so that when we design our model, it will show positive linear relationships.  We decided to use just one feature, df1['Office] to cleanse our data of outliers."
   ]
  },
  {
   "cell_type": "code",
   "execution_count": 10,
   "metadata": {},
   "outputs": [],
   "source": [
    "x_cols = df.columns.tolist()"
   ]
  },
  {
   "cell_type": "code",
   "execution_count": 11,
   "metadata": {},
   "outputs": [
    {
     "data": {
      "text/plain": [
       "['State',\n",
       " 'County',\n",
       " 'TotalPop',\n",
       " 'Men',\n",
       " 'Women',\n",
       " 'Hispanic',\n",
       " 'White',\n",
       " 'Black',\n",
       " 'Native',\n",
       " 'Asian',\n",
       " 'Pacific',\n",
       " 'VotingAgeCitizen',\n",
       " 'Income',\n",
       " 'IncomeErr',\n",
       " 'IncomePerCap',\n",
       " 'IncomePerCapErr',\n",
       " 'Poverty',\n",
       " 'ChildPoverty',\n",
       " 'Professional',\n",
       " 'Service',\n",
       " 'Office',\n",
       " 'Construction',\n",
       " 'Production',\n",
       " 'Drive',\n",
       " 'Carpool',\n",
       " 'Transit',\n",
       " 'Walk',\n",
       " 'OtherTransp',\n",
       " 'WorkAtHome',\n",
       " 'MeanCommute',\n",
       " 'Employed',\n",
       " 'PrivateWork',\n",
       " 'PublicWork',\n",
       " 'SelfEmployed',\n",
       " 'FamilyWork',\n",
       " 'Unemployment']"
      ]
     },
     "execution_count": 11,
     "metadata": {},
     "output_type": "execute_result"
    }
   ],
   "source": [
    "del x_cols[0]\n",
    "x_cols"
   ]
  },
  {
   "cell_type": "code",
   "execution_count": 12,
   "metadata": {},
   "outputs": [
    {
     "ename": "NameError",
     "evalue": "name 'df1' is not defined",
     "output_type": "error",
     "traceback": [
      "\u001b[0;31m---------------------------------------------------------------------------\u001b[0m",
      "\u001b[0;31mNameError\u001b[0m                                 Traceback (most recent call last)",
      "\u001b[0;32m<ipython-input-12-d1db573d589c>\u001b[0m in \u001b[0;36m<module>\u001b[0;34m\u001b[0m\n\u001b[0;32m----> 1\u001b[0;31m \u001b[0mdf1\u001b[0m\u001b[0;34m.\u001b[0m\u001b[0mduplicated\u001b[0m\u001b[0;34m(\u001b[0m\u001b[0;34m)\u001b[0m\u001b[0;34m.\u001b[0m\u001b[0msum\u001b[0m\u001b[0;34m(\u001b[0m\u001b[0;34m)\u001b[0m\u001b[0;34m\u001b[0m\u001b[0;34m\u001b[0m\u001b[0m\n\u001b[0m",
      "\u001b[0;31mNameError\u001b[0m: name 'df1' is not defined"
     ]
    }
   ],
   "source": [
    "df1.duplicated().sum()"
   ]
  },
  {
   "cell_type": "code",
   "execution_count": 34,
   "metadata": {},
   "outputs": [
    {
     "data": {
      "text/html": [
       "<div>\n",
       "<style scoped>\n",
       "    .dataframe tbody tr th:only-of-type {\n",
       "        vertical-align: middle;\n",
       "    }\n",
       "\n",
       "    .dataframe tbody tr th {\n",
       "        vertical-align: top;\n",
       "    }\n",
       "\n",
       "    .dataframe thead th {\n",
       "        text-align: right;\n",
       "    }\n",
       "</style>\n",
       "<table border=\"1\" class=\"dataframe\">\n",
       "  <thead>\n",
       "    <tr style=\"text-align: right;\">\n",
       "      <th></th>\n",
       "      <th>IncomePerCap</th>\n",
       "      <th>Poverty</th>\n",
       "      <th>ChildPoverty</th>\n",
       "      <th>Professional</th>\n",
       "      <th>Service</th>\n",
       "      <th>Construction</th>\n",
       "      <th>Office</th>\n",
       "      <th>Production</th>\n",
       "    </tr>\n",
       "  </thead>\n",
       "  <tbody>\n",
       "    <tr>\n",
       "      <td>0</td>\n",
       "      <td>33018.0</td>\n",
       "      <td>10.7</td>\n",
       "      <td>20.8</td>\n",
       "      <td>38.5</td>\n",
       "      <td>15.6</td>\n",
       "      <td>10.8</td>\n",
       "      <td>22.8</td>\n",
       "      <td>12.4</td>\n",
       "    </tr>\n",
       "    <tr>\n",
       "      <td>1</td>\n",
       "      <td>18996.0</td>\n",
       "      <td>22.4</td>\n",
       "      <td>35.8</td>\n",
       "      <td>30.5</td>\n",
       "      <td>24.9</td>\n",
       "      <td>6.3</td>\n",
       "      <td>22.9</td>\n",
       "      <td>15.4</td>\n",
       "    </tr>\n",
       "    <tr>\n",
       "      <td>2</td>\n",
       "      <td>21236.0</td>\n",
       "      <td>14.7</td>\n",
       "      <td>21.1</td>\n",
       "      <td>27.9</td>\n",
       "      <td>19.4</td>\n",
       "      <td>9.9</td>\n",
       "      <td>33.3</td>\n",
       "      <td>9.6</td>\n",
       "    </tr>\n",
       "    <tr>\n",
       "      <td>3</td>\n",
       "      <td>28068.0</td>\n",
       "      <td>2.3</td>\n",
       "      <td>1.7</td>\n",
       "      <td>29.0</td>\n",
       "      <td>16.6</td>\n",
       "      <td>9.1</td>\n",
       "      <td>25.8</td>\n",
       "      <td>19.5</td>\n",
       "    </tr>\n",
       "    <tr>\n",
       "      <td>4</td>\n",
       "      <td>36905.0</td>\n",
       "      <td>12.2</td>\n",
       "      <td>17.9</td>\n",
       "      <td>48.8</td>\n",
       "      <td>13.8</td>\n",
       "      <td>3.5</td>\n",
       "      <td>20.5</td>\n",
       "      <td>13.4</td>\n",
       "    </tr>\n",
       "    <tr>\n",
       "      <td>...</td>\n",
       "      <td>...</td>\n",
       "      <td>...</td>\n",
       "      <td>...</td>\n",
       "      <td>...</td>\n",
       "      <td>...</td>\n",
       "      <td>...</td>\n",
       "      <td>...</td>\n",
       "      <td>...</td>\n",
       "    </tr>\n",
       "    <tr>\n",
       "      <td>73996</td>\n",
       "      <td>8643.0</td>\n",
       "      <td>39.4</td>\n",
       "      <td>61.8</td>\n",
       "      <td>42.2</td>\n",
       "      <td>25.3</td>\n",
       "      <td>7.7</td>\n",
       "      <td>18.0</td>\n",
       "      <td>6.9</td>\n",
       "    </tr>\n",
       "    <tr>\n",
       "      <td>73997</td>\n",
       "      <td>11109.0</td>\n",
       "      <td>35.5</td>\n",
       "      <td>39.9</td>\n",
       "      <td>34.4</td>\n",
       "      <td>13.4</td>\n",
       "      <td>12.3</td>\n",
       "      <td>23.1</td>\n",
       "      <td>16.8</td>\n",
       "    </tr>\n",
       "    <tr>\n",
       "      <td>73998</td>\n",
       "      <td>9603.0</td>\n",
       "      <td>52.8</td>\n",
       "      <td>77.2</td>\n",
       "      <td>29.3</td>\n",
       "      <td>23.6</td>\n",
       "      <td>4.6</td>\n",
       "      <td>32.9</td>\n",
       "      <td>9.6</td>\n",
       "    </tr>\n",
       "    <tr>\n",
       "      <td>73999</td>\n",
       "      <td>8331.0</td>\n",
       "      <td>50.1</td>\n",
       "      <td>58.0</td>\n",
       "      <td>29.8</td>\n",
       "      <td>20.6</td>\n",
       "      <td>13.9</td>\n",
       "      <td>28.8</td>\n",
       "      <td>6.9</td>\n",
       "    </tr>\n",
       "    <tr>\n",
       "      <td>74000</td>\n",
       "      <td>6251.0</td>\n",
       "      <td>69.4</td>\n",
       "      <td>72.2</td>\n",
       "      <td>12.4</td>\n",
       "      <td>23.8</td>\n",
       "      <td>17.8</td>\n",
       "      <td>19.1</td>\n",
       "      <td>26.9</td>\n",
       "    </tr>\n",
       "  </tbody>\n",
       "</table>\n",
       "<p>72718 rows × 8 columns</p>\n",
       "</div>"
      ],
      "text/plain": [
       "       IncomePerCap  Poverty  ChildPoverty  Professional  Service  \\\n",
       "0           33018.0     10.7          20.8          38.5     15.6   \n",
       "1           18996.0     22.4          35.8          30.5     24.9   \n",
       "2           21236.0     14.7          21.1          27.9     19.4   \n",
       "3           28068.0      2.3           1.7          29.0     16.6   \n",
       "4           36905.0     12.2          17.9          48.8     13.8   \n",
       "...             ...      ...           ...           ...      ...   \n",
       "73996        8643.0     39.4          61.8          42.2     25.3   \n",
       "73997       11109.0     35.5          39.9          34.4     13.4   \n",
       "73998        9603.0     52.8          77.2          29.3     23.6   \n",
       "73999        8331.0     50.1          58.0          29.8     20.6   \n",
       "74000        6251.0     69.4          72.2          12.4     23.8   \n",
       "\n",
       "       Construction  Office  Production  \n",
       "0              10.8    22.8        12.4  \n",
       "1               6.3    22.9        15.4  \n",
       "2               9.9    33.3         9.6  \n",
       "3               9.1    25.8        19.5  \n",
       "4               3.5    20.5        13.4  \n",
       "...             ...     ...         ...  \n",
       "73996           7.7    18.0         6.9  \n",
       "73997          12.3    23.1        16.8  \n",
       "73998           4.6    32.9         9.6  \n",
       "73999          13.9    28.8         6.9  \n",
       "74000          17.8    19.1        26.9  \n",
       "\n",
       "[72718 rows x 8 columns]"
      ]
     },
     "execution_count": 34,
     "metadata": {},
     "output_type": "execute_result"
    }
   ],
   "source": [
    "df1 = df[['IncomePerCap',\n",
    "       'Poverty',\n",
    "       'ChildPoverty', 'Professional', 'Service','Construction', 'Office', \n",
    "       'Production']]\n",
    "df1"
   ]
  },
  {
   "cell_type": "code",
   "execution_count": 35,
   "metadata": {},
   "outputs": [
    {
     "data": {
      "text/html": [
       "<div>\n",
       "<style scoped>\n",
       "    .dataframe tbody tr th:only-of-type {\n",
       "        vertical-align: middle;\n",
       "    }\n",
       "\n",
       "    .dataframe tbody tr th {\n",
       "        vertical-align: top;\n",
       "    }\n",
       "\n",
       "    .dataframe thead th {\n",
       "        text-align: right;\n",
       "    }\n",
       "</style>\n",
       "<table border=\"1\" class=\"dataframe\">\n",
       "  <thead>\n",
       "    <tr style=\"text-align: right;\">\n",
       "      <th></th>\n",
       "      <th>IncomePerCap</th>\n",
       "      <th>Poverty</th>\n",
       "      <th>ChildPoverty</th>\n",
       "      <th>Professional</th>\n",
       "      <th>Service</th>\n",
       "      <th>Construction</th>\n",
       "      <th>Office</th>\n",
       "      <th>Production</th>\n",
       "    </tr>\n",
       "  </thead>\n",
       "  <tbody>\n",
       "    <tr>\n",
       "      <td>0</td>\n",
       "      <td>33018.0</td>\n",
       "      <td>10.7</td>\n",
       "      <td>20.8</td>\n",
       "      <td>38.5</td>\n",
       "      <td>15.6</td>\n",
       "      <td>10.8</td>\n",
       "      <td>22.8</td>\n",
       "      <td>12.4</td>\n",
       "    </tr>\n",
       "    <tr>\n",
       "      <td>1</td>\n",
       "      <td>18996.0</td>\n",
       "      <td>22.4</td>\n",
       "      <td>35.8</td>\n",
       "      <td>30.5</td>\n",
       "      <td>24.9</td>\n",
       "      <td>6.3</td>\n",
       "      <td>22.9</td>\n",
       "      <td>15.4</td>\n",
       "    </tr>\n",
       "    <tr>\n",
       "      <td>2</td>\n",
       "      <td>21236.0</td>\n",
       "      <td>14.7</td>\n",
       "      <td>21.1</td>\n",
       "      <td>27.9</td>\n",
       "      <td>19.4</td>\n",
       "      <td>9.9</td>\n",
       "      <td>33.3</td>\n",
       "      <td>9.6</td>\n",
       "    </tr>\n",
       "    <tr>\n",
       "      <td>3</td>\n",
       "      <td>28068.0</td>\n",
       "      <td>2.3</td>\n",
       "      <td>1.7</td>\n",
       "      <td>29.0</td>\n",
       "      <td>16.6</td>\n",
       "      <td>9.1</td>\n",
       "      <td>25.8</td>\n",
       "      <td>19.5</td>\n",
       "    </tr>\n",
       "    <tr>\n",
       "      <td>4</td>\n",
       "      <td>36905.0</td>\n",
       "      <td>12.2</td>\n",
       "      <td>17.9</td>\n",
       "      <td>48.8</td>\n",
       "      <td>13.8</td>\n",
       "      <td>3.5</td>\n",
       "      <td>20.5</td>\n",
       "      <td>13.4</td>\n",
       "    </tr>\n",
       "    <tr>\n",
       "      <td>...</td>\n",
       "      <td>...</td>\n",
       "      <td>...</td>\n",
       "      <td>...</td>\n",
       "      <td>...</td>\n",
       "      <td>...</td>\n",
       "      <td>...</td>\n",
       "      <td>...</td>\n",
       "      <td>...</td>\n",
       "    </tr>\n",
       "    <tr>\n",
       "      <td>73996</td>\n",
       "      <td>8643.0</td>\n",
       "      <td>39.4</td>\n",
       "      <td>61.8</td>\n",
       "      <td>42.2</td>\n",
       "      <td>25.3</td>\n",
       "      <td>7.7</td>\n",
       "      <td>18.0</td>\n",
       "      <td>6.9</td>\n",
       "    </tr>\n",
       "    <tr>\n",
       "      <td>73997</td>\n",
       "      <td>11109.0</td>\n",
       "      <td>35.5</td>\n",
       "      <td>39.9</td>\n",
       "      <td>34.4</td>\n",
       "      <td>13.4</td>\n",
       "      <td>12.3</td>\n",
       "      <td>23.1</td>\n",
       "      <td>16.8</td>\n",
       "    </tr>\n",
       "    <tr>\n",
       "      <td>73998</td>\n",
       "      <td>9603.0</td>\n",
       "      <td>52.8</td>\n",
       "      <td>77.2</td>\n",
       "      <td>29.3</td>\n",
       "      <td>23.6</td>\n",
       "      <td>4.6</td>\n",
       "      <td>32.9</td>\n",
       "      <td>9.6</td>\n",
       "    </tr>\n",
       "    <tr>\n",
       "      <td>73999</td>\n",
       "      <td>8331.0</td>\n",
       "      <td>50.1</td>\n",
       "      <td>58.0</td>\n",
       "      <td>29.8</td>\n",
       "      <td>20.6</td>\n",
       "      <td>13.9</td>\n",
       "      <td>28.8</td>\n",
       "      <td>6.9</td>\n",
       "    </tr>\n",
       "    <tr>\n",
       "      <td>74000</td>\n",
       "      <td>6251.0</td>\n",
       "      <td>69.4</td>\n",
       "      <td>72.2</td>\n",
       "      <td>12.4</td>\n",
       "      <td>23.8</td>\n",
       "      <td>17.8</td>\n",
       "      <td>19.1</td>\n",
       "      <td>26.9</td>\n",
       "    </tr>\n",
       "  </tbody>\n",
       "</table>\n",
       "<p>72718 rows × 8 columns</p>\n",
       "</div>"
      ],
      "text/plain": [
       "       IncomePerCap  Poverty  ChildPoverty  Professional  Service  \\\n",
       "0           33018.0     10.7          20.8          38.5     15.6   \n",
       "1           18996.0     22.4          35.8          30.5     24.9   \n",
       "2           21236.0     14.7          21.1          27.9     19.4   \n",
       "3           28068.0      2.3           1.7          29.0     16.6   \n",
       "4           36905.0     12.2          17.9          48.8     13.8   \n",
       "...             ...      ...           ...           ...      ...   \n",
       "73996        8643.0     39.4          61.8          42.2     25.3   \n",
       "73997       11109.0     35.5          39.9          34.4     13.4   \n",
       "73998        9603.0     52.8          77.2          29.3     23.6   \n",
       "73999        8331.0     50.1          58.0          29.8     20.6   \n",
       "74000        6251.0     69.4          72.2          12.4     23.8   \n",
       "\n",
       "       Construction  Office  Production  \n",
       "0              10.8    22.8        12.4  \n",
       "1               6.3    22.9        15.4  \n",
       "2               9.9    33.3         9.6  \n",
       "3               9.1    25.8        19.5  \n",
       "4               3.5    20.5        13.4  \n",
       "...             ...     ...         ...  \n",
       "73996           7.7    18.0         6.9  \n",
       "73997          12.3    23.1        16.8  \n",
       "73998           4.6    32.9         9.6  \n",
       "73999          13.9    28.8         6.9  \n",
       "74000          17.8    19.1        26.9  \n",
       "\n",
       "[72718 rows x 8 columns]"
      ]
     },
     "execution_count": 35,
     "metadata": {},
     "output_type": "execute_result"
    }
   ],
   "source": [
    "df1"
   ]
  },
  {
   "cell_type": "code",
   "execution_count": 18,
   "metadata": {},
   "outputs": [
    {
     "data": {
      "text/plain": [
       "Poverty         0\n",
       "ChildPoverty    0\n",
       "Professional    0\n",
       "Service         0\n",
       "Construction    0\n",
       "Office          0\n",
       "Production      0\n",
       "dtype: int64"
      ]
     },
     "execution_count": 18,
     "metadata": {},
     "output_type": "execute_result"
    }
   ],
   "source": [
    "df1.isnull().sum()"
   ]
  },
  {
   "cell_type": "code",
   "execution_count": 19,
   "metadata": {},
   "outputs": [
    {
     "data": {
      "text/plain": [
       "TractId             2.063222e+15\n",
       "TotalPop            3.231214e+08\n",
       "Men                 1.588425e+08\n",
       "Women               1.642789e+08\n",
       "Hispanic            1.256782e+06\n",
       "White               4.460314e+06\n",
       "Black               9.638347e+05\n",
       "Native              5.292240e+04\n",
       "Asian               3.455893e+05\n",
       "Pacific             1.062280e+04\n",
       "VotingAgeCitizen    2.284190e+08\n",
       "Income              4.444524e+09\n",
       "IncomeErr           7.046611e+08\n",
       "IncomePerCap        2.230018e+09\n",
       "IncomePerCapErr     3.090316e+08\n",
       "Poverty             1.166886e+06\n",
       "ChildPoverty        1.537875e+06\n",
       "Professional        2.585402e+06\n",
       "Service             1.370585e+06\n",
       "Office              1.702559e+06\n",
       "Construction        6.735900e+05\n",
       "Production          9.396847e+05\n",
       "Drive               5.517902e+06\n",
       "Carpool             6.780631e+05\n",
       "Transit             3.905382e+05\n",
       "Walk                2.127567e+05\n",
       "OtherTransp         1.371517e+05\n",
       "WorkAtHome          3.354224e+05\n",
       "MeanCommute         1.896510e+06\n",
       "Employed            1.513486e+08\n",
       "PrivateWork         5.781941e+06\n",
       "PublicWork          1.028923e+06\n",
       "SelfEmployed        4.485000e+05\n",
       "FamilyWork          1.245160e+04\n",
       "Unemployment        5.253815e+05\n",
       "dtype: float64"
      ]
     },
     "execution_count": 19,
     "metadata": {},
     "output_type": "execute_result"
    }
   ],
   "source": [
    "df2 = df.groupby([\"State\"]).sum().head(85)\n",
    "df2.sort_values(by = 'IncomePerCap').sum()"
   ]
  },
  {
   "cell_type": "code",
   "execution_count": 20,
   "metadata": {},
   "outputs": [],
   "source": [
    "\n",
    "pd.set_option('display.max_rows', 100)\n",
    "pd.set_option('display.max_columns', 50)\n",
    "pd.set_option('display.width', 100)\n"
   ]
  },
  {
   "cell_type": "code",
   "execution_count": 15,
   "metadata": {},
   "outputs": [
    {
     "ename": "KeyError",
     "evalue": "'IncomePerCap'",
     "output_type": "error",
     "traceback": [
      "\u001b[0;31m---------------------------------------------------------------------------\u001b[0m",
      "\u001b[0;31mKeyError\u001b[0m                                  Traceback (most recent call last)",
      "\u001b[0;32m/opt/anaconda3/envs/learn-env/lib/python3.6/site-packages/pandas/core/indexes/base.py\u001b[0m in \u001b[0;36mget_loc\u001b[0;34m(self, key, method, tolerance)\u001b[0m\n\u001b[1;32m   2896\u001b[0m             \u001b[0;32mtry\u001b[0m\u001b[0;34m:\u001b[0m\u001b[0;34m\u001b[0m\u001b[0;34m\u001b[0m\u001b[0m\n\u001b[0;32m-> 2897\u001b[0;31m                 \u001b[0;32mreturn\u001b[0m \u001b[0mself\u001b[0m\u001b[0;34m.\u001b[0m\u001b[0m_engine\u001b[0m\u001b[0;34m.\u001b[0m\u001b[0mget_loc\u001b[0m\u001b[0;34m(\u001b[0m\u001b[0mkey\u001b[0m\u001b[0;34m)\u001b[0m\u001b[0;34m\u001b[0m\u001b[0;34m\u001b[0m\u001b[0m\n\u001b[0m\u001b[1;32m   2898\u001b[0m             \u001b[0;32mexcept\u001b[0m \u001b[0mKeyError\u001b[0m\u001b[0;34m:\u001b[0m\u001b[0;34m\u001b[0m\u001b[0;34m\u001b[0m\u001b[0m\n",
      "\u001b[0;32mpandas/_libs/index.pyx\u001b[0m in \u001b[0;36mpandas._libs.index.IndexEngine.get_loc\u001b[0;34m()\u001b[0m\n",
      "\u001b[0;32mpandas/_libs/index.pyx\u001b[0m in \u001b[0;36mpandas._libs.index.IndexEngine.get_loc\u001b[0;34m()\u001b[0m\n",
      "\u001b[0;32mpandas/_libs/hashtable_class_helper.pxi\u001b[0m in \u001b[0;36mpandas._libs.hashtable.PyObjectHashTable.get_item\u001b[0;34m()\u001b[0m\n",
      "\u001b[0;32mpandas/_libs/hashtable_class_helper.pxi\u001b[0m in \u001b[0;36mpandas._libs.hashtable.PyObjectHashTable.get_item\u001b[0;34m()\u001b[0m\n",
      "\u001b[0;31mKeyError\u001b[0m: 'IncomePerCap'",
      "\nDuring handling of the above exception, another exception occurred:\n",
      "\u001b[0;31mKeyError\u001b[0m                                  Traceback (most recent call last)",
      "\u001b[0;32m<ipython-input-15-c125ded01976>\u001b[0m in \u001b[0;36m<module>\u001b[0;34m\u001b[0m\n\u001b[0;32m----> 1\u001b[0;31m \u001b[0mdf1\u001b[0m\u001b[0;34m[\u001b[0m\u001b[0;34m'IncomePerCap'\u001b[0m\u001b[0;34m]\u001b[0m\u001b[0;34m.\u001b[0m\u001b[0mvalue_counts\u001b[0m\u001b[0;34m(\u001b[0m\u001b[0;34m)\u001b[0m\u001b[0;34m\u001b[0m\u001b[0;34m\u001b[0m\u001b[0m\n\u001b[0m",
      "\u001b[0;32m/opt/anaconda3/envs/learn-env/lib/python3.6/site-packages/pandas/core/frame.py\u001b[0m in \u001b[0;36m__getitem__\u001b[0;34m(self, key)\u001b[0m\n\u001b[1;32m   2978\u001b[0m             \u001b[0;32mif\u001b[0m \u001b[0mself\u001b[0m\u001b[0;34m.\u001b[0m\u001b[0mcolumns\u001b[0m\u001b[0;34m.\u001b[0m\u001b[0mnlevels\u001b[0m \u001b[0;34m>\u001b[0m \u001b[0;36m1\u001b[0m\u001b[0;34m:\u001b[0m\u001b[0;34m\u001b[0m\u001b[0;34m\u001b[0m\u001b[0m\n\u001b[1;32m   2979\u001b[0m                 \u001b[0;32mreturn\u001b[0m \u001b[0mself\u001b[0m\u001b[0;34m.\u001b[0m\u001b[0m_getitem_multilevel\u001b[0m\u001b[0;34m(\u001b[0m\u001b[0mkey\u001b[0m\u001b[0;34m)\u001b[0m\u001b[0;34m\u001b[0m\u001b[0;34m\u001b[0m\u001b[0m\n\u001b[0;32m-> 2980\u001b[0;31m             \u001b[0mindexer\u001b[0m \u001b[0;34m=\u001b[0m \u001b[0mself\u001b[0m\u001b[0;34m.\u001b[0m\u001b[0mcolumns\u001b[0m\u001b[0;34m.\u001b[0m\u001b[0mget_loc\u001b[0m\u001b[0;34m(\u001b[0m\u001b[0mkey\u001b[0m\u001b[0;34m)\u001b[0m\u001b[0;34m\u001b[0m\u001b[0;34m\u001b[0m\u001b[0m\n\u001b[0m\u001b[1;32m   2981\u001b[0m             \u001b[0;32mif\u001b[0m \u001b[0mis_integer\u001b[0m\u001b[0;34m(\u001b[0m\u001b[0mindexer\u001b[0m\u001b[0;34m)\u001b[0m\u001b[0;34m:\u001b[0m\u001b[0;34m\u001b[0m\u001b[0;34m\u001b[0m\u001b[0m\n\u001b[1;32m   2982\u001b[0m                 \u001b[0mindexer\u001b[0m \u001b[0;34m=\u001b[0m \u001b[0;34m[\u001b[0m\u001b[0mindexer\u001b[0m\u001b[0;34m]\u001b[0m\u001b[0;34m\u001b[0m\u001b[0;34m\u001b[0m\u001b[0m\n",
      "\u001b[0;32m/opt/anaconda3/envs/learn-env/lib/python3.6/site-packages/pandas/core/indexes/base.py\u001b[0m in \u001b[0;36mget_loc\u001b[0;34m(self, key, method, tolerance)\u001b[0m\n\u001b[1;32m   2897\u001b[0m                 \u001b[0;32mreturn\u001b[0m \u001b[0mself\u001b[0m\u001b[0;34m.\u001b[0m\u001b[0m_engine\u001b[0m\u001b[0;34m.\u001b[0m\u001b[0mget_loc\u001b[0m\u001b[0;34m(\u001b[0m\u001b[0mkey\u001b[0m\u001b[0;34m)\u001b[0m\u001b[0;34m\u001b[0m\u001b[0;34m\u001b[0m\u001b[0m\n\u001b[1;32m   2898\u001b[0m             \u001b[0;32mexcept\u001b[0m \u001b[0mKeyError\u001b[0m\u001b[0;34m:\u001b[0m\u001b[0;34m\u001b[0m\u001b[0;34m\u001b[0m\u001b[0m\n\u001b[0;32m-> 2899\u001b[0;31m                 \u001b[0;32mreturn\u001b[0m \u001b[0mself\u001b[0m\u001b[0;34m.\u001b[0m\u001b[0m_engine\u001b[0m\u001b[0;34m.\u001b[0m\u001b[0mget_loc\u001b[0m\u001b[0;34m(\u001b[0m\u001b[0mself\u001b[0m\u001b[0;34m.\u001b[0m\u001b[0m_maybe_cast_indexer\u001b[0m\u001b[0;34m(\u001b[0m\u001b[0mkey\u001b[0m\u001b[0;34m)\u001b[0m\u001b[0;34m)\u001b[0m\u001b[0;34m\u001b[0m\u001b[0;34m\u001b[0m\u001b[0m\n\u001b[0m\u001b[1;32m   2900\u001b[0m         \u001b[0mindexer\u001b[0m \u001b[0;34m=\u001b[0m \u001b[0mself\u001b[0m\u001b[0;34m.\u001b[0m\u001b[0mget_indexer\u001b[0m\u001b[0;34m(\u001b[0m\u001b[0;34m[\u001b[0m\u001b[0mkey\u001b[0m\u001b[0;34m]\u001b[0m\u001b[0;34m,\u001b[0m \u001b[0mmethod\u001b[0m\u001b[0;34m=\u001b[0m\u001b[0mmethod\u001b[0m\u001b[0;34m,\u001b[0m \u001b[0mtolerance\u001b[0m\u001b[0;34m=\u001b[0m\u001b[0mtolerance\u001b[0m\u001b[0;34m)\u001b[0m\u001b[0;34m\u001b[0m\u001b[0;34m\u001b[0m\u001b[0m\n\u001b[1;32m   2901\u001b[0m         \u001b[0;32mif\u001b[0m \u001b[0mindexer\u001b[0m\u001b[0;34m.\u001b[0m\u001b[0mndim\u001b[0m \u001b[0;34m>\u001b[0m \u001b[0;36m1\u001b[0m \u001b[0;32mor\u001b[0m \u001b[0mindexer\u001b[0m\u001b[0;34m.\u001b[0m\u001b[0msize\u001b[0m \u001b[0;34m>\u001b[0m \u001b[0;36m1\u001b[0m\u001b[0;34m:\u001b[0m\u001b[0;34m\u001b[0m\u001b[0;34m\u001b[0m\u001b[0m\n",
      "\u001b[0;32mpandas/_libs/index.pyx\u001b[0m in \u001b[0;36mpandas._libs.index.IndexEngine.get_loc\u001b[0;34m()\u001b[0m\n",
      "\u001b[0;32mpandas/_libs/index.pyx\u001b[0m in \u001b[0;36mpandas._libs.index.IndexEngine.get_loc\u001b[0;34m()\u001b[0m\n",
      "\u001b[0;32mpandas/_libs/hashtable_class_helper.pxi\u001b[0m in \u001b[0;36mpandas._libs.hashtable.PyObjectHashTable.get_item\u001b[0;34m()\u001b[0m\n",
      "\u001b[0;32mpandas/_libs/hashtable_class_helper.pxi\u001b[0m in \u001b[0;36mpandas._libs.hashtable.PyObjectHashTable.get_item\u001b[0;34m()\u001b[0m\n",
      "\u001b[0;31mKeyError\u001b[0m: 'IncomePerCap'"
     ]
    }
   ],
   "source": [
    "df1['IncomePerCap'].value_counts()"
   ]
  },
  {
   "cell_type": "code",
   "execution_count": 75,
   "metadata": {},
   "outputs": [
    {
     "data": {
      "image/png": "[encoded data removed]",
      "text/plain": [
       "<Figure size 1440x720 with 2 Axes>"
      ]
     },
     "metadata": {},
     "output_type": "display_data"
    }
   ],
   "source": [
    "# plot the heatmap\n",
    "corr = df_filtered.corr()\n",
    "plt.figure(figsize = (20,10))\n",
    "sns.heatmap(corr,\n",
    "        xticklabels=corr.columns,\n",
    "        yticklabels=corr.columns)\n",
    "plt.show()"
   ]
  },
  {
   "cell_type": "code",
   "execution_count": 76,
   "metadata": {},
   "outputs": [
    {
     "data": {
      "text/html": [
       "<div>\n",
       "<style scoped>\n",
       "    .dataframe tbody tr th:only-of-type {\n",
       "        vertical-align: middle;\n",
       "    }\n",
       "\n",
       "    .dataframe tbody tr th {\n",
       "        vertical-align: top;\n",
       "    }\n",
       "\n",
       "    .dataframe thead th {\n",
       "        text-align: right;\n",
       "    }\n",
       "</style>\n",
       "<table border=\"1\" class=\"dataframe\">\n",
       "  <thead>\n",
       "    <tr style=\"text-align: right;\">\n",
       "      <th></th>\n",
       "      <th>IncomePerCap</th>\n",
       "      <th>Poverty</th>\n",
       "      <th>ChildPoverty</th>\n",
       "      <th>Professional</th>\n",
       "      <th>Service</th>\n",
       "      <th>Construction</th>\n",
       "      <th>Office</th>\n",
       "      <th>Production</th>\n",
       "    </tr>\n",
       "  </thead>\n",
       "  <tbody>\n",
       "    <tr>\n",
       "      <td>IncomePerCap</td>\n",
       "      <td>1.000000</td>\n",
       "      <td>-0.603268</td>\n",
       "      <td>-0.577467</td>\n",
       "      <td>0.807745</td>\n",
       "      <td>-0.591488</td>\n",
       "      <td>-0.421638</td>\n",
       "      <td>-0.137632</td>\n",
       "      <td>-0.556736</td>\n",
       "    </tr>\n",
       "    <tr>\n",
       "      <td>Poverty</td>\n",
       "      <td>-0.603268</td>\n",
       "      <td>1.000000</td>\n",
       "      <td>0.891198</td>\n",
       "      <td>-0.540691</td>\n",
       "      <td>0.580907</td>\n",
       "      <td>0.164725</td>\n",
       "      <td>0.014512</td>\n",
       "      <td>0.328633</td>\n",
       "    </tr>\n",
       "    <tr>\n",
       "      <td>ChildPoverty</td>\n",
       "      <td>-0.577467</td>\n",
       "      <td>0.891198</td>\n",
       "      <td>1.000000</td>\n",
       "      <td>-0.563652</td>\n",
       "      <td>0.544751</td>\n",
       "      <td>0.206727</td>\n",
       "      <td>0.023489</td>\n",
       "      <td>0.372114</td>\n",
       "    </tr>\n",
       "    <tr>\n",
       "      <td>Professional</td>\n",
       "      <td>0.807745</td>\n",
       "      <td>-0.540691</td>\n",
       "      <td>-0.563652</td>\n",
       "      <td>1.000000</td>\n",
       "      <td>-0.661686</td>\n",
       "      <td>-0.562237</td>\n",
       "      <td>-0.211065</td>\n",
       "      <td>-0.701717</td>\n",
       "    </tr>\n",
       "    <tr>\n",
       "      <td>Service</td>\n",
       "      <td>-0.591488</td>\n",
       "      <td>0.580907</td>\n",
       "      <td>0.544751</td>\n",
       "      <td>-0.661686</td>\n",
       "      <td>1.000000</td>\n",
       "      <td>0.128332</td>\n",
       "      <td>-0.056770</td>\n",
       "      <td>0.214505</td>\n",
       "    </tr>\n",
       "    <tr>\n",
       "      <td>Construction</td>\n",
       "      <td>-0.421638</td>\n",
       "      <td>0.164725</td>\n",
       "      <td>0.206727</td>\n",
       "      <td>-0.562237</td>\n",
       "      <td>0.128332</td>\n",
       "      <td>1.000000</td>\n",
       "      <td>-0.159070</td>\n",
       "      <td>0.314436</td>\n",
       "    </tr>\n",
       "    <tr>\n",
       "      <td>Office</td>\n",
       "      <td>-0.137632</td>\n",
       "      <td>0.014512</td>\n",
       "      <td>0.023489</td>\n",
       "      <td>-0.211065</td>\n",
       "      <td>-0.056770</td>\n",
       "      <td>-0.159070</td>\n",
       "      <td>1.000000</td>\n",
       "      <td>-0.116368</td>\n",
       "    </tr>\n",
       "    <tr>\n",
       "      <td>Production</td>\n",
       "      <td>-0.556736</td>\n",
       "      <td>0.328633</td>\n",
       "      <td>0.372114</td>\n",
       "      <td>-0.701717</td>\n",
       "      <td>0.214505</td>\n",
       "      <td>0.314436</td>\n",
       "      <td>-0.116368</td>\n",
       "      <td>1.000000</td>\n",
       "    </tr>\n",
       "  </tbody>\n",
       "</table>\n",
       "</div>"
      ],
      "text/plain": [
       "              IncomePerCap   Poverty  ChildPoverty  Professional   Service  \\\n",
       "IncomePerCap      1.000000 -0.603268     -0.577467      0.807745 -0.591488   \n",
       "Poverty          -0.603268  1.000000      0.891198     -0.540691  0.580907   \n",
       "ChildPoverty     -0.577467  0.891198      1.000000     -0.563652  0.544751   \n",
       "Professional      0.807745 -0.540691     -0.563652      1.000000 -0.661686   \n",
       "Service          -0.591488  0.580907      0.544751     -0.661686  1.000000   \n",
       "Construction     -0.421638  0.164725      0.206727     -0.562237  0.128332   \n",
       "Office           -0.137632  0.014512      0.023489     -0.211065 -0.056770   \n",
       "Production       -0.556736  0.328633      0.372114     -0.701717  0.214505   \n",
       "\n",
       "              Construction    Office  Production  \n",
       "IncomePerCap     -0.421638 -0.137632   -0.556736  \n",
       "Poverty           0.164725  0.014512    0.328633  \n",
       "ChildPoverty      0.206727  0.023489    0.372114  \n",
       "Professional     -0.562237 -0.211065   -0.701717  \n",
       "Service           0.128332 -0.056770    0.214505  \n",
       "Construction      1.000000 -0.159070    0.314436  \n",
       "Office           -0.159070  1.000000   -0.116368  \n",
       "Production        0.314436 -0.116368    1.000000  "
      ]
     },
     "execution_count": 76,
     "metadata": {},
     "output_type": "execute_result"
    }
   ],
   "source": [
    "corr"
   ]
  },
  {
   "cell_type": "code",
   "execution_count": 77,
   "metadata": {},
   "outputs": [
    {
     "data": {
      "text/plain": [
       "<matplotlib.axes._subplots.AxesSubplot at 0x1cb35630f0>"
      ]
     },
     "execution_count": 77,
     "metadata": {},
     "output_type": "execute_result"
    },
    {
     "data": {
      "image/png": "[encoded data removed]",
      "text/plain": [
       "<Figure size 576x396 with 1 Axes>"
      ]
     },
     "metadata": {},
     "output_type": "display_data"
    }
   ],
   "source": [
    "sns.boxplot(df1.IncomePerCap)"
   ]
  },
  {
   "cell_type": "code",
   "execution_count": 97,
   "metadata": {},
   "outputs": [
    {
     "data": {
      "text/plain": [
       "array([[3.3018e+04],\n",
       "       [1.0700e+01],\n",
       "       [2.0800e+01],\n",
       "       ...,\n",
       "       [1.7800e+01],\n",
       "       [1.9100e+01],\n",
       "       [2.6900e+01]])"
      ]
     },
     "execution_count": 97,
     "metadata": {},
     "output_type": "execute_result"
    }
   ],
   "source": [
    "y = df_filtered['IncomePerCap']\n",
    "scaler = StandardScaler()\n",
    "np.array(df1).reshape(-1,1)"
   ]
  },
  {
   "cell_type": "code",
   "execution_count": 26,
   "metadata": {},
   "outputs": [
    {
     "data": {
      "text/plain": [
       "StandardScaler(copy=True, with_mean=True, with_std=True)"
      ]
     },
     "execution_count": 26,
     "metadata": {},
     "output_type": "execute_result"
    }
   ],
   "source": [
    "scaler.fit(df_filtered)"
   ]
  },
  {
   "cell_type": "code",
   "execution_count": 27,
   "metadata": {},
   "outputs": [],
   "source": [
    "transformed_data = scaler.transform(df1)"
   ]
  },
  {
   "cell_type": "code",
   "execution_count": 28,
   "metadata": {},
   "outputs": [],
   "source": [
    "transformed_data\n",
    "ridge_reg = Ridge()"
   ]
  },
  {
   "cell_type": "code",
   "execution_count": 29,
   "metadata": {},
   "outputs": [
    {
     "data": {
      "text/plain": [
       "Ridge(alpha=1.0, copy_X=True, fit_intercept=True, max_iter=None,\n",
       "      normalize=False, random_state=None, solver='auto', tol=0.001)"
      ]
     },
     "execution_count": 29,
     "metadata": {},
     "output_type": "execute_result"
    }
   ],
   "source": [
    "ridge_reg.fit(transformed_data, y)"
   ]
  },
  {
   "cell_type": "code",
   "execution_count": 30,
   "metadata": {},
   "outputs": [
    {
     "name": "stdout",
     "output_type": "stream",
     "text": [
      "[-4722.85358571  1249.04266201  6420.74614245 -2406.6226845\n",
      " -1760.18713865 -1504.92484516 -2363.17321526]\n"
     ]
    }
   ],
   "source": [
    "print(ridge_reg.coef_)\n"
   ]
  },
  {
   "cell_type": "code",
   "execution_count": 31,
   "metadata": {},
   "outputs": [
    {
     "ename": "ValueError",
     "evalue": "Expected 2D array, got 1D array instead:\narray=[ 8. 17. 40. 10. 25. 20.  5.].\nReshape your data either using array.reshape(-1, 1) if your data has a single feature or array.reshape(1, -1) if it contains a single sample.",
     "output_type": "error",
     "traceback": [
      "\u001b[0;31m---------------------------------------------------------------------------\u001b[0m",
      "\u001b[0;31mValueError\u001b[0m                                Traceback (most recent call last)",
      "\u001b[0;32m<ipython-input-31-cc28e69a1457>\u001b[0m in \u001b[0;36m<module>\u001b[0;34m\u001b[0m\n\u001b[0;32m----> 1\u001b[0;31m \u001b[0mridge_reg\u001b[0m\u001b[0;34m.\u001b[0m\u001b[0mpredict\u001b[0m\u001b[0;34m(\u001b[0m\u001b[0mscaler\u001b[0m\u001b[0;34m.\u001b[0m\u001b[0mtransform\u001b[0m\u001b[0;34m(\u001b[0m\u001b[0mnp\u001b[0m\u001b[0;34m.\u001b[0m\u001b[0marray\u001b[0m\u001b[0;34m(\u001b[0m\u001b[0;34m[\u001b[0m\u001b[0;36m8\u001b[0m\u001b[0;34m,\u001b[0m \u001b[0;36m17\u001b[0m\u001b[0;34m,\u001b[0m \u001b[0;36m40\u001b[0m\u001b[0;34m,\u001b[0m \u001b[0;36m10\u001b[0m\u001b[0;34m,\u001b[0m\u001b[0;36m25\u001b[0m\u001b[0;34m,\u001b[0m\u001b[0;36m20\u001b[0m\u001b[0;34m,\u001b[0m\u001b[0;36m5\u001b[0m\u001b[0;34m]\u001b[0m\u001b[0;34m)\u001b[0m\u001b[0;34m)\u001b[0m\u001b[0;34m)\u001b[0m\u001b[0;34m\u001b[0m\u001b[0;34m\u001b[0m\u001b[0m\n\u001b[0m",
      "\u001b[0;32m/opt/anaconda3/envs/learn-env/lib/python3.6/site-packages/sklearn/preprocessing/data.py\u001b[0m in \u001b[0;36mtransform\u001b[0;34m(self, X, copy)\u001b[0m\n\u001b[1;32m    756\u001b[0m         X = check_array(X, accept_sparse='csr', copy=copy,\n\u001b[1;32m    757\u001b[0m                         \u001b[0mestimator\u001b[0m\u001b[0;34m=\u001b[0m\u001b[0mself\u001b[0m\u001b[0;34m,\u001b[0m \u001b[0mdtype\u001b[0m\u001b[0;34m=\u001b[0m\u001b[0mFLOAT_DTYPES\u001b[0m\u001b[0;34m,\u001b[0m\u001b[0;34m\u001b[0m\u001b[0;34m\u001b[0m\u001b[0m\n\u001b[0;32m--> 758\u001b[0;31m                         force_all_finite='allow-nan')\n\u001b[0m\u001b[1;32m    759\u001b[0m \u001b[0;34m\u001b[0m\u001b[0m\n\u001b[1;32m    760\u001b[0m         \u001b[0;32mif\u001b[0m \u001b[0msparse\u001b[0m\u001b[0;34m.\u001b[0m\u001b[0missparse\u001b[0m\u001b[0;34m(\u001b[0m\u001b[0mX\u001b[0m\u001b[0;34m)\u001b[0m\u001b[0;34m:\u001b[0m\u001b[0;34m\u001b[0m\u001b[0;34m\u001b[0m\u001b[0m\n",
      "\u001b[0;32m/opt/anaconda3/envs/learn-env/lib/python3.6/site-packages/sklearn/utils/validation.py\u001b[0m in \u001b[0;36mcheck_array\u001b[0;34m(array, accept_sparse, accept_large_sparse, dtype, order, copy, force_all_finite, ensure_2d, allow_nd, ensure_min_samples, ensure_min_features, warn_on_dtype, estimator)\u001b[0m\n\u001b[1;32m    519\u001b[0m                     \u001b[0;34m\"Reshape your data either using array.reshape(-1, 1) if \"\u001b[0m\u001b[0;34m\u001b[0m\u001b[0;34m\u001b[0m\u001b[0m\n\u001b[1;32m    520\u001b[0m                     \u001b[0;34m\"your data has a single feature or array.reshape(1, -1) \"\u001b[0m\u001b[0;34m\u001b[0m\u001b[0;34m\u001b[0m\u001b[0m\n\u001b[0;32m--> 521\u001b[0;31m                     \"if it contains a single sample.\".format(array))\n\u001b[0m\u001b[1;32m    522\u001b[0m \u001b[0;34m\u001b[0m\u001b[0m\n\u001b[1;32m    523\u001b[0m         \u001b[0;31m# in the future np.flexible dtypes will be handled like object dtypes\u001b[0m\u001b[0;34m\u001b[0m\u001b[0;34m\u001b[0m\u001b[0;34m\u001b[0m\u001b[0m\n",
      "\u001b[0;31mValueError\u001b[0m: Expected 2D array, got 1D array instead:\narray=[ 8. 17. 40. 10. 25. 20.  5.].\nReshape your data either using array.reshape(-1, 1) if your data has a single feature or array.reshape(1, -1) if it contains a single sample."
     ]
    }
   ],
   "source": [
    "ridge_reg.predict(scaler.transform(np.array([8, 17, 40, 10,25,20,5])))"
   ]
  },
  {
   "cell_type": "code",
   "execution_count": 37,
   "metadata": {},
   "outputs": [
    {
     "data": {
      "text/html": [
       "<div>\n",
       "<style scoped>\n",
       "    .dataframe tbody tr th:only-of-type {\n",
       "        vertical-align: middle;\n",
       "    }\n",
       "\n",
       "    .dataframe tbody tr th {\n",
       "        vertical-align: top;\n",
       "    }\n",
       "\n",
       "    .dataframe thead th {\n",
       "        text-align: right;\n",
       "    }\n",
       "</style>\n",
       "<table border=\"1\" class=\"dataframe\">\n",
       "  <thead>\n",
       "    <tr style=\"text-align: right;\">\n",
       "      <th></th>\n",
       "      <th>IncomePerCap</th>\n",
       "      <th>Poverty</th>\n",
       "      <th>ChildPoverty</th>\n",
       "      <th>Professional</th>\n",
       "      <th>Service</th>\n",
       "      <th>Construction</th>\n",
       "      <th>Office</th>\n",
       "      <th>Production</th>\n",
       "    </tr>\n",
       "  </thead>\n",
       "  <tbody>\n",
       "    <tr>\n",
       "      <td>0</td>\n",
       "      <td>33018.0</td>\n",
       "      <td>10.7</td>\n",
       "      <td>20.8</td>\n",
       "      <td>38.5</td>\n",
       "      <td>15.6</td>\n",
       "      <td>10.8</td>\n",
       "      <td>22.8</td>\n",
       "      <td>12.4</td>\n",
       "    </tr>\n",
       "    <tr>\n",
       "      <td>1</td>\n",
       "      <td>18996.0</td>\n",
       "      <td>22.4</td>\n",
       "      <td>35.8</td>\n",
       "      <td>30.5</td>\n",
       "      <td>24.9</td>\n",
       "      <td>6.3</td>\n",
       "      <td>22.9</td>\n",
       "      <td>15.4</td>\n",
       "    </tr>\n",
       "    <tr>\n",
       "      <td>2</td>\n",
       "      <td>21236.0</td>\n",
       "      <td>14.7</td>\n",
       "      <td>21.1</td>\n",
       "      <td>27.9</td>\n",
       "      <td>19.4</td>\n",
       "      <td>9.9</td>\n",
       "      <td>33.3</td>\n",
       "      <td>9.6</td>\n",
       "    </tr>\n",
       "    <tr>\n",
       "      <td>3</td>\n",
       "      <td>28068.0</td>\n",
       "      <td>2.3</td>\n",
       "      <td>1.7</td>\n",
       "      <td>29.0</td>\n",
       "      <td>16.6</td>\n",
       "      <td>9.1</td>\n",
       "      <td>25.8</td>\n",
       "      <td>19.5</td>\n",
       "    </tr>\n",
       "    <tr>\n",
       "      <td>4</td>\n",
       "      <td>36905.0</td>\n",
       "      <td>12.2</td>\n",
       "      <td>17.9</td>\n",
       "      <td>48.8</td>\n",
       "      <td>13.8</td>\n",
       "      <td>3.5</td>\n",
       "      <td>20.5</td>\n",
       "      <td>13.4</td>\n",
       "    </tr>\n",
       "    <tr>\n",
       "      <td>...</td>\n",
       "      <td>...</td>\n",
       "      <td>...</td>\n",
       "      <td>...</td>\n",
       "      <td>...</td>\n",
       "      <td>...</td>\n",
       "      <td>...</td>\n",
       "      <td>...</td>\n",
       "      <td>...</td>\n",
       "    </tr>\n",
       "    <tr>\n",
       "      <td>73996</td>\n",
       "      <td>8643.0</td>\n",
       "      <td>39.4</td>\n",
       "      <td>61.8</td>\n",
       "      <td>42.2</td>\n",
       "      <td>25.3</td>\n",
       "      <td>7.7</td>\n",
       "      <td>18.0</td>\n",
       "      <td>6.9</td>\n",
       "    </tr>\n",
       "    <tr>\n",
       "      <td>73997</td>\n",
       "      <td>11109.0</td>\n",
       "      <td>35.5</td>\n",
       "      <td>39.9</td>\n",
       "      <td>34.4</td>\n",
       "      <td>13.4</td>\n",
       "      <td>12.3</td>\n",
       "      <td>23.1</td>\n",
       "      <td>16.8</td>\n",
       "    </tr>\n",
       "    <tr>\n",
       "      <td>73998</td>\n",
       "      <td>9603.0</td>\n",
       "      <td>52.8</td>\n",
       "      <td>77.2</td>\n",
       "      <td>29.3</td>\n",
       "      <td>23.6</td>\n",
       "      <td>4.6</td>\n",
       "      <td>32.9</td>\n",
       "      <td>9.6</td>\n",
       "    </tr>\n",
       "    <tr>\n",
       "      <td>73999</td>\n",
       "      <td>8331.0</td>\n",
       "      <td>50.1</td>\n",
       "      <td>58.0</td>\n",
       "      <td>29.8</td>\n",
       "      <td>20.6</td>\n",
       "      <td>13.9</td>\n",
       "      <td>28.8</td>\n",
       "      <td>6.9</td>\n",
       "    </tr>\n",
       "    <tr>\n",
       "      <td>74000</td>\n",
       "      <td>6251.0</td>\n",
       "      <td>69.4</td>\n",
       "      <td>72.2</td>\n",
       "      <td>12.4</td>\n",
       "      <td>23.8</td>\n",
       "      <td>17.8</td>\n",
       "      <td>19.1</td>\n",
       "      <td>26.9</td>\n",
       "    </tr>\n",
       "  </tbody>\n",
       "</table>\n",
       "<p>72718 rows × 8 columns</p>\n",
       "</div>"
      ],
      "text/plain": [
       "       IncomePerCap  Poverty  ChildPoverty  Professional  Service  \\\n",
       "0           33018.0     10.7          20.8          38.5     15.6   \n",
       "1           18996.0     22.4          35.8          30.5     24.9   \n",
       "2           21236.0     14.7          21.1          27.9     19.4   \n",
       "3           28068.0      2.3           1.7          29.0     16.6   \n",
       "4           36905.0     12.2          17.9          48.8     13.8   \n",
       "...             ...      ...           ...           ...      ...   \n",
       "73996        8643.0     39.4          61.8          42.2     25.3   \n",
       "73997       11109.0     35.5          39.9          34.4     13.4   \n",
       "73998        9603.0     52.8          77.2          29.3     23.6   \n",
       "73999        8331.0     50.1          58.0          29.8     20.6   \n",
       "74000        6251.0     69.4          72.2          12.4     23.8   \n",
       "\n",
       "       Construction  Office  Production  \n",
       "0              10.8    22.8        12.4  \n",
       "1               6.3    22.9        15.4  \n",
       "2               9.9    33.3         9.6  \n",
       "3               9.1    25.8        19.5  \n",
       "4               3.5    20.5        13.4  \n",
       "...             ...     ...         ...  \n",
       "73996           7.7    18.0         6.9  \n",
       "73997          12.3    23.1        16.8  \n",
       "73998           4.6    32.9         9.6  \n",
       "73999          13.9    28.8         6.9  \n",
       "74000          17.8    19.1        26.9  \n",
       "\n",
       "[72718 rows x 8 columns]"
      ]
     },
     "execution_count": 37,
     "metadata": {},
     "output_type": "execute_result"
    }
   ],
   "source": [
    "df1 = df[[ 'IncomePerCap','Poverty',\n",
    "       'ChildPoverty', 'Professional', 'Service','Construction', 'Office', \n",
    "       'Production']]\n",
    "df1"
   ]
  },
  {
   "cell_type": "code",
   "execution_count": 162,
   "metadata": {},
   "outputs": [
    {
     "data": {
      "text/html": [
       "<div>\n",
       "<style scoped>\n",
       "    .dataframe tbody tr th:only-of-type {\n",
       "        vertical-align: middle;\n",
       "    }\n",
       "\n",
       "    .dataframe tbody tr th {\n",
       "        vertical-align: top;\n",
       "    }\n",
       "\n",
       "    .dataframe thead th {\n",
       "        text-align: right;\n",
       "    }\n",
       "</style>\n",
       "<table border=\"1\" class=\"dataframe\">\n",
       "  <thead>\n",
       "    <tr style=\"text-align: right;\">\n",
       "      <th></th>\n",
       "      <th>IncomePerCap</th>\n",
       "      <th>Poverty</th>\n",
       "      <th>ChildPoverty</th>\n",
       "      <th>Professional</th>\n",
       "      <th>Service</th>\n",
       "      <th>Construction</th>\n",
       "      <th>Office</th>\n",
       "      <th>Production</th>\n",
       "    </tr>\n",
       "  </thead>\n",
       "  <tbody>\n",
       "    <tr>\n",
       "      <td>0</td>\n",
       "      <td>33018.0</td>\n",
       "      <td>10.7</td>\n",
       "      <td>20.8</td>\n",
       "      <td>38.5</td>\n",
       "      <td>15.6</td>\n",
       "      <td>10.8</td>\n",
       "      <td>22.8</td>\n",
       "      <td>12.4</td>\n",
       "    </tr>\n",
       "    <tr>\n",
       "      <td>1</td>\n",
       "      <td>18996.0</td>\n",
       "      <td>22.4</td>\n",
       "      <td>35.8</td>\n",
       "      <td>30.5</td>\n",
       "      <td>24.9</td>\n",
       "      <td>6.3</td>\n",
       "      <td>22.9</td>\n",
       "      <td>15.4</td>\n",
       "    </tr>\n",
       "    <tr>\n",
       "      <td>2</td>\n",
       "      <td>21236.0</td>\n",
       "      <td>14.7</td>\n",
       "      <td>21.1</td>\n",
       "      <td>27.9</td>\n",
       "      <td>19.4</td>\n",
       "      <td>9.9</td>\n",
       "      <td>33.3</td>\n",
       "      <td>9.6</td>\n",
       "    </tr>\n",
       "    <tr>\n",
       "      <td>3</td>\n",
       "      <td>28068.0</td>\n",
       "      <td>2.3</td>\n",
       "      <td>1.7</td>\n",
       "      <td>29.0</td>\n",
       "      <td>16.6</td>\n",
       "      <td>9.1</td>\n",
       "      <td>25.8</td>\n",
       "      <td>19.5</td>\n",
       "    </tr>\n",
       "    <tr>\n",
       "      <td>4</td>\n",
       "      <td>36905.0</td>\n",
       "      <td>12.2</td>\n",
       "      <td>17.9</td>\n",
       "      <td>48.8</td>\n",
       "      <td>13.8</td>\n",
       "      <td>3.5</td>\n",
       "      <td>20.5</td>\n",
       "      <td>13.4</td>\n",
       "    </tr>\n",
       "    <tr>\n",
       "      <td>...</td>\n",
       "      <td>...</td>\n",
       "      <td>...</td>\n",
       "      <td>...</td>\n",
       "      <td>...</td>\n",
       "      <td>...</td>\n",
       "      <td>...</td>\n",
       "      <td>...</td>\n",
       "      <td>...</td>\n",
       "    </tr>\n",
       "    <tr>\n",
       "      <td>73966</td>\n",
       "      <td>11481.0</td>\n",
       "      <td>36.8</td>\n",
       "      <td>39.0</td>\n",
       "      <td>25.5</td>\n",
       "      <td>21.6</td>\n",
       "      <td>10.1</td>\n",
       "      <td>26.8</td>\n",
       "      <td>16.0</td>\n",
       "    </tr>\n",
       "    <tr>\n",
       "      <td>73972</td>\n",
       "      <td>11435.0</td>\n",
       "      <td>29.2</td>\n",
       "      <td>54.9</td>\n",
       "      <td>28.4</td>\n",
       "      <td>37.2</td>\n",
       "      <td>14.9</td>\n",
       "      <td>10.6</td>\n",
       "      <td>8.9</td>\n",
       "    </tr>\n",
       "    <tr>\n",
       "      <td>73994</td>\n",
       "      <td>10642.0</td>\n",
       "      <td>29.2</td>\n",
       "      <td>33.4</td>\n",
       "      <td>37.0</td>\n",
       "      <td>15.6</td>\n",
       "      <td>6.1</td>\n",
       "      <td>28.5</td>\n",
       "      <td>12.8</td>\n",
       "    </tr>\n",
       "    <tr>\n",
       "      <td>73996</td>\n",
       "      <td>8643.0</td>\n",
       "      <td>39.4</td>\n",
       "      <td>61.8</td>\n",
       "      <td>42.2</td>\n",
       "      <td>25.3</td>\n",
       "      <td>7.7</td>\n",
       "      <td>18.0</td>\n",
       "      <td>6.9</td>\n",
       "    </tr>\n",
       "    <tr>\n",
       "      <td>73997</td>\n",
       "      <td>11109.0</td>\n",
       "      <td>35.5</td>\n",
       "      <td>39.9</td>\n",
       "      <td>34.4</td>\n",
       "      <td>13.4</td>\n",
       "      <td>12.3</td>\n",
       "      <td>23.1</td>\n",
       "      <td>16.8</td>\n",
       "    </tr>\n",
       "  </tbody>\n",
       "</table>\n",
       "<p>67795 rows × 8 columns</p>\n",
       "</div>"
      ],
      "text/plain": [
       "       IncomePerCap  Poverty  ChildPoverty  Professional  Service  \\\n",
       "0           33018.0     10.7          20.8          38.5     15.6   \n",
       "1           18996.0     22.4          35.8          30.5     24.9   \n",
       "2           21236.0     14.7          21.1          27.9     19.4   \n",
       "3           28068.0      2.3           1.7          29.0     16.6   \n",
       "4           36905.0     12.2          17.9          48.8     13.8   \n",
       "...             ...      ...           ...           ...      ...   \n",
       "73966       11481.0     36.8          39.0          25.5     21.6   \n",
       "73972       11435.0     29.2          54.9          28.4     37.2   \n",
       "73994       10642.0     29.2          33.4          37.0     15.6   \n",
       "73996        8643.0     39.4          61.8          42.2     25.3   \n",
       "73997       11109.0     35.5          39.9          34.4     13.4   \n",
       "\n",
       "       Construction  Office  Production  \n",
       "0              10.8    22.8        12.4  \n",
       "1               6.3    22.9        15.4  \n",
       "2               9.9    33.3         9.6  \n",
       "3               9.1    25.8        19.5  \n",
       "4               3.5    20.5        13.4  \n",
       "...             ...     ...         ...  \n",
       "73966          10.1    26.8        16.0  \n",
       "73972          14.9    10.6         8.9  \n",
       "73994           6.1    28.5        12.8  \n",
       "73996           7.7    18.0         6.9  \n",
       "73997          12.3    23.1        16.8  \n",
       "\n",
       "[67795 rows x 8 columns]"
      ]
     },
     "execution_count": 162,
     "metadata": {},
     "output_type": "execute_result"
    }
   ],
   "source": [
    "df_filtered = df1[(df1['Office'] >= 10) & (df1['Office'] <= 45) & (df1['Service'] <= 50) & (df1['Poverty'] <= 40) & (df1['Construction'] <= 30)]\n",
    "df_filtered"
   ]
  },
  {
   "cell_type": "code",
   "execution_count": 163,
   "metadata": {},
   "outputs": [],
   "source": [
    "y = df_filtered['IncomePerCap']\n",
    "X = df_filtered[refined_cols]"
   ]
  },
  {
   "cell_type": "code",
   "execution_count": 164,
   "metadata": {},
   "outputs": [
    {
     "data": {
      "text/plain": [
       "array([[33018.],\n",
       "       [18996.],\n",
       "       [21236.],\n",
       "       ...,\n",
       "       [10642.],\n",
       "       [ 8643.],\n",
       "       [11109.]])"
      ]
     },
     "execution_count": 164,
     "metadata": {},
     "output_type": "execute_result"
    }
   ],
   "source": [
    "y.values.reshape(-1,1)\n"
   ]
  },
  {
   "cell_type": "code",
   "execution_count": 211,
   "metadata": {},
   "outputs": [
    {
     "ename": "TypeError",
     "evalue": "float() argument must be a string or a number, not 'AxesSubplot'",
     "output_type": "error",
     "traceback": [
      "\u001b[0;31m---------------------------------------------------------------------------\u001b[0m",
      "\u001b[0;31mTypeError\u001b[0m                                 Traceback (most recent call last)",
      "\u001b[0;32m<ipython-input-211-2b0a29b76609>\u001b[0m in \u001b[0;36m<module>\u001b[0;34m\u001b[0m\n\u001b[0;32m----> 1\u001b[0;31m \u001b[0my\u001b[0m \u001b[0;34m=\u001b[0m \u001b[0mpower_transform\u001b[0m\u001b[0;34m(\u001b[0m\u001b[0m_\u001b[0m\u001b[0;34m,\u001b[0m \u001b[0mmethod\u001b[0m \u001b[0;34m=\u001b[0m \u001b[0;34m'box-cox'\u001b[0m\u001b[0;34m)\u001b[0m\u001b[0;34m\u001b[0m\u001b[0;34m\u001b[0m\u001b[0m\n\u001b[0m",
      "\u001b[0;32m/opt/anaconda3/envs/learn-env/lib/python3.6/site-packages/sklearn/preprocessing/data.py\u001b[0m in \u001b[0;36mpower_transform\u001b[0;34m(X, method, standardize, copy)\u001b[0m\n\u001b[1;32m   3010\u001b[0m         \u001b[0mmethod\u001b[0m \u001b[0;34m=\u001b[0m \u001b[0;34m'box-cox'\u001b[0m\u001b[0;34m\u001b[0m\u001b[0;34m\u001b[0m\u001b[0m\n\u001b[1;32m   3011\u001b[0m     \u001b[0mpt\u001b[0m \u001b[0;34m=\u001b[0m \u001b[0mPowerTransformer\u001b[0m\u001b[0;34m(\u001b[0m\u001b[0mmethod\u001b[0m\u001b[0;34m=\u001b[0m\u001b[0mmethod\u001b[0m\u001b[0;34m,\u001b[0m \u001b[0mstandardize\u001b[0m\u001b[0;34m=\u001b[0m\u001b[0mstandardize\u001b[0m\u001b[0;34m,\u001b[0m \u001b[0mcopy\u001b[0m\u001b[0;34m=\u001b[0m\u001b[0mcopy\u001b[0m\u001b[0;34m)\u001b[0m\u001b[0;34m\u001b[0m\u001b[0;34m\u001b[0m\u001b[0m\n\u001b[0;32m-> 3012\u001b[0;31m     \u001b[0;32mreturn\u001b[0m \u001b[0mpt\u001b[0m\u001b[0;34m.\u001b[0m\u001b[0mfit_transform\u001b[0m\u001b[0;34m(\u001b[0m\u001b[0mX\u001b[0m\u001b[0;34m)\u001b[0m\u001b[0;34m\u001b[0m\u001b[0;34m\u001b[0m\u001b[0m\n\u001b[0m",
      "\u001b[0;32m/opt/anaconda3/envs/learn-env/lib/python3.6/site-packages/sklearn/preprocessing/data.py\u001b[0m in \u001b[0;36mfit_transform\u001b[0;34m(self, X, y)\u001b[0m\n\u001b[1;32m   2676\u001b[0m \u001b[0;34m\u001b[0m\u001b[0m\n\u001b[1;32m   2677\u001b[0m     \u001b[0;32mdef\u001b[0m \u001b[0mfit_transform\u001b[0m\u001b[0;34m(\u001b[0m\u001b[0mself\u001b[0m\u001b[0;34m,\u001b[0m \u001b[0mX\u001b[0m\u001b[0;34m,\u001b[0m \u001b[0my\u001b[0m\u001b[0;34m=\u001b[0m\u001b[0;32mNone\u001b[0m\u001b[0;34m)\u001b[0m\u001b[0;34m:\u001b[0m\u001b[0;34m\u001b[0m\u001b[0;34m\u001b[0m\u001b[0m\n\u001b[0;32m-> 2678\u001b[0;31m         \u001b[0;32mreturn\u001b[0m \u001b[0mself\u001b[0m\u001b[0;34m.\u001b[0m\u001b[0m_fit\u001b[0m\u001b[0;34m(\u001b[0m\u001b[0mX\u001b[0m\u001b[0;34m,\u001b[0m \u001b[0my\u001b[0m\u001b[0;34m,\u001b[0m \u001b[0mforce_transform\u001b[0m\u001b[0;34m=\u001b[0m\u001b[0;32mTrue\u001b[0m\u001b[0;34m)\u001b[0m\u001b[0;34m\u001b[0m\u001b[0;34m\u001b[0m\u001b[0m\n\u001b[0m\u001b[1;32m   2679\u001b[0m \u001b[0;34m\u001b[0m\u001b[0m\n\u001b[1;32m   2680\u001b[0m     \u001b[0;32mdef\u001b[0m \u001b[0m_fit\u001b[0m\u001b[0;34m(\u001b[0m\u001b[0mself\u001b[0m\u001b[0;34m,\u001b[0m \u001b[0mX\u001b[0m\u001b[0;34m,\u001b[0m \u001b[0my\u001b[0m\u001b[0;34m=\u001b[0m\u001b[0;32mNone\u001b[0m\u001b[0;34m,\u001b[0m \u001b[0mforce_transform\u001b[0m\u001b[0;34m=\u001b[0m\u001b[0;32mFalse\u001b[0m\u001b[0;34m)\u001b[0m\u001b[0;34m:\u001b[0m\u001b[0;34m\u001b[0m\u001b[0;34m\u001b[0m\u001b[0m\n",
      "\u001b[0;32m/opt/anaconda3/envs/learn-env/lib/python3.6/site-packages/sklearn/preprocessing/data.py\u001b[0m in \u001b[0;36m_fit\u001b[0;34m(self, X, y, force_transform)\u001b[0m\n\u001b[1;32m   2679\u001b[0m \u001b[0;34m\u001b[0m\u001b[0m\n\u001b[1;32m   2680\u001b[0m     \u001b[0;32mdef\u001b[0m \u001b[0m_fit\u001b[0m\u001b[0;34m(\u001b[0m\u001b[0mself\u001b[0m\u001b[0;34m,\u001b[0m \u001b[0mX\u001b[0m\u001b[0;34m,\u001b[0m \u001b[0my\u001b[0m\u001b[0;34m=\u001b[0m\u001b[0;32mNone\u001b[0m\u001b[0;34m,\u001b[0m \u001b[0mforce_transform\u001b[0m\u001b[0;34m=\u001b[0m\u001b[0;32mFalse\u001b[0m\u001b[0;34m)\u001b[0m\u001b[0;34m:\u001b[0m\u001b[0;34m\u001b[0m\u001b[0;34m\u001b[0m\u001b[0m\n\u001b[0;32m-> 2681\u001b[0;31m         \u001b[0mX\u001b[0m \u001b[0;34m=\u001b[0m \u001b[0mself\u001b[0m\u001b[0;34m.\u001b[0m\u001b[0m_check_input\u001b[0m\u001b[0;34m(\u001b[0m\u001b[0mX\u001b[0m\u001b[0;34m,\u001b[0m \u001b[0mcheck_positive\u001b[0m\u001b[0;34m=\u001b[0m\u001b[0;32mTrue\u001b[0m\u001b[0;34m,\u001b[0m \u001b[0mcheck_method\u001b[0m\u001b[0;34m=\u001b[0m\u001b[0;32mTrue\u001b[0m\u001b[0;34m)\u001b[0m\u001b[0;34m\u001b[0m\u001b[0;34m\u001b[0m\u001b[0m\n\u001b[0m\u001b[1;32m   2682\u001b[0m \u001b[0;34m\u001b[0m\u001b[0m\n\u001b[1;32m   2683\u001b[0m         \u001b[0;32mif\u001b[0m \u001b[0;32mnot\u001b[0m \u001b[0mself\u001b[0m\u001b[0;34m.\u001b[0m\u001b[0mcopy\u001b[0m \u001b[0;32mand\u001b[0m \u001b[0;32mnot\u001b[0m \u001b[0mforce_transform\u001b[0m\u001b[0;34m:\u001b[0m  \u001b[0;31m# if call from fit()\u001b[0m\u001b[0;34m\u001b[0m\u001b[0;34m\u001b[0m\u001b[0m\n",
      "\u001b[0;32m/opt/anaconda3/envs/learn-env/lib/python3.6/site-packages/sklearn/preprocessing/data.py\u001b[0m in \u001b[0;36m_check_input\u001b[0;34m(self, X, check_positive, check_shape, check_method)\u001b[0m\n\u001b[1;32m   2891\u001b[0m         \"\"\"\n\u001b[1;32m   2892\u001b[0m         X = check_array(X, ensure_2d=True, dtype=FLOAT_DTYPES, copy=self.copy,\n\u001b[0;32m-> 2893\u001b[0;31m                         force_all_finite='allow-nan')\n\u001b[0m\u001b[1;32m   2894\u001b[0m \u001b[0;34m\u001b[0m\u001b[0m\n\u001b[1;32m   2895\u001b[0m         \u001b[0;32mwith\u001b[0m \u001b[0mnp\u001b[0m\u001b[0;34m.\u001b[0m\u001b[0mwarnings\u001b[0m\u001b[0;34m.\u001b[0m\u001b[0mcatch_warnings\u001b[0m\u001b[0;34m(\u001b[0m\u001b[0;34m)\u001b[0m\u001b[0;34m:\u001b[0m\u001b[0;34m\u001b[0m\u001b[0;34m\u001b[0m\u001b[0m\n",
      "\u001b[0;32m/opt/anaconda3/envs/learn-env/lib/python3.6/site-packages/sklearn/utils/validation.py\u001b[0m in \u001b[0;36mcheck_array\u001b[0;34m(array, accept_sparse, accept_large_sparse, dtype, order, copy, force_all_finite, ensure_2d, allow_nd, ensure_min_samples, ensure_min_features, warn_on_dtype, estimator)\u001b[0m\n\u001b[1;32m    494\u001b[0m             \u001b[0;32mtry\u001b[0m\u001b[0;34m:\u001b[0m\u001b[0;34m\u001b[0m\u001b[0;34m\u001b[0m\u001b[0m\n\u001b[1;32m    495\u001b[0m                 \u001b[0mwarnings\u001b[0m\u001b[0;34m.\u001b[0m\u001b[0msimplefilter\u001b[0m\u001b[0;34m(\u001b[0m\u001b[0;34m'error'\u001b[0m\u001b[0;34m,\u001b[0m \u001b[0mComplexWarning\u001b[0m\u001b[0;34m)\u001b[0m\u001b[0;34m\u001b[0m\u001b[0;34m\u001b[0m\u001b[0m\n\u001b[0;32m--> 496\u001b[0;31m                 \u001b[0marray\u001b[0m \u001b[0;34m=\u001b[0m \u001b[0mnp\u001b[0m\u001b[0;34m.\u001b[0m\u001b[0masarray\u001b[0m\u001b[0;34m(\u001b[0m\u001b[0marray\u001b[0m\u001b[0;34m,\u001b[0m \u001b[0mdtype\u001b[0m\u001b[0;34m=\u001b[0m\u001b[0mdtype\u001b[0m\u001b[0;34m,\u001b[0m \u001b[0morder\u001b[0m\u001b[0;34m=\u001b[0m\u001b[0morder\u001b[0m\u001b[0;34m)\u001b[0m\u001b[0;34m\u001b[0m\u001b[0;34m\u001b[0m\u001b[0m\n\u001b[0m\u001b[1;32m    497\u001b[0m             \u001b[0;32mexcept\u001b[0m \u001b[0mComplexWarning\u001b[0m\u001b[0;34m:\u001b[0m\u001b[0;34m\u001b[0m\u001b[0;34m\u001b[0m\u001b[0m\n\u001b[1;32m    498\u001b[0m                 raise ValueError(\"Complex data not supported\\n\"\n",
      "\u001b[0;32m/opt/anaconda3/envs/learn-env/lib/python3.6/site-packages/numpy/core/numeric.py\u001b[0m in \u001b[0;36masarray\u001b[0;34m(a, dtype, order)\u001b[0m\n\u001b[1;32m    536\u001b[0m \u001b[0;34m\u001b[0m\u001b[0m\n\u001b[1;32m    537\u001b[0m     \"\"\"\n\u001b[0;32m--> 538\u001b[0;31m     \u001b[0;32mreturn\u001b[0m \u001b[0marray\u001b[0m\u001b[0;34m(\u001b[0m\u001b[0ma\u001b[0m\u001b[0;34m,\u001b[0m \u001b[0mdtype\u001b[0m\u001b[0;34m,\u001b[0m \u001b[0mcopy\u001b[0m\u001b[0;34m=\u001b[0m\u001b[0;32mFalse\u001b[0m\u001b[0;34m,\u001b[0m \u001b[0morder\u001b[0m\u001b[0;34m=\u001b[0m\u001b[0morder\u001b[0m\u001b[0;34m)\u001b[0m\u001b[0;34m\u001b[0m\u001b[0;34m\u001b[0m\u001b[0m\n\u001b[0m\u001b[1;32m    539\u001b[0m \u001b[0;34m\u001b[0m\u001b[0m\n\u001b[1;32m    540\u001b[0m \u001b[0;34m\u001b[0m\u001b[0m\n",
      "\u001b[0;31mTypeError\u001b[0m: float() argument must be a string or a number, not 'AxesSubplot'"
     ]
    }
   ],
   "source": [
    "y = power_transform(_, method = 'box-cox')"
   ]
  },
  {
   "cell_type": "code",
   "execution_count": 166,
   "metadata": {},
   "outputs": [
    {
     "data": {
      "text/plain": [
       "<matplotlib.axes._subplots.AxesSubplot at 0x1cc07b5358>"
      ]
     },
     "execution_count": 166,
     "metadata": {},
     "output_type": "execute_result"
    },
    {
     "data": {
      "image/png": "[encoded data removed]",
      "text/plain": [
       "<Figure size 432x288 with 1 Axes>"
      ]
     },
     "metadata": {
      "needs_background": "light"
     },
     "output_type": "display_data"
    }
   ],
   "source": [
    "sns.distplot(df_filtered['ChildPoverty'])"
   ]
  },
  {
   "cell_type": "code",
   "execution_count": 167,
   "metadata": {},
   "outputs": [
    {
     "data": {
      "text/plain": [
       "<matplotlib.axes._subplots.AxesSubplot at 0x1cc118ac50>"
      ]
     },
     "execution_count": 167,
     "metadata": {},
     "output_type": "execute_result"
    },
    {
     "data": {
      "image/png": "[encoded data removed]",
      "text/plain": [
       "<Figure size 432x288 with 1 Axes>"
      ]
     },
     "metadata": {
      "needs_background": "light"
     },
     "output_type": "display_data"
    }
   ],
   "source": [
    "sns.distplot(df_filtered['Professional'])"
   ]
  },
  {
   "cell_type": "code",
   "execution_count": 168,
   "metadata": {},
   "outputs": [
    {
     "data": {
      "text/plain": [
       "<matplotlib.axes._subplots.AxesSubplot at 0x1cbe607c50>"
      ]
     },
     "execution_count": 168,
     "metadata": {},
     "output_type": "execute_result"
    },
    {
     "data": {
      "image/png": "[encoded data removed]",
      "text/plain": [
       "<Figure size 432x288 with 1 Axes>"
      ]
     },
     "metadata": {
      "needs_background": "light"
     },
     "output_type": "display_data"
    }
   ],
   "source": [
    "sns.distplot(df_filtered['Construction'])"
   ]
  },
  {
   "cell_type": "code",
   "execution_count": 169,
   "metadata": {},
   "outputs": [
    {
     "data": {
      "text/plain": [
       "<matplotlib.axes._subplots.AxesSubplot at 0x1cc1464da0>"
      ]
     },
     "execution_count": 169,
     "metadata": {},
     "output_type": "execute_result"
    },
    {
     "data": {
      "image/png": "[encoded data removed]",
      "text/plain": [
       "<Figure size 432x288 with 1 Axes>"
      ]
     },
     "metadata": {
      "needs_background": "light"
     },
     "output_type": "display_data"
    }
   ],
   "source": [
    "sns.distplot(df_filtered['Poverty'])"
   ]
  },
  {
   "cell_type": "code",
   "execution_count": 136,
   "metadata": {},
   "outputs": [
    {
     "data": {
      "image/png": "[encoded data removed]",
      "text/plain": [
       "<Figure size 576x396 with 1 Axes>"
      ]
     },
     "metadata": {},
     "output_type": "display_data"
    }
   ],
   "source": [
    "sns.distplot(df_filtered['Office'])\n",
    "plt.show()"
   ]
  },
  {
   "cell_type": "code",
   "execution_count": 135,
   "metadata": {},
   "outputs": [
    {
     "data": {
      "image/png": "[encoded data removed]",
      "text/plain": [
       "<Figure size 576x396 with 1 Axes>"
      ]
     },
     "metadata": {},
     "output_type": "display_data"
    }
   ],
   "source": [
    "sns.distplot(df_filtered['Service'])\n",
    "plt.show()"
   ]
  },
  {
   "cell_type": "code",
   "execution_count": 212,
   "metadata": {},
   "outputs": [],
   "source": [
    "# Create training and test sets\n",
    "X_train, X_test, y_train, y_test = train_test_split(\n",
    "    X**2, y, test_size=0.2, random_state = 45)"
   ]
  },
  {
   "cell_type": "code",
   "execution_count": 213,
   "metadata": {},
   "outputs": [],
   "source": [
    "ss = StandardScaler()\n",
    "scaledxtrain = ss.fit_transform(X_train)\n",
    "scaledxtest = ss.transform(X_test)"
   ]
  },
  {
   "cell_type": "code",
   "execution_count": 214,
   "metadata": {},
   "outputs": [
    {
     "data": {
      "text/html": [
       "<table class=\"simpletable\">\n",
       "<caption>OLS Regression Results</caption>\n",
       "<tr>\n",
       "  <th>Dep. Variable:</th>      <td>IncomePerCap</td>   <th>  R-squared:         </th>  <td>   0.735</td>  \n",
       "</tr>\n",
       "<tr>\n",
       "  <th>Model:</th>                   <td>OLS</td>       <th>  Adj. R-squared:    </th>  <td>   0.735</td>  \n",
       "</tr>\n",
       "<tr>\n",
       "  <th>Method:</th>             <td>Least Squares</td>  <th>  F-statistic:       </th>  <td>   6258.</td>  \n",
       "</tr>\n",
       "<tr>\n",
       "  <th>Date:</th>             <td>Tue, 03 Mar 2020</td> <th>  Prob (F-statistic):</th>   <td>  0.00</td>   \n",
       "</tr>\n",
       "<tr>\n",
       "  <th>Time:</th>                 <td>15:56:26</td>     <th>  Log-Likelihood:    </th> <td>-1.4111e+05</td>\n",
       "</tr>\n",
       "<tr>\n",
       "  <th>No. Observations:</th>      <td> 13559</td>      <th>  AIC:               </th>  <td>2.822e+05</td> \n",
       "</tr>\n",
       "<tr>\n",
       "  <th>Df Residuals:</th>          <td> 13552</td>      <th>  BIC:               </th>  <td>2.823e+05</td> \n",
       "</tr>\n",
       "<tr>\n",
       "  <th>Df Model:</th>              <td>     6</td>      <th>                     </th>      <td> </td>     \n",
       "</tr>\n",
       "<tr>\n",
       "  <th>Covariance Type:</th>      <td>nonrobust</td>    <th>                     </th>      <td> </td>     \n",
       "</tr>\n",
       "</table>\n",
       "<table class=\"simpletable\">\n",
       "<tr>\n",
       "    <td></td>       <th>coef</th>     <th>std err</th>      <th>t</th>      <th>P>|t|</th>  <th>[0.025</th>    <th>0.975]</th>  \n",
       "</tr>\n",
       "<tr>\n",
       "  <th>const</th> <td> 3.185e+04</td> <td>   68.790</td> <td>  463.059</td> <td> 0.000</td> <td> 3.17e+04</td> <td>  3.2e+04</td>\n",
       "</tr>\n",
       "<tr>\n",
       "  <th>x1</th>    <td>-3622.3626</td> <td>   84.279</td> <td>  -42.981</td> <td> 0.000</td> <td>-3787.561</td> <td>-3457.164</td>\n",
       "</tr>\n",
       "<tr>\n",
       "  <th>x2</th>    <td> 1.495e+04</td> <td>  154.750</td> <td>   96.636</td> <td> 0.000</td> <td> 1.47e+04</td> <td> 1.53e+04</td>\n",
       "</tr>\n",
       "<tr>\n",
       "  <th>x3</th>    <td> 2186.5676</td> <td>  116.166</td> <td>   18.823</td> <td> 0.000</td> <td> 1958.865</td> <td> 2414.270</td>\n",
       "</tr>\n",
       "<tr>\n",
       "  <th>x4</th>    <td> 1704.0198</td> <td>   95.470</td> <td>   17.849</td> <td> 0.000</td> <td> 1516.886</td> <td> 1891.154</td>\n",
       "</tr>\n",
       "<tr>\n",
       "  <th>x5</th>    <td> 2307.3498</td> <td>   97.545</td> <td>   23.654</td> <td> 0.000</td> <td> 2116.148</td> <td> 2498.551</td>\n",
       "</tr>\n",
       "<tr>\n",
       "  <th>x6</th>    <td> 1876.9152</td> <td>  103.269</td> <td>   18.175</td> <td> 0.000</td> <td> 1674.494</td> <td> 2079.337</td>\n",
       "</tr>\n",
       "</table>\n",
       "<table class=\"simpletable\">\n",
       "<tr>\n",
       "  <th>Omnibus:</th>       <td>9692.854</td> <th>  Durbin-Watson:     </th>  <td>   1.979</td> \n",
       "</tr>\n",
       "<tr>\n",
       "  <th>Prob(Omnibus):</th>  <td> 0.000</td>  <th>  Jarque-Bera (JB):  </th> <td>522876.041</td>\n",
       "</tr>\n",
       "<tr>\n",
       "  <th>Skew:</th>           <td> 2.865</td>  <th>  Prob(JB):          </th>  <td>    0.00</td> \n",
       "</tr>\n",
       "<tr>\n",
       "  <th>Kurtosis:</th>       <td>32.878</td>  <th>  Cond. No.          </th>  <td>    4.94</td> \n",
       "</tr>\n",
       "</table><br/><br/>Warnings:<br/>[1] Standard Errors assume that the covariance matrix of the errors is correctly specified."
      ],
      "text/plain": [
       "<class 'statsmodels.iolib.summary.Summary'>\n",
       "\"\"\"\n",
       "                            OLS Regression Results                            \n",
       "==============================================================================\n",
       "Dep. Variable:           IncomePerCap   R-squared:                       0.735\n",
       "Model:                            OLS   Adj. R-squared:                  0.735\n",
       "Method:                 Least Squares   F-statistic:                     6258.\n",
       "Date:                Tue, 03 Mar 2020   Prob (F-statistic):               0.00\n",
       "Time:                        15:56:26   Log-Likelihood:            -1.4111e+05\n",
       "No. Observations:               13559   AIC:                         2.822e+05\n",
       "Df Residuals:                   13552   BIC:                         2.823e+05\n",
       "Df Model:                           6                                         \n",
       "Covariance Type:            nonrobust                                         \n",
       "==============================================================================\n",
       "                 coef    std err          t      P>|t|      [0.025      0.975]\n",
       "------------------------------------------------------------------------------\n",
       "const       3.185e+04     68.790    463.059      0.000    3.17e+04     3.2e+04\n",
       "x1         -3622.3626     84.279    -42.981      0.000   -3787.561   -3457.164\n",
       "x2          1.495e+04    154.750     96.636      0.000    1.47e+04    1.53e+04\n",
       "x3          2186.5676    116.166     18.823      0.000    1958.865    2414.270\n",
       "x4          1704.0198     95.470     17.849      0.000    1516.886    1891.154\n",
       "x5          2307.3498     97.545     23.654      0.000    2116.148    2498.551\n",
       "x6          1876.9152    103.269     18.175      0.000    1674.494    2079.337\n",
       "==============================================================================\n",
       "Omnibus:                     9692.854   Durbin-Watson:                   1.979\n",
       "Prob(Omnibus):                  0.000   Jarque-Bera (JB):           522876.041\n",
       "Skew:                           2.865   Prob(JB):                         0.00\n",
       "Kurtosis:                      32.878   Cond. No.                         4.94\n",
       "==============================================================================\n",
       "\n",
       "Warnings:\n",
       "[1] Standard Errors assume that the covariance matrix of the errors is correctly specified.\n",
       "\"\"\""
      ]
     },
     "execution_count": 214,
     "metadata": {},
     "output_type": "execute_result"
    }
   ],
   "source": [
    "#X = df[refined_cols]\n",
    "X2 = sm.add_constant(scaledxtest)\n",
    "model = sm.OLS(y_test, X2, hasconst= True)\n",
    "res = model.fit()\n",
    "res.summary()"
   ]
  },
  {
   "cell_type": "code",
   "execution_count": 193,
   "metadata": {},
   "outputs": [
    {
     "name": "stdout",
     "output_type": "stream",
     "text": [
      "0.721496984112686\n"
     ]
    }
   ],
   "source": [
    "from sklearn.metrics import r2_score\n",
    "\n",
    "lr = LinearRegression()\n",
    "lr.fit(scaledxtrain, y_train)\n",
    "y_predict = lr.predict(scaledxtest)\n",
    "r_squared = r2_score(y_test, y_predict)\n",
    "print(r_squared)"
   ]
  },
  {
   "cell_type": "code",
   "execution_count": 194,
   "metadata": {},
   "outputs": [],
   "source": [
    "x_cols = df1.columns.tolist()\n"
   ]
  },
  {
   "cell_type": "code",
   "execution_count": 195,
   "metadata": {},
   "outputs": [
    {
     "data": {
      "text/plain": [
       "['IncomePerCap',\n",
       " 'Poverty',\n",
       " 'ChildPoverty',\n",
       " 'Professional',\n",
       " 'Service',\n",
       " 'Construction',\n",
       " 'Office',\n",
       " 'Production']"
      ]
     },
     "execution_count": 195,
     "metadata": {},
     "output_type": "execute_result"
    }
   ],
   "source": [
    "x_cols"
   ]
  },
  {
   "cell_type": "code",
   "execution_count": 196,
   "metadata": {},
   "outputs": [],
   "source": [
    "del x_cols[0]"
   ]
  },
  {
   "cell_type": "code",
   "execution_count": 197,
   "metadata": {},
   "outputs": [
    {
     "name": "stderr",
     "output_type": "stream",
     "text": [
      "/opt/anaconda3/envs/learn-env/lib/python3.6/site-packages/ipykernel_launcher.py:4: SettingWithCopyWarning: \n",
      "A value is trying to be set on a copy of a slice from a DataFrame.\n",
      "Try using .loc[row_indexer,col_indexer] = value instead\n",
      "\n",
      "See the caveats in the documentation: http://pandas.pydata.org/pandas-docs/stable/user_guide/indexing.html#returning-a-view-versus-a-copy\n",
      "  after removing the cwd from sys.path.\n"
     ]
    },
    {
     "data": {
      "text/html": [
       "<div>\n",
       "<style scoped>\n",
       "    .dataframe tbody tr th:only-of-type {\n",
       "        vertical-align: middle;\n",
       "    }\n",
       "\n",
       "    .dataframe tbody tr th {\n",
       "        vertical-align: top;\n",
       "    }\n",
       "\n",
       "    .dataframe thead th {\n",
       "        text-align: right;\n",
       "    }\n",
       "</style>\n",
       "<table border=\"1\" class=\"dataframe\">\n",
       "  <thead>\n",
       "    <tr style=\"text-align: right;\">\n",
       "      <th></th>\n",
       "      <th>IncomePerCap</th>\n",
       "      <th>Poverty</th>\n",
       "      <th>ChildPoverty</th>\n",
       "      <th>Professional</th>\n",
       "      <th>Service</th>\n",
       "      <th>Construction</th>\n",
       "      <th>Office</th>\n",
       "      <th>Production</th>\n",
       "    </tr>\n",
       "  </thead>\n",
       "  <tbody>\n",
       "    <tr>\n",
       "      <td>0</td>\n",
       "      <td>33018.0</td>\n",
       "      <td>-0.430194</td>\n",
       "      <td>-0.018763</td>\n",
       "      <td>0.195906</td>\n",
       "      <td>-0.407542</td>\n",
       "      <td>0.258579</td>\n",
       "      <td>-0.109663</td>\n",
       "      <td>-0.068793</td>\n",
       "    </tr>\n",
       "    <tr>\n",
       "      <td>1</td>\n",
       "      <td>18996.0</td>\n",
       "      <td>0.511180</td>\n",
       "      <td>0.788874</td>\n",
       "      <td>-0.336052</td>\n",
       "      <td>0.759391</td>\n",
       "      <td>-0.498506</td>\n",
       "      <td>-0.091778</td>\n",
       "      <td>0.326333</td>\n",
       "    </tr>\n",
       "    <tr>\n",
       "      <td>2</td>\n",
       "      <td>21236.0</td>\n",
       "      <td>-0.108357</td>\n",
       "      <td>-0.002610</td>\n",
       "      <td>-0.508938</td>\n",
       "      <td>0.069270</td>\n",
       "      <td>0.107162</td>\n",
       "      <td>1.768236</td>\n",
       "      <td>-0.437578</td>\n",
       "    </tr>\n",
       "    <tr>\n",
       "      <td>3</td>\n",
       "      <td>28068.0</td>\n",
       "      <td>-1.106052</td>\n",
       "      <td>-1.047153</td>\n",
       "      <td>-0.435794</td>\n",
       "      <td>-0.282065</td>\n",
       "      <td>-0.027431</td>\n",
       "      <td>0.426880</td>\n",
       "      <td>0.866339</td>\n",
       "    </tr>\n",
       "    <tr>\n",
       "      <td>4</td>\n",
       "      <td>36905.0</td>\n",
       "      <td>-0.309505</td>\n",
       "      <td>-0.174906</td>\n",
       "      <td>0.880801</td>\n",
       "      <td>-0.633400</td>\n",
       "      <td>-0.969581</td>\n",
       "      <td>-0.521012</td>\n",
       "      <td>0.062916</td>\n",
       "    </tr>\n",
       "  </tbody>\n",
       "</table>\n",
       "</div>"
      ],
      "text/plain": [
       "   IncomePerCap   Poverty  ChildPoverty  Professional   Service  Construction  \\\n",
       "0       33018.0 -0.430194     -0.018763      0.195906 -0.407542      0.258579   \n",
       "1       18996.0  0.511180      0.788874     -0.336052  0.759391     -0.498506   \n",
       "2       21236.0 -0.108357     -0.002610     -0.508938  0.069270      0.107162   \n",
       "3       28068.0 -1.106052     -1.047153     -0.435794 -0.282065     -0.027431   \n",
       "4       36905.0 -0.309505     -0.174906      0.880801 -0.633400     -0.969581   \n",
       "\n",
       "     Office  Production  \n",
       "0 -0.109663   -0.068793  \n",
       "1 -0.091778    0.326333  \n",
       "2  1.768236   -0.437578  \n",
       "3  0.426880    0.866339  \n",
       "4 -0.521012    0.062916  "
      ]
     },
     "execution_count": 197,
     "metadata": {},
     "output_type": "execute_result"
    }
   ],
   "source": [
    "\n",
    "for col in x_cols:\n",
    "    ## This is called standard scaling\n",
    "    ## Here we don't have to do this but still it is a good practice\n",
    "    df1[col] = (df1[col] - df1[col].mean())/df1[col].std()\n",
    "df1.head()"
   ]
  },
  {
   "cell_type": "code",
   "execution_count": 198,
   "metadata": {},
   "outputs": [
    {
     "name": "stdout",
     "output_type": "stream",
     "text": [
      "<class 'pandas.core.frame.DataFrame'>\n",
      "Int64Index: 72718 entries, 0 to 74000\n",
      "Data columns (total 8 columns):\n",
      "IncomePerCap    72718 non-null float64\n",
      "Poverty         72718 non-null float64\n",
      "ChildPoverty    72718 non-null float64\n",
      "Professional    72718 non-null float64\n",
      "Service         72718 non-null float64\n",
      "Construction    72718 non-null float64\n",
      "Office          72718 non-null float64\n",
      "Production      72718 non-null float64\n",
      "dtypes: float64(8)\n",
      "memory usage: 5.0 MB\n"
     ]
    }
   ],
   "source": [
    "df1.info()"
   ]
  },
  {
   "cell_type": "code",
   "execution_count": 38,
   "metadata": {},
   "outputs": [
    {
     "name": "stdout",
     "output_type": "stream",
     "text": [
      "Requirement already satisfied: yellowbrick in /opt/anaconda3/envs/learn-env/lib/python3.6/site-packages (1.1)\n",
      "Requirement already satisfied: scikit-learn>=0.20 in /opt/anaconda3/envs/learn-env/lib/python3.6/site-packages (from yellowbrick) (0.21.2)\n",
      "Requirement already satisfied: scipy>=1.0.0 in /opt/anaconda3/envs/learn-env/lib/python3.6/site-packages (from yellowbrick) (1.3.1)\n",
      "Requirement already satisfied: numpy>=1.13.0 in /opt/anaconda3/envs/learn-env/lib/python3.6/site-packages (from yellowbrick) (1.16.5)\n",
      "Requirement already satisfied: cycler>=0.10.0 in /opt/anaconda3/envs/learn-env/lib/python3.6/site-packages (from yellowbrick) (0.10.0)\n",
      "Requirement already satisfied: matplotlib!=3.0.0,>=2.0.2 in /opt/anaconda3/envs/learn-env/lib/python3.6/site-packages (from yellowbrick) (3.1.1)\n",
      "Requirement already satisfied: joblib>=0.11 in /opt/anaconda3/envs/learn-env/lib/python3.6/site-packages (from scikit-learn>=0.20->yellowbrick) (0.13.2)\n",
      "Requirement already satisfied: six in /opt/anaconda3/envs/learn-env/lib/python3.6/site-packages (from cycler>=0.10.0->yellowbrick) (1.12.0)\n",
      "Requirement already satisfied: kiwisolver>=1.0.1 in /opt/anaconda3/envs/learn-env/lib/python3.6/site-packages (from matplotlib!=3.0.0,>=2.0.2->yellowbrick) (1.1.0)\n",
      "Requirement already satisfied: pyparsing!=2.0.4,!=2.1.2,!=2.1.6,>=2.0.1 in /opt/anaconda3/envs/learn-env/lib/python3.6/site-packages (from matplotlib!=3.0.0,>=2.0.2->yellowbrick) (2.4.2)\n",
      "Requirement already satisfied: python-dateutil>=2.1 in /opt/anaconda3/envs/learn-env/lib/python3.6/site-packages (from matplotlib!=3.0.0,>=2.0.2->yellowbrick) (2.8.0)\n",
      "Requirement already satisfied: setuptools in /opt/anaconda3/envs/learn-env/lib/python3.6/site-packages (from kiwisolver>=1.0.1->matplotlib!=3.0.0,>=2.0.2->yellowbrick) (41.2.0)\n"
     ]
    }
   ],
   "source": [
    "!pip install yellowbrick"
   ]
  },
  {
   "cell_type": "markdown",
   "metadata": {},
   "source": [
    "Note about office"
   ]
  },
  {
   "cell_type": "code",
   "execution_count": 199,
   "metadata": {},
   "outputs": [
    {
     "data": {
      "text/plain": [
       "[('Poverty', 5.389234112076298),\n",
       " ('Professional', 5.131267328808303),\n",
       " ('Service', 8.996035057719112),\n",
       " ('Construction', 4.253069805696061),\n",
       " ('Office', 12.459546739831138),\n",
       " ('Production', 5.004795271609658)]"
      ]
     },
     "execution_count": 199,
     "metadata": {},
     "output_type": "execute_result"
    }
   ],
   "source": [
    "refined_cols = ['Poverty',\n",
    "        'Professional', 'Service','Construction', 'Office', \n",
    "       'Production']\n",
    "X = df_filtered[refined_cols]\n",
    "vif = [variance_inflation_factor(X.values, i) for i in range(X.shape[1])]\n",
    "list(zip(refined_cols, vif))"
   ]
  },
  {
   "cell_type": "code",
   "execution_count": 200,
   "metadata": {},
   "outputs": [
    {
     "data": {
      "text/html": [
       "<table class=\"simpletable\">\n",
       "<caption>OLS Regression Results</caption>\n",
       "<tr>\n",
       "  <th>Dep. Variable:</th>      <td>IncomePerCap</td>   <th>  R-squared:         </th>  <td>   0.680</td>  \n",
       "</tr>\n",
       "<tr>\n",
       "  <th>Model:</th>                   <td>OLS</td>       <th>  Adj. R-squared:    </th>  <td>   0.680</td>  \n",
       "</tr>\n",
       "<tr>\n",
       "  <th>Method:</th>             <td>Least Squares</td>  <th>  F-statistic:       </th>  <td>2.403e+04</td> \n",
       "</tr>\n",
       "<tr>\n",
       "  <th>Date:</th>             <td>Tue, 03 Mar 2020</td> <th>  Prob (F-statistic):</th>   <td>  0.00</td>   \n",
       "</tr>\n",
       "<tr>\n",
       "  <th>Time:</th>                 <td>15:54:02</td>     <th>  Log-Likelihood:    </th> <td>-7.1184e+05</td>\n",
       "</tr>\n",
       "<tr>\n",
       "  <th>No. Observations:</th>      <td> 67795</td>      <th>  AIC:               </th>  <td>1.424e+06</td> \n",
       "</tr>\n",
       "<tr>\n",
       "  <th>Df Residuals:</th>          <td> 67788</td>      <th>  BIC:               </th>  <td>1.424e+06</td> \n",
       "</tr>\n",
       "<tr>\n",
       "  <th>Df Model:</th>              <td>     6</td>      <th>                     </th>      <td> </td>     \n",
       "</tr>\n",
       "<tr>\n",
       "  <th>Covariance Type:</th>      <td>nonrobust</td>    <th>                     </th>      <td> </td>     \n",
       "</tr>\n",
       "</table>\n",
       "<table class=\"simpletable\">\n",
       "<tr>\n",
       "    <td></td>       <th>coef</th>     <th>std err</th>      <th>t</th>      <th>P>|t|</th>  <th>[0.025</th>    <th>0.975]</th>  \n",
       "</tr>\n",
       "<tr>\n",
       "  <th>const</th> <td>  1.59e+04</td> <td> 5.23e+04</td> <td>    0.304</td> <td> 0.761</td> <td>-8.66e+04</td> <td> 1.18e+05</td>\n",
       "</tr>\n",
       "<tr>\n",
       "  <th>x1</th>    <td> -327.4424</td> <td>    4.673</td> <td>  -70.069</td> <td> 0.000</td> <td> -336.602</td> <td> -318.283</td>\n",
       "</tr>\n",
       "<tr>\n",
       "  <th>x2</th>    <td>  667.3748</td> <td>  522.886</td> <td>    1.276</td> <td> 0.202</td> <td> -357.481</td> <td> 1692.231</td>\n",
       "</tr>\n",
       "<tr>\n",
       "  <th>x3</th>    <td>  -87.3277</td> <td>  522.939</td> <td>   -0.167</td> <td> 0.867</td> <td>-1112.288</td> <td>  937.633</td>\n",
       "</tr>\n",
       "<tr>\n",
       "  <th>x4</th>    <td>  -79.2221</td> <td>  522.911</td> <td>   -0.152</td> <td> 0.880</td> <td>-1104.126</td> <td>  945.682</td>\n",
       "</tr>\n",
       "<tr>\n",
       "  <th>x5</th>    <td>  -29.4400</td> <td>  522.920</td> <td>   -0.056</td> <td> 0.955</td> <td>-1054.362</td> <td>  995.482</td>\n",
       "</tr>\n",
       "<tr>\n",
       "  <th>x6</th>    <td>  -67.7754</td> <td>  522.939</td> <td>   -0.130</td> <td> 0.897</td> <td>-1092.735</td> <td>  957.185</td>\n",
       "</tr>\n",
       "</table>\n",
       "<table class=\"simpletable\">\n",
       "<tr>\n",
       "  <th>Omnibus:</th>       <td>51498.284</td> <th>  Durbin-Watson:     </th>  <td>   1.151</td>  \n",
       "</tr>\n",
       "<tr>\n",
       "  <th>Prob(Omnibus):</th>  <td> 0.000</td>   <th>  Jarque-Bera (JB):  </th> <td>2279028.902</td>\n",
       "</tr>\n",
       "<tr>\n",
       "  <th>Skew:</th>           <td> 3.245</td>   <th>  Prob(JB):          </th>  <td>    0.00</td>  \n",
       "</tr>\n",
       "<tr>\n",
       "  <th>Kurtosis:</th>       <td>30.653</td>   <th>  Cond. No.          </th>  <td>8.03e+04</td>  \n",
       "</tr>\n",
       "</table><br/><br/>Warnings:<br/>[1] Standard Errors assume that the covariance matrix of the errors is correctly specified.<br/>[2] The condition number is large, 8.03e+04. This might indicate that there are<br/>strong multicollinearity or other numerical problems."
      ],
      "text/plain": [
       "<class 'statsmodels.iolib.summary.Summary'>\n",
       "\"\"\"\n",
       "                            OLS Regression Results                            \n",
       "==============================================================================\n",
       "Dep. Variable:           IncomePerCap   R-squared:                       0.680\n",
       "Model:                            OLS   Adj. R-squared:                  0.680\n",
       "Method:                 Least Squares   F-statistic:                 2.403e+04\n",
       "Date:                Tue, 03 Mar 2020   Prob (F-statistic):               0.00\n",
       "Time:                        15:54:02   Log-Likelihood:            -7.1184e+05\n",
       "No. Observations:               67795   AIC:                         1.424e+06\n",
       "Df Residuals:                   67788   BIC:                         1.424e+06\n",
       "Df Model:                           6                                         \n",
       "Covariance Type:            nonrobust                                         \n",
       "==============================================================================\n",
       "                 coef    std err          t      P>|t|      [0.025      0.975]\n",
       "------------------------------------------------------------------------------\n",
       "const        1.59e+04   5.23e+04      0.304      0.761   -8.66e+04    1.18e+05\n",
       "x1          -327.4424      4.673    -70.069      0.000    -336.602    -318.283\n",
       "x2           667.3748    522.886      1.276      0.202    -357.481    1692.231\n",
       "x3           -87.3277    522.939     -0.167      0.867   -1112.288     937.633\n",
       "x4           -79.2221    522.911     -0.152      0.880   -1104.126     945.682\n",
       "x5           -29.4400    522.920     -0.056      0.955   -1054.362     995.482\n",
       "x6           -67.7754    522.939     -0.130      0.897   -1092.735     957.185\n",
       "==============================================================================\n",
       "Omnibus:                    51498.284   Durbin-Watson:                   1.151\n",
       "Prob(Omnibus):                  0.000   Jarque-Bera (JB):          2279028.902\n",
       "Skew:                           3.245   Prob(JB):                         0.00\n",
       "Kurtosis:                      30.653   Cond. No.                     8.03e+04\n",
       "==============================================================================\n",
       "\n",
       "Warnings:\n",
       "[1] Standard Errors assume that the covariance matrix of the errors is correctly specified.\n",
       "[2] The condition number is large, 8.03e+04. This might indicate that there are\n",
       "strong multicollinearity or other numerical problems.\n",
       "\"\"\""
      ]
     },
     "execution_count": 200,
     "metadata": {},
     "output_type": "execute_result"
    }
   ],
   "source": [
    "X = df_filtered[refined_cols]\n",
    "X = sm.add_constant(X.values)\n",
    "model = sm.OLS(y, X, hasconst= True)\n",
    "res = model.fit()\n",
    "res.summary()"
   ]
  },
  {
   "cell_type": "code",
   "execution_count": 201,
   "metadata": {},
   "outputs": [
    {
     "name": "stdout",
     "output_type": "stream",
     "text": [
      "[ True  True  True  True  True  True]\n"
     ]
    },
    {
     "data": {
      "text/html": [
       "<div>\n",
       "<style scoped>\n",
       "    .dataframe tbody tr th:only-of-type {\n",
       "        vertical-align: middle;\n",
       "    }\n",
       "\n",
       "    .dataframe tbody tr th {\n",
       "        vertical-align: top;\n",
       "    }\n",
       "\n",
       "    .dataframe thead th {\n",
       "        text-align: right;\n",
       "    }\n",
       "</style>\n",
       "<table border=\"1\" class=\"dataframe\">\n",
       "  <thead>\n",
       "    <tr style=\"text-align: right;\">\n",
       "      <th></th>\n",
       "      <th>Poverty</th>\n",
       "      <th>Professional</th>\n",
       "      <th>Service</th>\n",
       "      <th>Construction</th>\n",
       "      <th>Office</th>\n",
       "      <th>Production</th>\n",
       "    </tr>\n",
       "  </thead>\n",
       "  <tbody>\n",
       "    <tr>\n",
       "      <td>0</td>\n",
       "      <td>10.7</td>\n",
       "      <td>38.5</td>\n",
       "      <td>15.6</td>\n",
       "      <td>10.8</td>\n",
       "      <td>22.8</td>\n",
       "      <td>12.4</td>\n",
       "    </tr>\n",
       "    <tr>\n",
       "      <td>1</td>\n",
       "      <td>22.4</td>\n",
       "      <td>30.5</td>\n",
       "      <td>24.9</td>\n",
       "      <td>6.3</td>\n",
       "      <td>22.9</td>\n",
       "      <td>15.4</td>\n",
       "    </tr>\n",
       "    <tr>\n",
       "      <td>2</td>\n",
       "      <td>14.7</td>\n",
       "      <td>27.9</td>\n",
       "      <td>19.4</td>\n",
       "      <td>9.9</td>\n",
       "      <td>33.3</td>\n",
       "      <td>9.6</td>\n",
       "    </tr>\n",
       "    <tr>\n",
       "      <td>3</td>\n",
       "      <td>2.3</td>\n",
       "      <td>29.0</td>\n",
       "      <td>16.6</td>\n",
       "      <td>9.1</td>\n",
       "      <td>25.8</td>\n",
       "      <td>19.5</td>\n",
       "    </tr>\n",
       "    <tr>\n",
       "      <td>4</td>\n",
       "      <td>12.2</td>\n",
       "      <td>48.8</td>\n",
       "      <td>13.8</td>\n",
       "      <td>3.5</td>\n",
       "      <td>20.5</td>\n",
       "      <td>13.4</td>\n",
       "    </tr>\n",
       "  </tbody>\n",
       "</table>\n",
       "</div>"
      ],
      "text/plain": [
       "   Poverty  Professional  Service  Construction  Office  Production\n",
       "0     10.7          38.5     15.6          10.8    22.8        12.4\n",
       "1     22.4          30.5     24.9           6.3    22.9        15.4\n",
       "2     14.7          27.9     19.4           9.9    33.3         9.6\n",
       "3      2.3          29.0     16.6           9.1    25.8        19.5\n",
       "4     12.2          48.8     13.8           3.5    20.5        13.4"
      ]
     },
     "execution_count": 201,
     "metadata": {},
     "output_type": "execute_result"
    }
   ],
   "source": [
    "X = df_filtered[refined_cols]\n",
    "y = (df_filtered['IncomePerCap'])\n",
    "lm = LinearRegression()\n",
    "## instantiate the selector object\n",
    "selector = RFE(lm, n_features_to_select=6 )\n",
    "\n",
    "## fit the model\n",
    "selector.fit(X,y)\n",
    "## check which columns are selected\n",
    "ind = selector.get_support()\n",
    "print(ind)\n",
    "X.loc[:,ind].head()"
   ]
  },
  {
   "cell_type": "code",
   "execution_count": 202,
   "metadata": {},
   "outputs": [
    {
     "name": "stdout",
     "output_type": "stream",
     "text": [
      "0.6801553230444146\n"
     ]
    }
   ],
   "source": [
    "## let's compare the R2 scores with these predictors\n",
    "lm6 = selector.estimator_\n",
    "R2 = lm6.score(X.loc[:, ind],y)\n",
    "print(R2)"
   ]
  },
  {
   "cell_type": "code",
   "execution_count": 203,
   "metadata": {},
   "outputs": [
    {
     "name": "stdout",
     "output_type": "stream",
     "text": [
      "0.6801411687461911\n"
     ]
    }
   ],
   "source": [
    "R2_adj = 1- (1-R2)*(len(y)-1)/(len(y) - 3 - 1)\n",
    "print(R2_adj)"
   ]
  },
  {
   "cell_type": "code",
   "execution_count": 204,
   "metadata": {},
   "outputs": [
    {
     "name": "stdout",
     "output_type": "stream",
     "text": [
      "(67795, 1)\n",
      "(13559, 1)\n"
     ]
    }
   ],
   "source": [
    "print(y.values.reshape(-1,1).shape)\n",
    "print(y_predict.reshape(-1,1).shape)"
   ]
  },
  {
   "cell_type": "code",
   "execution_count": 119,
   "metadata": {},
   "outputs": [
    {
     "name": "stderr",
     "output_type": "stream",
     "text": [
      "/opt/anaconda3/envs/learn-env/lib/python3.6/site-packages/ipykernel_launcher.py:1: RuntimeWarning: divide by zero encountered in log\n",
      "  \"\"\"Entry point for launching an IPython kernel.\n"
     ]
    }
   ],
   "source": [
    "Xlog = np.log(X.values)"
   ]
  },
  {
   "cell_type": "code",
   "execution_count": 90,
   "metadata": {},
   "outputs": [
    {
     "data": {
      "text/plain": [
       "array([[2.37024374, 3.65065824, 2.74727091, 2.37954613, 3.12676054,\n",
       "        2.51769647],\n",
       "       [3.10906096, 3.41772668, 3.2148678 , 1.84054963, 3.13113691,\n",
       "        2.73436751],\n",
       "       [2.68784749, 3.32862669, 2.96527307, 2.29253476, 3.5055574 ,\n",
       "        2.2617631 ],\n",
       "       ...,\n",
       "       [3.96651119, 3.37758752, 3.16124671, 1.5260563 , 3.49347266,\n",
       "        2.2617631 ],\n",
       "       [3.91402101, 3.39450839, 3.02529108, 2.63188884, 3.36037539,\n",
       "        1.93152141],\n",
       "       [4.23988687, 2.51769647, 3.16968558, 2.87919846, 2.94968834,\n",
       "        3.29212629]])"
      ]
     },
     "execution_count": 90,
     "metadata": {},
     "output_type": "execute_result"
    }
   ],
   "source": [
    "Xlog"
   ]
  },
  {
   "cell_type": "code",
   "execution_count": 205,
   "metadata": {},
   "outputs": [
    {
     "data": {
      "text/plain": [
       "(13559,)"
      ]
     },
     "execution_count": 205,
     "metadata": {},
     "output_type": "execute_result"
    }
   ],
   "source": [
    "y_predict.shape"
   ]
  },
  {
   "cell_type": "code",
   "execution_count": 206,
   "metadata": {},
   "outputs": [],
   "source": [
    "y_predict = lm6.predict(X)\n"
   ]
  },
  {
   "cell_type": "code",
   "execution_count": 207,
   "metadata": {},
   "outputs": [
    {
     "data": {
      "text/plain": [
       "0        -1346.971237\n",
       "1        -5536.978789\n",
       "2        -4365.134052\n",
       "3        -2185.250787\n",
       "4        -4578.216279\n",
       "             ...     \n",
       "73966    -4831.590894\n",
       "73972    -8517.095141\n",
       "73994   -16841.651024\n",
       "73996   -18706.249042\n",
       "73997   -12165.408246\n",
       "Name: IncomePerCap, Length: 67795, dtype: float64"
      ]
     },
     "execution_count": 207,
     "metadata": {},
     "output_type": "execute_result"
    }
   ],
   "source": [
    "residuals = y - y_predict\n",
    "residuals"
   ]
  },
  {
   "cell_type": "code",
   "execution_count": 220,
   "metadata": {},
   "outputs": [
    {
     "ename": "SyntaxError",
     "evalue": "invalid syntax (<ipython-input-220-80c5a6c7d8a1>, line 6)",
     "output_type": "error",
     "traceback": [
      "\u001b[0;36m  File \u001b[0;32m\"<ipython-input-220-80c5a6c7d8a1>\"\u001b[0;36m, line \u001b[0;32m6\u001b[0m\n\u001b[0;31m    print clf.predict(predict_)\u001b[0m\n\u001b[0m            ^\u001b[0m\n\u001b[0;31mSyntaxError\u001b[0m\u001b[0;31m:\u001b[0m invalid syntax\n"
     ]
    }
   ],
   "source": [
    "poly = PolynomialFeatures(degree=2)\n",
    "X_ = poly.fit_transform(X)\n",
    "predict_ = poly.fit_transform(predict)\n",
    "clf = linear_model.LinearRegression()\n",
    "clf.fit(X_, y)\n",
    "print clf.predict(predict_)"
   ]
  },
  {
   "cell_type": "code",
   "execution_count": 208,
   "metadata": {},
   "outputs": [
    {
     "data": {
      "image/png": "[encoded data removed]",
      "text/plain": [
       "<Figure size 432x288 with 1 Axes>"
      ]
     },
     "metadata": {
      "needs_background": "light"
     },
     "output_type": "display_data"
    }
   ],
   "source": [
    "plt.scatter(y_predict, residuals)\n",
    "plt.plot(y_predict, [0 for i in range(len(df_filtered))])\n",
    "plt.show()"
   ]
  },
  {
   "cell_type": "code",
   "execution_count": 209,
   "metadata": {},
   "outputs": [
    {
     "data": {
      "image/png": "[encoded data removed]",
      "text/plain": [
       "<Figure size 432x288 with 1 Axes>"
      ]
     },
     "metadata": {
      "needs_background": "light"
     },
     "output_type": "display_data"
    }
   ],
   "source": [
    "fig = sm.graphics.qqplot(residuals, dist=stats.norm, line='45', fit=True)"
   ]
  },
  {
   "cell_type": "code",
   "execution_count": 210,
   "metadata": {},
   "outputs": [
    {
     "data": {
      "image/png": "[encoded data removed]",
      "text/plain": [
       "<Figure size 432x288 with 2 Axes>"
      ]
     },
     "metadata": {
      "needs_background": "light"
     },
     "output_type": "display_data"
    },
    {
     "data": {
      "text/plain": [
       "<matplotlib.axes._subplots.AxesSubplot at 0x1cc25cf940>"
      ]
     },
     "execution_count": 210,
     "metadata": {},
     "output_type": "execute_result"
    }
   ],
   "source": [
    "from yellowbrick.regressor import ResidualsPlot\n",
    "from sklearn.linear_model import LinearRegression\n",
    "from sklearn.model_selection import train_test_split\n",
    "\n",
    "# Create training and test sets\n",
    "\n",
    "\n",
    "\n",
    "visualizer = ResidualsPlot(LinearRegression())\n",
    "visualizer.fit(X_train, y_train)\n",
    "visualizer.score(X_test, y_test)\n",
    "visualizer.show()"
   ]
  },
  {
   "cell_type": "code",
   "execution_count": null,
   "metadata": {},
   "outputs": [],
   "source": []
  }
 ],
 "metadata": {
  "kernelspec": {
   "display_name": "Python 3",
   "language": "python",
   "name": "python3"
  },
  "language_info": {
   "codemirror_mode": {
    "name": "ipython",
    "version": 3
   },
   "file_extension": ".py",
   "mimetype": "text/x-python",
   "name": "python",
   "nbconvert_exporter": "python",
   "pygments_lexer": "ipython3",
   "version": "3.6.9"
  }
 },
 "nbformat": 4,
 "nbformat_minor": 4
}
